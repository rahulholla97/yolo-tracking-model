{
  "cells": [
    {
      "cell_type": "code",
      "execution_count": null,
      "metadata": {
        "colab": {
          "base_uri": "https://localhost:8080/"
        },
        "id": "9bCv1kYwvGVY",
        "outputId": "a92a0cbb-b6d2-4280-b92d-5417f28b1bbf"
      },
      "outputs": [
        {
          "name": "stdout",
          "output_type": "stream",
          "text": [
            "  % Total    % Received % Xferd  Average Speed   Time    Time     Time  Current\n",
            "                                 Dload  Upload   Total   Spent    Left  Speed\n",
            "100   903  100   903    0     0   1526      0 --:--:-- --:--:-- --:--:--  1525\n",
            "100 46.5M  100 46.5M    0     0  7565k      0  0:00:06  0:00:06 --:--:-- 10.3M\n",
            "Archive:  roboflow.zip\n",
            " extracting: README.dataset.txt      \n",
            " extracting: README.roboflow.txt     \n",
            " extracting: data.yaml               \n",
            "   creating: test/\n",
            "   creating: test/images/\n",
            " extracting: test/images/adult_100_jpeg.rf.97a7e845bba8698606081ee76924511e.jpg  \n",
            " extracting: test/images/adult_137_jpeg.rf.1f2eabc1cc0517072a8fafde76c1fb5d.jpg  \n",
            " extracting: test/images/adult_4_jpeg.rf.2064e616762721b7fb6f3598d1d9ff75.jpg  \n",
            " extracting: test/images/adult_73_jpeg.rf.6de98ffb135bcec5537d7fdb302ca7be.jpg  \n",
            " extracting: test/images/baby_100_jpeg.rf.14ad31e876c59e665b1d1ae482df2d81.jpg  \n",
            " extracting: test/images/baby_104_jpeg.rf.f1dac268a01ca75517a4d0008a894666.jpg  \n",
            " extracting: test/images/baby_124_jpeg.rf.5570360b3c014af93954b62735b69408.jpg  \n",
            " extracting: test/images/baby_40_jpeg.rf.17ffa0d80050962ac2f5c7e94f2dfa47.jpg  \n",
            " extracting: test/images/baby_71_jpeg.rf.2a5fefbea5a204e2ba35272051d6b3e2.jpg  \n",
            " extracting: test/images/child_114_png.rf.d9d6e1b8184bbdd236d469f14d17478d.jpg  \n",
            " extracting: test/images/child_12_jpeg.rf.b95e252206037d3b515d1720bf480788.jpg  \n",
            " extracting: test/images/child_132_jpeg.rf.58b7801270aed120f2cad5fc6ed2d48a.jpg  \n",
            " extracting: test/images/child_33_jpeg.rf.5d8d35677f465b19c737fdc15f4dd9d0.jpg  \n",
            " extracting: test/images/child_35_jpeg.rf.ee27b04cbf2187acb354573a1212567d.jpg  \n",
            " extracting: test/images/child_36_jpeg.rf.8a0473ac8c30b9e8834f943222613c7b.jpg  \n",
            " extracting: test/images/child_43_jpeg.rf.5cc8bc4b740f48f2bff0aefc5112e5f2.jpg  \n",
            " extracting: test/images/child_5_jpeg.rf.9dd7029eba3a0ca4923283891946b94c.jpg  \n",
            " extracting: test/images/child_67_jpeg.rf.1beec74e367b321f8a73ed88c366222b.jpg  \n",
            " extracting: test/images/children_100_jpeg.rf.a8884189db1027c24e04d54851703cba.jpg  \n",
            " extracting: test/images/children_36_jpeg.rf.df65f6e87f51bf49dfb6ef8f811c650c.jpg  \n",
            " extracting: test/images/children_46_jpeg.rf.d5144806566c06a15b81e1c48f83a62f.jpg  \n",
            " extracting: test/images/children_58_png.rf.a085b5d8a06877b70b650fb41b4bb159.jpg  \n",
            " extracting: test/images/children_65_jpeg.rf.0af156ca47eddd2183192b3f1668636a.jpg  \n",
            " extracting: test/images/family_12_jpeg.rf.766f66f7be4e313a88d887aeb309cf33.jpg  \n",
            " extracting: test/images/family_41_png.rf.96e6ec30e266388f3dc520a5056a1ff6.jpg  \n",
            " extracting: test/images/full-body_23_jpeg.rf.9b93e0f391515d3703aa62f8b90d44ee.jpg  \n",
            " extracting: test/images/full-body_61_jpeg.rf.a582a207f08a74043327e4ae35d5b1c6.jpg  \n",
            " extracting: test/images/kid-from-the-back_11_png.rf.6736f7d5888707cefc8761145a460d61.jpg  \n",
            " extracting: test/images/kid-from-the-back_20_jpeg.rf.029afaca7e05bef39bfcd81f25fefc4d.jpg  \n",
            " extracting: test/images/kid-from-the-back_30_jpeg.rf.1b42c42515eddf4934f0e7612cb5f182.jpg  \n",
            " extracting: test/images/kid-from-the-back_43_jpeg.rf.7775128f94e6a1cdc854f0748df865a1.jpg  \n",
            " extracting: test/images/kid-from-the-back_63_jpeg.rf.a61757a42148f2c4ac9b41bf85a1ea4d.jpg  \n",
            " extracting: test/images/kid_16_jpeg.rf.2d0fb3c95318a39a02b7f995a17614df.jpg  \n",
            " extracting: test/images/kid_21_jpeg.rf.5ba31fedd93de2d016d3cb7da5c43c8c.jpg  \n",
            " extracting: test/images/kid_51_jpeg.rf.f66efeb500afe336946c613c3fe15389.jpg  \n",
            " extracting: test/images/kid_57_jpeg.rf.88a936c09271ac372660504a0500910b.jpg  \n",
            " extracting: test/images/kid_67_jpeg.rf.fc6282238a8048033d7481d6a276cf85.jpg  \n",
            " extracting: test/images/kid_7_jpeg.rf.a21958d50c4d73271efbccfc01fc7726.jpg  \n",
            " extracting: test/images/people-from-the-back_26_png.rf.d03f26787d7797eb632c6009bed8100e.jpg  \n",
            " extracting: test/images/people-from-the-back_65_jpeg.rf.238d9579da2bd8299334017ad8ee2fc6.jpg  \n",
            " extracting: test/images/people_20_jpeg.rf.b94d6ec1a291ef4bc0216179d43aa17d.jpg  \n",
            " extracting: test/images/people_23_jpeg.rf.e6a96dfd783d4db5207e3763cb24ee17.jpg  \n",
            " extracting: test/images/people_29_jpeg.rf.18727ad6859d22e669630cb9eaaa93ec.jpg  \n",
            " extracting: test/images/people_50_jpeg.rf.312dc9c56ca033b6abb82c6694ebe29c.jpg  \n",
            " extracting: test/images/pool-day_56_jpeg.rf.257627a69d24ded1b4030381315e327f.jpg  \n",
            "   creating: test/labels/\n",
            " extracting: test/labels/adult_100_jpeg.rf.97a7e845bba8698606081ee76924511e.txt  \n",
            " extracting: test/labels/adult_137_jpeg.rf.1f2eabc1cc0517072a8fafde76c1fb5d.txt  \n",
            " extracting: test/labels/adult_4_jpeg.rf.2064e616762721b7fb6f3598d1d9ff75.txt  \n",
            " extracting: test/labels/adult_73_jpeg.rf.6de98ffb135bcec5537d7fdb302ca7be.txt  \n",
            " extracting: test/labels/baby_100_jpeg.rf.14ad31e876c59e665b1d1ae482df2d81.txt  \n",
            " extracting: test/labels/baby_104_jpeg.rf.f1dac268a01ca75517a4d0008a894666.txt  \n",
            " extracting: test/labels/baby_124_jpeg.rf.5570360b3c014af93954b62735b69408.txt  \n",
            " extracting: test/labels/baby_40_jpeg.rf.17ffa0d80050962ac2f5c7e94f2dfa47.txt  \n",
            " extracting: test/labels/baby_71_jpeg.rf.2a5fefbea5a204e2ba35272051d6b3e2.txt  \n",
            " extracting: test/labels/child_114_png.rf.d9d6e1b8184bbdd236d469f14d17478d.txt  \n",
            " extracting: test/labels/child_12_jpeg.rf.b95e252206037d3b515d1720bf480788.txt  \n",
            " extracting: test/labels/child_132_jpeg.rf.58b7801270aed120f2cad5fc6ed2d48a.txt  \n",
            " extracting: test/labels/child_33_jpeg.rf.5d8d35677f465b19c737fdc15f4dd9d0.txt  \n",
            " extracting: test/labels/child_35_jpeg.rf.ee27b04cbf2187acb354573a1212567d.txt  \n",
            " extracting: test/labels/child_36_jpeg.rf.8a0473ac8c30b9e8834f943222613c7b.txt  \n",
            " extracting: test/labels/child_43_jpeg.rf.5cc8bc4b740f48f2bff0aefc5112e5f2.txt  \n",
            " extracting: test/labels/child_5_jpeg.rf.9dd7029eba3a0ca4923283891946b94c.txt  \n",
            " extracting: test/labels/child_67_jpeg.rf.1beec74e367b321f8a73ed88c366222b.txt  \n",
            " extracting: test/labels/children_100_jpeg.rf.a8884189db1027c24e04d54851703cba.txt  \n",
            " extracting: test/labels/children_36_jpeg.rf.df65f6e87f51bf49dfb6ef8f811c650c.txt  \n",
            " extracting: test/labels/children_46_jpeg.rf.d5144806566c06a15b81e1c48f83a62f.txt  \n",
            " extracting: test/labels/children_58_png.rf.a085b5d8a06877b70b650fb41b4bb159.txt  \n",
            " extracting: test/labels/children_65_jpeg.rf.0af156ca47eddd2183192b3f1668636a.txt  \n",
            " extracting: test/labels/family_12_jpeg.rf.766f66f7be4e313a88d887aeb309cf33.txt  \n",
            " extracting: test/labels/family_41_png.rf.96e6ec30e266388f3dc520a5056a1ff6.txt  \n",
            " extracting: test/labels/full-body_23_jpeg.rf.9b93e0f391515d3703aa62f8b90d44ee.txt  \n",
            " extracting: test/labels/full-body_61_jpeg.rf.a582a207f08a74043327e4ae35d5b1c6.txt  \n",
            " extracting: test/labels/kid-from-the-back_11_png.rf.6736f7d5888707cefc8761145a460d61.txt  \n",
            " extracting: test/labels/kid-from-the-back_20_jpeg.rf.029afaca7e05bef39bfcd81f25fefc4d.txt  \n",
            " extracting: test/labels/kid-from-the-back_30_jpeg.rf.1b42c42515eddf4934f0e7612cb5f182.txt  \n",
            " extracting: test/labels/kid-from-the-back_43_jpeg.rf.7775128f94e6a1cdc854f0748df865a1.txt  \n",
            " extracting: test/labels/kid-from-the-back_63_jpeg.rf.a61757a42148f2c4ac9b41bf85a1ea4d.txt  \n",
            " extracting: test/labels/kid_16_jpeg.rf.2d0fb3c95318a39a02b7f995a17614df.txt  \n",
            " extracting: test/labels/kid_21_jpeg.rf.5ba31fedd93de2d016d3cb7da5c43c8c.txt  \n",
            " extracting: test/labels/kid_51_jpeg.rf.f66efeb500afe336946c613c3fe15389.txt  \n",
            " extracting: test/labels/kid_57_jpeg.rf.88a936c09271ac372660504a0500910b.txt  \n",
            " extracting: test/labels/kid_67_jpeg.rf.fc6282238a8048033d7481d6a276cf85.txt  \n",
            " extracting: test/labels/kid_7_jpeg.rf.a21958d50c4d73271efbccfc01fc7726.txt  \n",
            " extracting: test/labels/people-from-the-back_26_png.rf.d03f26787d7797eb632c6009bed8100e.txt  \n",
            " extracting: test/labels/people-from-the-back_65_jpeg.rf.238d9579da2bd8299334017ad8ee2fc6.txt  \n",
            " extracting: test/labels/people_20_jpeg.rf.b94d6ec1a291ef4bc0216179d43aa17d.txt  \n",
            " extracting: test/labels/people_23_jpeg.rf.e6a96dfd783d4db5207e3763cb24ee17.txt  \n",
            " extracting: test/labels/people_29_jpeg.rf.18727ad6859d22e669630cb9eaaa93ec.txt  \n",
            " extracting: test/labels/people_50_jpeg.rf.312dc9c56ca033b6abb82c6694ebe29c.txt  \n",
            " extracting: test/labels/pool-day_56_jpeg.rf.257627a69d24ded1b4030381315e327f.txt  \n",
            "   creating: train/\n",
            "   creating: train/images/\n",
            " extracting: train/images/adult_102_jpeg.rf.5f86679ab7a025d6aaefc22e2193c9fc.jpg  \n",
            " extracting: train/images/adult_102_jpeg.rf.7e746f575376bcc30aa5f77c67be30ef.jpg  \n",
            " extracting: train/images/adult_102_jpeg.rf.89238f3bc4fd34493f6fc33d05b5a1d1.jpg  \n",
            " extracting: train/images/adult_106_jpeg.rf.28285dc5d6dd5367671ba72d8633c4fd.jpg  \n",
            " extracting: train/images/adult_106_jpeg.rf.a853708fab02009ca2d32862a6c31f4b.jpg  \n",
            " extracting: train/images/adult_106_jpeg.rf.e11c2793c02a2e969d7da0cef2d6fb16.jpg  \n",
            " extracting: train/images/adult_107_jpeg.rf.62fedc8a9f4442c47eaaeabcfa2d8f62.jpg  \n",
            " extracting: train/images/adult_107_jpeg.rf.a824953c24298ba0af76abbf4e3141df.jpg  \n",
            " extracting: train/images/adult_107_jpeg.rf.ef43de948ff91c683a01c642647e01c0.jpg  \n",
            " extracting: train/images/adult_108_jpeg.rf.3bef25e6ec673e452e4174f275c374cb.jpg  \n",
            " extracting: train/images/adult_108_jpeg.rf.86542b53f20bf8e48ffd81696e64aaab.jpg  \n",
            " extracting: train/images/adult_108_jpeg.rf.f01e5e8455c341adad713c238dab934e.jpg  \n",
            " extracting: train/images/adult_109_png.rf.1d4fbbb334e86946f1e3a32b2075b8d8.jpg  \n",
            " extracting: train/images/adult_109_png.rf.5c959e84ca42fae02bd845fd2f5211d3.jpg  \n",
            " extracting: train/images/adult_109_png.rf.cb65eeb2f0e62613e048d5b54c61896c.jpg  \n",
            " extracting: train/images/adult_10_jpeg.rf.4d6567d05d362feaaa74de272159f2a1.jpg  \n",
            " extracting: train/images/adult_10_jpeg.rf.8bb60ca1da424ca9838ddebe03896671.jpg  \n",
            " extracting: train/images/adult_10_jpeg.rf.ec0e3949c2fc34ef1e418933550f145e.jpg  \n",
            " extracting: train/images/adult_110_jpeg.rf.121c2a8a302c733cab98f9bcaf8afb3b.jpg  \n",
            " extracting: train/images/adult_110_jpeg.rf.21c0d8b2dfecccbc8a43605587ef65f2.jpg  \n",
            " extracting: train/images/adult_110_jpeg.rf.ef49abd851ca4504bf9af439e140d28b.jpg  \n",
            " extracting: train/images/adult_113_jpeg.rf.5647c31112368fd9e98e1b3cfc929735.jpg  \n",
            " extracting: train/images/adult_113_jpeg.rf.61eefcc55bcb6c3339f9b9039cc42d2b.jpg  \n",
            " extracting: train/images/adult_113_jpeg.rf.e8384b5019c29f2c7f91db1493512d0e.jpg  \n",
            " extracting: train/images/adult_115_jpeg.rf.15563da3c027473d899f66e9e90d9278.jpg  \n",
            " extracting: train/images/adult_115_jpeg.rf.5fa24175304d9f3bd7c88b42bedfbadb.jpg  \n",
            " extracting: train/images/adult_115_jpeg.rf.f425784f923f6276a24b4d2f1cb85157.jpg  \n",
            " extracting: train/images/adult_118_jpeg.rf.0439ae762495df1191363c19222720fe.jpg  \n",
            " extracting: train/images/adult_118_jpeg.rf.756214a2ac58c9da892d34bdf2ecd6bb.jpg  \n",
            " extracting: train/images/adult_118_jpeg.rf.fcb92ebb9b2a0cfd35d4ba5d875a4e3e.jpg  \n",
            " extracting: train/images/adult_125_jpeg.rf.1b7ecbb05677b00a72c277f093c38f7c.jpg  \n",
            " extracting: train/images/adult_125_jpeg.rf.3bae82d2dd4df0e2db51b5b22a1c039c.jpg  \n",
            " extracting: train/images/adult_125_jpeg.rf.e66cd599e600b52038681ba90b2f7c83.jpg  \n",
            " extracting: train/images/adult_126_jpeg.rf.414f5855d4ab0a7fc8163d4225baa1ff.jpg  \n",
            " extracting: train/images/adult_126_jpeg.rf.5883f306d839d946321d2395a08c51ae.jpg  \n",
            " extracting: train/images/adult_126_jpeg.rf.fbbf04443ed5b35525d8cbf377e36cad.jpg  \n",
            " extracting: train/images/adult_12_jpeg.rf.32bcd530e1f0abacbeb45851abf12e7e.jpg  \n",
            " extracting: train/images/adult_12_jpeg.rf.849f5e129345d5f2568492aa15e00f8f.jpg  \n",
            " extracting: train/images/adult_12_jpeg.rf.bbfa733ab4cd541b6e7faae183bbd2a9.jpg  \n",
            " extracting: train/images/adult_131_jpeg.rf.0e06647d2fde505d738a260c41e59c88.jpg  \n",
            " extracting: train/images/adult_131_jpeg.rf.9cc038343ec4de40bc03b990ea554b84.jpg  \n",
            " extracting: train/images/adult_131_jpeg.rf.c745849f392e50f208cab994a3cdda9e.jpg  \n",
            " extracting: train/images/adult_132_jpeg.rf.18d55ac7352be0153017691451477c01.jpg  \n",
            " extracting: train/images/adult_132_jpeg.rf.2defb3c94b4e654afa837f3b1141d796.jpg  \n",
            " extracting: train/images/adult_132_jpeg.rf.e7e70e9e6b37c41d25215e22d843e21f.jpg  \n",
            " extracting: train/images/adult_133_jpeg.rf.3195234e011ea97c122227e2db686363.jpg  \n",
            " extracting: train/images/adult_133_jpeg.rf.c89d04afe25d07b4274ab2a6d76006eb.jpg  \n",
            " extracting: train/images/adult_133_jpeg.rf.ef61c0a83203e5f7aec4199bc9bebbb8.jpg  \n",
            " extracting: train/images/adult_134_png.rf.17fae053b08d0d94dc454132bc651da6.jpg  \n",
            " extracting: train/images/adult_134_png.rf.68a506e817e222f166ed448d0890f74a.jpg  \n",
            " extracting: train/images/adult_134_png.rf.81d0da58351cab7cf0193e04e4b9596e.jpg  \n",
            " extracting: train/images/adult_13_jpeg.rf.7b35771df68447e94e8282fa7ca64985.jpg  \n",
            " extracting: train/images/adult_13_jpeg.rf.8d913399312220a3a73d91a1cc83004d.jpg  \n",
            " extracting: train/images/adult_13_jpeg.rf.ccdfcd1406cd6bdef3d5fd0a53785110.jpg  \n",
            " extracting: train/images/adult_14_png.rf.b6fe6840a843bbc8ce74791c003c1071.jpg  \n",
            " extracting: train/images/adult_14_png.rf.c891d5389a665b447fafd3b52c3aad43.jpg  \n",
            " extracting: train/images/adult_14_png.rf.d0caded24029636e5890575efcade680.jpg  \n",
            " extracting: train/images/adult_15_jpeg.rf.2d0c924444728ef3e85576cb21e8d5a4.jpg  \n",
            " extracting: train/images/adult_15_jpeg.rf.5afd76669e518994a5f9c5fc9cc467ae.jpg  \n",
            " extracting: train/images/adult_15_jpeg.rf.d80f5858706920cec3e9d6ff8187520d.jpg  \n",
            " extracting: train/images/adult_17_jpeg.rf.0cf72d9bea7c3d0a35f09dc7f16cc6ec.jpg  \n",
            " extracting: train/images/adult_17_jpeg.rf.3f7dcc77397b971c09a710e75404733d.jpg  \n",
            " extracting: train/images/adult_17_jpeg.rf.ae4b36a654607bab9d39f26238b949bb.jpg  \n",
            " extracting: train/images/adult_18_jpeg.rf.94f85d06a683a584e87555effb19a516.jpg  \n",
            " extracting: train/images/adult_18_jpeg.rf.9d42e15a78c20360f2200281bdcad704.jpg  \n",
            " extracting: train/images/adult_18_jpeg.rf.da6c68aa761ab05e0105f4e2325b46c4.jpg  \n",
            " extracting: train/images/adult_21_jpeg.rf.13e73d2bdae50b1995102f8b4a9684bc.jpg  \n",
            " extracting: train/images/adult_21_jpeg.rf.20316e819494503b0cbdb587687c64e5.jpg  \n",
            " extracting: train/images/adult_21_jpeg.rf.66be0e543f3f456182debd97b89dfc37.jpg  \n",
            " extracting: train/images/adult_22_png.rf.33988298b4298ab53edd16e4a2c30b9d.jpg  \n",
            " extracting: train/images/adult_22_png.rf.47186ff9e02c5c3a47a228bb7ae211b6.jpg  \n",
            " extracting: train/images/adult_22_png.rf.a6674fa2e22c85413ad7d14d8b7e09b7.jpg  \n",
            " extracting: train/images/adult_23_jpeg.rf.4e284b0f435d1d72bda0cceb8c99b3c0.jpg  \n",
            " extracting: train/images/adult_23_jpeg.rf.6c65f6906d005a6b081da6243a2df598.jpg  \n",
            " extracting: train/images/adult_23_jpeg.rf.d92a2777bed6bf55969b332d56d50473.jpg  \n",
            " extracting: train/images/adult_45_jpeg.rf.6fe9f8d1bf7c2be5945ba96b7fbd2848.jpg  \n",
            " extracting: train/images/adult_45_jpeg.rf.d57c61778300dcfae5f931b816e522aa.jpg  \n",
            " extracting: train/images/adult_45_jpeg.rf.f62ee86d38715f0a134a1ab0baca7ff2.jpg  \n",
            " extracting: train/images/adult_49_jpeg.rf.ab0f53d3cee9a59d332b034e7dd0d102.jpg  \n",
            " extracting: train/images/adult_49_jpeg.rf.ae932bb709b75b7e038d6760ef2cf4c8.jpg  \n",
            " extracting: train/images/adult_49_jpeg.rf.bbc6e74254d51a82d69041c117003e8f.jpg  \n",
            " extracting: train/images/adult_52_jpeg.rf.5e5d26f0ffeb8f98eaec941fa729895e.jpg  \n",
            " extracting: train/images/adult_52_jpeg.rf.ce046ba8f6de61f709a4d4b7f37edeb7.jpg  \n",
            " extracting: train/images/adult_52_jpeg.rf.e77dcca1c7c9f49dbcc442b789260a23.jpg  \n",
            " extracting: train/images/adult_55_jpeg.rf.0347f0940999740bbb736d84d5e1ae0d.jpg  \n",
            " extracting: train/images/adult_55_jpeg.rf.2b2ac475cc0b99c2b8ac0696a6ba92fe.jpg  \n",
            " extracting: train/images/adult_55_jpeg.rf.7203873cb912f6329fcabef9ba453033.jpg  \n",
            " extracting: train/images/adult_5_jpeg.rf.d72f4d25e9b003bda476ed318ad3cb5a.jpg  \n",
            " extracting: train/images/adult_5_jpeg.rf.eab4e2428b478c544100dbbc0bf0c567.jpg  \n",
            " extracting: train/images/adult_5_jpeg.rf.eccb04aa9388eb7941f206913e96d17e.jpg  \n",
            " extracting: train/images/adult_61_jpeg.rf.5d6856ab21b80d1607483c8eee28e235.jpg  \n",
            " extracting: train/images/adult_61_jpeg.rf.6b1b3baff49385d1e3804b07343f69a2.jpg  \n",
            " extracting: train/images/adult_61_jpeg.rf.e7e9cf26fed3cd0da81043fd3334b1b9.jpg  \n",
            " extracting: train/images/adult_63_jpeg.rf.06ccc4d59abbd965d05b04aaa6e2e2df.jpg  \n",
            " extracting: train/images/adult_63_jpeg.rf.0ca8f862a6068f5c7ab8fea55c97d6ed.jpg  \n",
            " extracting: train/images/adult_6_jpeg.rf.2bbbbec102717b6dce3da1166d90c9c2.jpg  \n",
            " extracting: train/images/adult_6_jpeg.rf.be5a2f50468b1ce262e85c6050856fc5.jpg  \n",
            " extracting: train/images/adult_6_jpeg.rf.c90b6434c901af8394972352b7fe7699.jpg  \n",
            " extracting: train/images/adult_70_jpeg.rf.73cbd7a83eae2512cb6b30097f0a12c4.jpg  \n",
            " extracting: train/images/adult_70_jpeg.rf.a1eb883fdbfe5679a6ccb665737d4ab5.jpg  \n",
            " extracting: train/images/adult_70_jpeg.rf.eaefd46d36bc112632baa325a359b8ed.jpg  \n",
            " extracting: train/images/adult_8_jpeg.rf.4e6bf82fb3e2b6c5357e7ad08d37110e.jpg  \n",
            " extracting: train/images/adult_8_jpeg.rf.5e92d7d22269931d141d981069df707f.jpg  \n",
            " extracting: train/images/adult_8_jpeg.rf.6bbe5206b2de80e1fc3d124b8b2d85c5.jpg  \n",
            " extracting: train/images/baby_103_jpeg.rf.66d7587e22cd87cfb4c1d194951a58bc.jpg  \n",
            " extracting: train/images/baby_103_jpeg.rf.9101ccb2fe9f9f2b1a8f27b9b8c28d08.jpg  \n",
            " extracting: train/images/baby_103_jpeg.rf.c78162a2f942ef5d90181c072776af3e.jpg  \n",
            " extracting: train/images/baby_105_jpeg.rf.3cc917aebac7a4f992dd918463c0dd98.jpg  \n",
            " extracting: train/images/baby_105_jpeg.rf.c866046b6a7828f75fc9d021c28a1c7e.jpg  \n",
            " extracting: train/images/baby_105_jpeg.rf.d3a903c6b45a2998403c97435623c406.jpg  \n",
            " extracting: train/images/baby_108_jpeg.rf.1e4e56a86d0b2f2cdcc3cb942f429461.jpg  \n",
            " extracting: train/images/baby_108_jpeg.rf.7bebab535b1bca86cbfbf80f705b091d.jpg  \n",
            " extracting: train/images/baby_108_jpeg.rf.c46463532dbeaafeb81394477ab2ab9e.jpg  \n",
            " extracting: train/images/baby_10_jpeg.rf.046fab1c62f739b02dfe766e25d6fedc.jpg  \n",
            " extracting: train/images/baby_10_jpeg.rf.43c0efce5c55d69530e9fca100e0d641.jpg  \n",
            " extracting: train/images/baby_10_jpeg.rf.cef70532e7d9f0769b2d599e0df628b3.jpg  \n",
            " extracting: train/images/baby_113_jpeg.rf.362285907057e22a0a46518f13bc6f64.jpg  \n",
            " extracting: train/images/baby_113_jpeg.rf.7ae8728d77cf0850bce8449fdecb3664.jpg  \n",
            " extracting: train/images/baby_113_jpeg.rf.f51a0ba20b40a59de9773bc5717e5882.jpg  \n",
            " extracting: train/images/baby_117_jpeg.rf.8a3f3ddf3478625596cf623f08324e9a.jpg  \n",
            " extracting: train/images/baby_117_jpeg.rf.93e76811b864531d80fdbe82ddff4b94.jpg  \n",
            " extracting: train/images/baby_117_jpeg.rf.d23f7d371f1dfe39e50fb0c09aa0c7ea.jpg  \n",
            " extracting: train/images/baby_119_jpeg.rf.42cff5c77ead24fae29b310f5ad20c9b.jpg  \n",
            " extracting: train/images/baby_119_jpeg.rf.82e499b5a6409359adcdb5832629cbf1.jpg  \n",
            " extracting: train/images/baby_119_jpeg.rf.bd0576d61696e8327bac9da4ccbdbc97.jpg  \n",
            " extracting: train/images/baby_11_jpeg.rf.15994eb3417415b28bc629c1e2f00727.jpg  \n",
            " extracting: train/images/baby_11_jpeg.rf.450f34559290772c546e3ec82ecad823.jpg  \n",
            " extracting: train/images/baby_11_jpeg.rf.ff1260330a24c33e951db37d5cef3fd7.jpg  \n",
            " extracting: train/images/baby_120_jpeg.rf.836aaa46fa84578a635d9557fcbd9a82.jpg  \n",
            " extracting: train/images/baby_120_jpeg.rf.a27be3a01020acb0776e535f7081c9fd.jpg  \n",
            " extracting: train/images/baby_120_jpeg.rf.d79d3c69995dc5812c208a02ecad2989.jpg  \n",
            " extracting: train/images/baby_121_jpeg.rf.4403e4138d46d5098a785633d67b79a7.jpg  \n",
            " extracting: train/images/baby_121_jpeg.rf.49a5c06839780edec3224d36223f8797.jpg  \n",
            " extracting: train/images/baby_121_jpeg.rf.6f37659034d5e79d2d756824540ed7e3.jpg  \n",
            " extracting: train/images/baby_126_jpeg.rf.4d441da74850cd9b85fb559a35cad74a.jpg  \n",
            " extracting: train/images/baby_126_jpeg.rf.66952a7886ec0d4203c7d1ba9e990acc.jpg  \n",
            " extracting: train/images/baby_126_jpeg.rf.6a677daf087a8802c06ce87c5f36b453.jpg  \n",
            " extracting: train/images/baby_130_jpeg.rf.168e5ea6fe35e1104a56763eaedaeb12.jpg  \n",
            " extracting: train/images/baby_130_jpeg.rf.6ec92ddb69a5ab98c520dd5fe26498f7.jpg  \n",
            " extracting: train/images/baby_130_jpeg.rf.71d1136be3d5d036ab1532dda46710d3.jpg  \n",
            " extracting: train/images/baby_134_jpeg.rf.07f0524cd2cb81ffe581316388102d67.jpg  \n",
            " extracting: train/images/baby_134_jpeg.rf.7e2c5928bd7ca8544ea58bce8714f37a.jpg  \n",
            " extracting: train/images/baby_134_jpeg.rf.9ef4c9781a240c2b9f317e89ea06d356.jpg  \n",
            " extracting: train/images/baby_14_jpeg.rf.2e20bacdf45dc393f4991eb1dc911d28.jpg  \n",
            " extracting: train/images/baby_14_jpeg.rf.9b74176f0542f6d1fdb787dce5ce978c.jpg  \n",
            " extracting: train/images/baby_14_jpeg.rf.f196e9ede9ba815ae90f3baea4aed96a.jpg  \n",
            " extracting: train/images/baby_15_jpeg.rf.141f79b3ccfbecf0ca2b1485b595bd2b.jpg  \n",
            " extracting: train/images/baby_15_jpeg.rf.3a83690014d63a9541b9aaa8391a4d0d.jpg  \n",
            " extracting: train/images/baby_15_jpeg.rf.d4d1d8032ca7c95d36586485d7ebffbf.jpg  \n",
            " extracting: train/images/baby_16_jpeg.rf.13738ee2ca290fb2431ecb11526a8300.jpg  \n",
            " extracting: train/images/baby_16_jpeg.rf.30324cc28d5a41ff77d2f167c4ccdf04.jpg  \n",
            " extracting: train/images/baby_16_jpeg.rf.334ceb882b5a609a267c9ef87ac94eb2.jpg  \n",
            " extracting: train/images/baby_17_jpeg.rf.11ed38171182111471d675bfd9bec856.jpg  \n",
            " extracting: train/images/baby_17_jpeg.rf.607c212514674f6f3b3ac8d5d522785a.jpg  \n",
            " extracting: train/images/baby_17_jpeg.rf.6da23cb7fc5d8799ec960270e75e736f.jpg  \n",
            " extracting: train/images/baby_18_jpeg.rf.40fab9d62e9a203dda06d573ba6e8cab.jpg  \n",
            " extracting: train/images/baby_18_jpeg.rf.4cfe1d218f16bfcc5551f3ad25fc3cd6.jpg  \n",
            " extracting: train/images/baby_18_jpeg.rf.baca5fd42f429c33bcb7c4cc7b83b061.jpg  \n",
            " extracting: train/images/baby_19_jpeg.rf.4fba0218023ddd71bf3cfb8f90b26070.jpg  \n",
            " extracting: train/images/baby_19_jpeg.rf.a82849ab79915a9bbf40c9244162cc38.jpg  \n",
            " extracting: train/images/baby_19_jpeg.rf.bca428311c7374104b607658b3446706.jpg  \n",
            " extracting: train/images/baby_20_jpeg.rf.25363d6d1da4108d6cdb52b4e6a6ff0f.jpg  \n",
            " extracting: train/images/baby_20_jpeg.rf.7745dd10627f952b8565fa9423a589da.jpg  \n",
            " extracting: train/images/baby_20_jpeg.rf.80ef855458145b9d768e8b3d328895f8.jpg  \n",
            " extracting: train/images/baby_21_jpeg.rf.56b1d880dbce15c598696f10baa958cc.jpg  \n",
            " extracting: train/images/baby_21_jpeg.rf.6e51d580374a88488b8e6225b8b0f127.jpg  \n",
            " extracting: train/images/baby_21_jpeg.rf.d4624dd26528a9233ac2619178a79133.jpg  \n",
            " extracting: train/images/baby_22_jpeg.rf.7ca661e6f08cd8b1f7fb213d70c478e4.jpg  \n",
            " extracting: train/images/baby_22_jpeg.rf.7ee0fbfaa03289f80d3802e5a4057ed6.jpg  \n",
            " extracting: train/images/baby_22_jpeg.rf.f84953bef38a1ba040c5d5e8a93fb474.jpg  \n",
            " extracting: train/images/baby_23_jpeg.rf.12c9b463d96fefb02622dcbf1907d9d5.jpg  \n",
            " extracting: train/images/baby_23_jpeg.rf.a25d27a9082ddd75f1e6742cea5ef54c.jpg  \n",
            " extracting: train/images/baby_23_jpeg.rf.fb7e3676f4c1cbc0fd152b93b9038eec.jpg  \n",
            " extracting: train/images/baby_24_jpeg.rf.46f3d0bbf7bec69bd059bf565449c7b4.jpg  \n",
            " extracting: train/images/baby_24_jpeg.rf.8498f8d3a3d742beab893ee813a36823.jpg  \n",
            " extracting: train/images/baby_24_jpeg.rf.f95a33ac7088a75328b83e35c5f7a0ac.jpg  \n",
            " extracting: train/images/baby_26_jpeg.rf.0ff56e22eecbf77ec974bdebcb8eca81.jpg  \n",
            " extracting: train/images/baby_26_jpeg.rf.871fe8d1f4433aa1e211aea7034fac32.jpg  \n",
            " extracting: train/images/baby_26_jpeg.rf.b5f3997a0be12484cc627a65a89d0315.jpg  \n",
            " extracting: train/images/baby_30_jpeg.rf.9108cc6a252a9ff26156d48655a07f6d.jpg  \n",
            " extracting: train/images/baby_30_jpeg.rf.97dfc0fc8087f3a4bae872b97247cdef.jpg  \n",
            " extracting: train/images/baby_30_jpeg.rf.f36568963cfaa33a9fe3735efe1633ac.jpg  \n",
            " extracting: train/images/baby_33_jpeg.rf.3edc4397f339aaa78ec7a7d57584e829.jpg  \n",
            " extracting: train/images/baby_33_jpeg.rf.c6eeab218be40cc54335cf3461c2793f.jpg  \n",
            " extracting: train/images/baby_33_jpeg.rf.d2af9ff53da9e079450ce1a906187508.jpg  \n",
            " extracting: train/images/baby_35_jpeg.rf.14c19590a6f98ec4337a918eae588a27.jpg  \n",
            " extracting: train/images/baby_35_jpeg.rf.50f2d76a8a22287d20b92859f589f542.jpg  \n",
            " extracting: train/images/baby_35_jpeg.rf.771e50f963a88763b9354e9cf702f76a.jpg  \n",
            " extracting: train/images/baby_3_jpeg.rf.0d696c00ee28e224276892ad28ba9c4f.jpg  \n",
            " extracting: train/images/baby_3_jpeg.rf.2704a60e72994343b603785b983bae6b.jpg  \n",
            " extracting: train/images/baby_3_jpeg.rf.6cfdc7dd1c3e5beb9a4b637aebab916d.jpg  \n",
            " extracting: train/images/baby_43_png.rf.18ae93b6354a2e34434d8353d8a573c3.jpg  \n",
            " extracting: train/images/baby_43_png.rf.78ea651ad5094b81883fcbff09f80693.jpg  \n",
            " extracting: train/images/baby_43_png.rf.914fae621aa465ea65872be1dfbd5b48.jpg  \n",
            " extracting: train/images/baby_44_jpeg.rf.26faab61c50aaf812502cfd87e85a10e.jpg  \n",
            " extracting: train/images/baby_44_jpeg.rf.c123876b57040ea97869a5a27e639cf1.jpg  \n",
            " extracting: train/images/baby_44_jpeg.rf.ce64fefef2dd0bed3a56880ff5d41a76.jpg  \n",
            " extracting: train/images/baby_47_jpeg.rf.161c45d6d9479ac0a68940b072a551eb.jpg  \n",
            " extracting: train/images/baby_47_jpeg.rf.25d3b4f41d4cee180ae0ff6d8cf787de.jpg  \n",
            " extracting: train/images/baby_47_jpeg.rf.31e3dba536ce83c1332f3b49e334f294.jpg  \n",
            " extracting: train/images/baby_4_jpeg.rf.339633c2a2c3cd411e7b4b763ff9c0a3.jpg  \n",
            " extracting: train/images/baby_4_jpeg.rf.836ef9b75c250c230e98595f21d97fc4.jpg  \n",
            " extracting: train/images/baby_4_jpeg.rf.ceeb27ca5d6332e86dc2304518214d62.jpg  \n",
            " extracting: train/images/baby_52_jpeg.rf.7cb4c441bf599ad25b624bc7f765a548.jpg  \n",
            " extracting: train/images/baby_52_jpeg.rf.84512b43252875bbb7b3f10d65c453ba.jpg  \n",
            " extracting: train/images/baby_52_jpeg.rf.8a2c9a25506333aa95d83a7204f71427.jpg  \n",
            " extracting: train/images/baby_55_jpeg.rf.0e99243e3bc88d2488db17f640f11698.jpg  \n",
            " extracting: train/images/baby_55_jpeg.rf.730ec917c476fc242715ace4af59e791.jpg  \n",
            " extracting: train/images/baby_55_jpeg.rf.8ff3779d6ebe3a2933406755eb933851.jpg  \n",
            " extracting: train/images/baby_60_jpeg.rf.1323422bbb02fd71e2f40cdfbc838525.jpg  \n",
            " extracting: train/images/baby_60_jpeg.rf.18eb57b565d6c63383e10e5e9b771361.jpg  \n",
            " extracting: train/images/baby_60_jpeg.rf.fb125237fdd4bf5d55ec3d527b4f7961.jpg  \n",
            " extracting: train/images/baby_6_jpeg.rf.129298a32d2794fc7c1cd8377cece59b.jpg  \n",
            " extracting: train/images/baby_6_jpeg.rf.60f8450328256317e1fd87c201ac6945.jpg  \n",
            " extracting: train/images/baby_6_jpeg.rf.b63f22072b11512704b4fd3f2920553d.jpg  \n",
            " extracting: train/images/baby_72_jpeg.rf.9e90093c5e7d78459b39349983d4a245.jpg  \n",
            " extracting: train/images/baby_72_jpeg.rf.b00ab74d072c0a98733a20310c8fdddc.jpg  \n",
            " extracting: train/images/baby_72_jpeg.rf.eef9c7fcdc2f525da5ff9e872125528d.jpg  \n",
            " extracting: train/images/baby_7_jpeg.rf.8089b07fd126dba9dcf8fa63ce2c889c.jpg  \n",
            " extracting: train/images/baby_7_jpeg.rf.9d99e31929b6d89f5a55d4dcd76e564b.jpg  \n",
            " extracting: train/images/baby_7_jpeg.rf.d2e96b18b9a73684a748fbd185904181.jpg  \n",
            " extracting: train/images/child_109_jpeg.rf.643ae821e9106c3d2ae84aa958be4126.jpg  \n",
            " extracting: train/images/child_109_jpeg.rf.99a130c4041cb540c0726174eb29c89a.jpg  \n",
            " extracting: train/images/child_109_jpeg.rf.feee57f5f46f94c081cd37115363114e.jpg  \n",
            " extracting: train/images/child_10_jpeg.rf.16e24778814a9374948ea676f1496aab.jpg  \n",
            " extracting: train/images/child_10_jpeg.rf.18f0a9f820a58106cabdc8df39a825d3.jpg  \n",
            " extracting: train/images/child_10_jpeg.rf.b184305a56f11d6055c076ba24e4cddb.jpg  \n",
            " extracting: train/images/child_111_jpeg.rf.9ad32db70f2896c66d549413aaebdb2a.jpg  \n",
            " extracting: train/images/child_111_jpeg.rf.c657d9789cf5fc4f85210ccbfbc44828.jpg  \n",
            " extracting: train/images/child_111_jpeg.rf.f9a708a724e4b2daccf54b83c98d82d5.jpg  \n",
            " extracting: train/images/child_112_jpeg.rf.2418aa9d26fe5a7a384602ac6989c58f.jpg  \n",
            " extracting: train/images/child_112_jpeg.rf.2e599f1aa71f22ea03f5a7f78a6b1fdd.jpg  \n",
            " extracting: train/images/child_112_jpeg.rf.939392d5e9f49ca9263ed6a8436ee8ae.jpg  \n",
            " extracting: train/images/child_115_jpeg.rf.7acc514f52b6309fae9bbf64b1b3f070.jpg  \n",
            " extracting: train/images/child_115_jpeg.rf.8daec7e845bd2f9c11dc718102b66939.jpg  \n",
            " extracting: train/images/child_115_jpeg.rf.97cb73bdc6a1e2f2ea1346fe00d8b7bd.jpg  \n",
            " extracting: train/images/child_116_jpeg.rf.ae99373eca2991aed26d877ebc0208d1.jpg  \n",
            " extracting: train/images/child_116_jpeg.rf.c800628778b636c1c1d5bd5f189396bc.jpg  \n",
            " extracting: train/images/child_116_jpeg.rf.cb3709ea465c3076ee8e5946efbd239f.jpg  \n",
            " extracting: train/images/child_11_jpeg.rf.38dbdbd31cba054174f9e144309c9933.jpg  \n",
            " extracting: train/images/child_11_jpeg.rf.e3cefdad2180541215df8017deed7f01.jpg  \n",
            " extracting: train/images/child_11_jpeg.rf.f40751764867f1d1c073f90c7a17936b.jpg  \n",
            " extracting: train/images/child_133_jpeg.rf.5bd73a343cf2ce14a104858d0f0e53f8.jpg  \n",
            " extracting: train/images/child_133_jpeg.rf.6269c0693af4e43a45c5794ad8a6b5ed.jpg  \n",
            " extracting: train/images/child_133_jpeg.rf.7047a9e0d220fa39068c5d86a9f26fe5.jpg  \n",
            " extracting: train/images/child_13_jpeg.rf.26ef38d03eda32e3ecbc8fefb645a7cb.jpg  \n",
            " extracting: train/images/child_13_jpeg.rf.a1a7735a209896b5af47353a28aa9f76.jpg  \n",
            " extracting: train/images/child_13_jpeg.rf.c62e5090f36f9b5a973dbdd1b4122a9c.jpg  \n",
            " extracting: train/images/child_14_png.rf.8113d580773d19df9b8adb90ce52e588.jpg  \n",
            " extracting: train/images/child_14_png.rf.8cf462600e92d1317820f313db9fcc0f.jpg  \n",
            " extracting: train/images/child_14_png.rf.b9213a782eea0524489295dade4c11ee.jpg  \n",
            " extracting: train/images/child_16_png.rf.0b27a9de15b67f032403f379e9a839e6.jpg  \n",
            " extracting: train/images/child_16_png.rf.59d4c421c966199bc74cf21f14a1e9e5.jpg  \n",
            " extracting: train/images/child_16_png.rf.ddce93a3f9c6d4e48379f24a62bd2d7c.jpg  \n",
            " extracting: train/images/child_17_jpeg.rf.088dd8843b3a5c3329762cca739869a3.jpg  \n",
            " extracting: train/images/child_17_jpeg.rf.896d56b38c76e082d641e34fb3104f29.jpg  \n",
            " extracting: train/images/child_17_jpeg.rf.fbedac1355373f1a58f344397f7b1d1b.jpg  \n",
            " extracting: train/images/child_18_jpeg.rf.3b3f7569f614de6af498719c6439b7c9.jpg  \n",
            " extracting: train/images/child_18_jpeg.rf.5ee3c1eed3f0284f18abf0384633910e.jpg  \n",
            " extracting: train/images/child_18_jpeg.rf.a0acad090f739c873fb0bdb688f624bc.jpg  \n",
            " extracting: train/images/child_19_jpeg.rf.4fcb08f225e41c247a41d8dc8aa3109a.jpg  \n",
            " extracting: train/images/child_19_jpeg.rf.83addc437d507df788c5bdaabe448b41.jpg  \n",
            " extracting: train/images/child_19_jpeg.rf.a4975219d346d27cc339c32f2123fb77.jpg  \n",
            " extracting: train/images/child_21_png.rf.545e6ed4667cb07c23bb5258e1aeb18e.jpg  \n",
            " extracting: train/images/child_21_png.rf.7c6c8f192ccf554ad4a56ee32bcf037f.jpg  \n",
            " extracting: train/images/child_21_png.rf.c8de92421f4f1e6513adbb3ccbbd1fcb.jpg  \n",
            " extracting: train/images/child_22_jpeg.rf.0568e62c1bcf819e576301f7f676ac1c.jpg  \n",
            " extracting: train/images/child_22_jpeg.rf.0adfc8ad21a94be799af2220544c808c.jpg  \n",
            " extracting: train/images/child_25_jpeg.rf.1f726c83a64e6dbb2383c98cae24f7b1.jpg  \n",
            " extracting: train/images/child_25_jpeg.rf.5b58a1e64217e651a673acad918f9cc6.jpg  \n",
            " extracting: train/images/child_25_jpeg.rf.ed6a342c66fc0f9ee459a4c442b14d3e.jpg  \n",
            " extracting: train/images/child_26_jpeg.rf.1103dbe2a882c2de75b6d621fa1a16da.jpg  \n",
            " extracting: train/images/child_26_jpeg.rf.1c21e19d44de3e38f1a89c4672315715.jpg  \n",
            " extracting: train/images/child_26_jpeg.rf.eac0e0e838762adb67e140b39663a3ca.jpg  \n",
            " extracting: train/images/child_28_jpeg.rf.64fcce8c398956f619ec18de6b7ce8fd.jpg  \n",
            " extracting: train/images/child_28_jpeg.rf.ebfe3610a3e3b02d199e60ae094c3123.jpg  \n",
            " extracting: train/images/child_28_jpeg.rf.ff0c32a319076ceefa71b6a5b6d9e1d9.jpg  \n",
            " extracting: train/images/child_29_png.rf.0ba12a42dba5930e85c47a18f2e3dfba.jpg  \n",
            " extracting: train/images/child_29_png.rf.4501926305213f64b73c1f733250e88e.jpg  \n",
            " extracting: train/images/child_29_png.rf.5591ca7465c13eb29ff9b00036a6ff13.jpg  \n",
            " extracting: train/images/child_31_jpeg.rf.06592c77afc070adb6c8c3869e6417ad.jpg  \n",
            " extracting: train/images/child_31_jpeg.rf.2ee2b880cf2bb54af1fee8f7b0f95965.jpg  \n",
            " extracting: train/images/child_31_jpeg.rf.aae5b7e561cde14008d012944d9fa456.jpg  \n",
            " extracting: train/images/child_34_jpeg.rf.8a1a6054605e71bffb5a55a862bfa8c3.jpg  \n",
            " extracting: train/images/child_34_jpeg.rf.a39691fb2a10102a3fae9cb81ae00780.jpg  \n",
            " extracting: train/images/child_34_jpeg.rf.a991e3fec1366da4089d9e7d75c02b09.jpg  \n",
            " extracting: train/images/child_37_jpeg.rf.0183d6095772f9a5eaa19eeebdcfc4a1.jpg  \n",
            " extracting: train/images/child_37_jpeg.rf.a8711ef312d6554391acb058835eafdd.jpg  \n",
            " extracting: train/images/child_37_jpeg.rf.c7a6519d2b8a6bb5f0f4333a1a0ef2f0.jpg  \n",
            " extracting: train/images/child_38_jpeg.rf.0bfa8a02e0fb975499e0e8b7e90d79cb.jpg  \n",
            " extracting: train/images/child_38_jpeg.rf.58b35bb6d2aa31d994a91a6637c4472b.jpg  \n",
            " extracting: train/images/child_38_jpeg.rf.dcebc959411dbdef82c96d2548b1da80.jpg  \n",
            " extracting: train/images/child_39_png.rf.398801a328a8374f556dc7664d2998f7.jpg  \n",
            " extracting: train/images/child_39_png.rf.5ab41635bda2a08141ae02efc5b759bc.jpg  \n",
            " extracting: train/images/child_39_png.rf.6132e4ebe54a3a8a4737843ccf698f45.jpg  \n",
            " extracting: train/images/child_3_jpeg.rf.2ba6b8d1e3a44cf6197337d099908f8d.jpg  \n",
            " extracting: train/images/child_3_jpeg.rf.88bdf740fdfec9934f4830f45b3f6774.jpg  \n",
            " extracting: train/images/child_3_jpeg.rf.b4aa2a22a676f936abfaf1d0f87b6548.jpg  \n",
            " extracting: train/images/child_40_jpeg.rf.1bd6120473d47d2b24f1a4fb9cf987e0.jpg  \n",
            " extracting: train/images/child_40_jpeg.rf.1f78e52a96b1655b9cb152d9242a46f8.jpg  \n",
            " extracting: train/images/child_40_jpeg.rf.b4dfa694fecddf946e929a75763b92f5.jpg  \n",
            " extracting: train/images/child_46_png.rf.157f26b5381f00883e0e5c1c7a95ad6a.jpg  \n",
            " extracting: train/images/child_46_png.rf.c29227d2eaf5385eabb5ebc4e4fec9cf.jpg  \n",
            " extracting: train/images/child_46_png.rf.d092aa0229c24442fc5a1c689667ce8e.jpg  \n",
            " extracting: train/images/child_4_jpeg.rf.2a8fbac57bf0609e5b605d9de7394f86.jpg  \n",
            " extracting: train/images/child_4_jpeg.rf.5db080f09123afc15e66dd104e1fb67b.jpg  \n",
            " extracting: train/images/child_4_jpeg.rf.9fd713b52b4cdd18b007f257c26bfbeb.jpg  \n",
            " extracting: train/images/child_50_jpeg.rf.0dc24b7332fa44c5cca24a9b6ee90585.jpg  \n",
            " extracting: train/images/child_50_jpeg.rf.307d2e0713c6c58fc69cfc726eab6f49.jpg  \n",
            " extracting: train/images/child_51_jpeg.rf.28c568cb6782977f31ccde643ac835ee.jpg  \n",
            " extracting: train/images/child_51_jpeg.rf.e557f5b39af2db9f3f66c12ff50866d1.jpg  \n",
            " extracting: train/images/child_51_jpeg.rf.f607390eff9f0f54824476ed9e59a97f.jpg  \n",
            " extracting: train/images/child_52_jpeg.rf.523b94dd04054afc6a0a79568e500554.jpg  \n",
            " extracting: train/images/child_52_jpeg.rf.8361c8f1134792f9937d254cd9714ece.jpg  \n",
            " extracting: train/images/child_52_jpeg.rf.aad6b40d15f439c904731c61f5bc0f0b.jpg  \n",
            " extracting: train/images/child_54_jpeg.rf.00ad47d3da1f61df4d2cff86075458b3.jpg  \n",
            " extracting: train/images/child_54_jpeg.rf.9fc73f23cefa1ff32b458dbca10733bc.jpg  \n",
            " extracting: train/images/child_54_jpeg.rf.cbd5e05a4368de6aa5004a5bc041a197.jpg  \n",
            " extracting: train/images/child_55_png.rf.3a2d276a756bc922f509010765048268.jpg  \n",
            " extracting: train/images/child_55_png.rf.97b8f8d37ad1cf725ae220cfc8773c95.jpg  \n",
            " extracting: train/images/child_55_png.rf.ed2a480d2282194674e6014f35945d5a.jpg  \n",
            " extracting: train/images/child_57_jpeg.rf.1a95c69b49f331e87b9bfe3d64d81178.jpg  \n",
            " extracting: train/images/child_57_jpeg.rf.4a03defd18d7c81ba60040993fbd5416.jpg  \n",
            " extracting: train/images/child_57_jpeg.rf.b22203723e01c833a28a1ea15fea352c.jpg  \n",
            " extracting: train/images/child_59_jpeg.rf.283c8e2c0b6b1b7f9297d15070d1ee63.jpg  \n",
            " extracting: train/images/child_59_jpeg.rf.5254b0fc49e1f62461e040f74a0432f7.jpg  \n",
            " extracting: train/images/child_59_jpeg.rf.60ab9f483fab76f3005cc02190a6a074.jpg  \n",
            " extracting: train/images/child_61_jpeg.rf.388d028801b42d831e0fd1062df771a1.jpg  \n",
            " extracting: train/images/child_61_jpeg.rf.8ffa7a38f4e821e0792ffc687a52ed4a.jpg  \n",
            " extracting: train/images/child_61_jpeg.rf.cb6a4af5699aab1b1a2e2bb8452dcc18.jpg  \n",
            " extracting: train/images/child_6_jpeg.rf.0192206998c5d252a3123bee10b03f61.jpg  \n",
            " extracting: train/images/child_6_jpeg.rf.07cf02ce741088e3c6604fab74ae9427.jpg  \n",
            " extracting: train/images/child_6_jpeg.rf.ad52cc08fefd415db55886d5baa7a08b.jpg  \n",
            " extracting: train/images/child_8_jpeg.rf.9af068384a206bffbfcfa898fb0f1a22.jpg  \n",
            " extracting: train/images/child_8_jpeg.rf.dc510f6329582cc3754a85765391176e.jpg  \n",
            " extracting: train/images/child_9_jpeg.rf.517dfe72bd57a260aa1e8a7dd3ebdd76.jpg  \n",
            " extracting: train/images/child_9_jpeg.rf.74ac6c9f9370bbea4b0aba2a7587c7c6.jpg  \n",
            " extracting: train/images/child_9_jpeg.rf.fb8aa3a65fb87db610812895a6ff49f3.jpg  \n",
            " extracting: train/images/children_13_jpeg.rf.1b4bff5a498bde7877db213e02f0bd61.jpg  \n",
            " extracting: train/images/children_13_jpeg.rf.2c8b7d8e5b06a833a919a6bf4d0d1df7.jpg  \n",
            " extracting: train/images/children_13_jpeg.rf.43f60e89e59a0642d0b627f3a1f23901.jpg  \n",
            " extracting: train/images/children_16_jpeg.rf.04f3b997af2e0276c3938de5abee06fa.jpg  \n",
            " extracting: train/images/children_16_jpeg.rf.5118144a243b398a89bdc23730d259ec.jpg  \n",
            " extracting: train/images/children_16_jpeg.rf.ff0595a85261170cc6a122d62c7ef6b5.jpg  \n",
            " extracting: train/images/children_17_jpeg.rf.2cc40cc9bebc651b90b0c13bce4a5fbe.jpg  \n",
            " extracting: train/images/children_17_jpeg.rf.b234cd4746ac16e710a6c0851653f466.jpg  \n",
            " extracting: train/images/children_17_jpeg.rf.cc0e3bdfa7e6e92deb0322c806f6ccfb.jpg  \n",
            " extracting: train/images/children_18_jpeg.rf.9beab7c704cfbfc989466b4d65dba575.jpg  \n",
            " extracting: train/images/children_18_jpeg.rf.ca630f453c1b97d0e4caca7792b2a97d.jpg  \n",
            " extracting: train/images/children_18_jpeg.rf.e26883d9c52ef2ee81ddd2024e37b1de.jpg  \n",
            " extracting: train/images/children_19_jpeg.rf.22f680305fc942c3bbd541853e3119b5.jpg  \n",
            " extracting: train/images/children_19_jpeg.rf.33a39375692cb9a8937062af7d38ff58.jpg  \n",
            " extracting: train/images/children_19_jpeg.rf.f1f6c254b05a8721b41d9b729bbf6511.jpg  \n",
            " extracting: train/images/children_20_jpeg.rf.6cc4e3916d2f7204bd7bb55062a7767d.jpg  \n",
            " extracting: train/images/children_20_jpeg.rf.b40abec1e7dbf94106141913db7b306b.jpg  \n",
            " extracting: train/images/children_20_jpeg.rf.cea38556f17032a3cc743f9dc900d556.jpg  \n",
            " extracting: train/images/children_22_jpeg.rf.3cf39e7f4b9ccf80ade38a4092c0c2cb.jpg  \n",
            " extracting: train/images/children_22_jpeg.rf.4b9dbee9ba20b51eb9e844932ca151c9.jpg  \n",
            " extracting: train/images/children_22_jpeg.rf.b6b3c7d4cc8570b3dbabdde3dca26de2.jpg  \n",
            " extracting: train/images/children_23_jpeg.rf.47de87d60edf65903356fce1ab491054.jpg  \n",
            " extracting: train/images/children_23_jpeg.rf.4973fc1ae27eef2122731aebf24f1ea5.jpg  \n",
            " extracting: train/images/children_23_jpeg.rf.e4f1723c533b7804de83552518f14cd7.jpg  \n",
            " extracting: train/images/children_24_jpeg.rf.4b508d002de0ca72b499f9e30934f9ff.jpg  \n",
            " extracting: train/images/children_24_jpeg.rf.af352e7bcc8f8d619996fe6e7d45c42a.jpg  \n",
            " extracting: train/images/children_24_jpeg.rf.e7a5d9aff4c472d324781928b1979bfc.jpg  \n",
            " extracting: train/images/children_25_jpeg.rf.131e7c1f0520ab0ed125e8d46cb70e59.jpg  \n",
            " extracting: train/images/children_25_jpeg.rf.2e470cb6514997d258f2c80bd809552b.jpg  \n",
            " extracting: train/images/children_25_jpeg.rf.d465a2aa24f3b3847ac6cc03bf6f1bc4.jpg  \n",
            " extracting: train/images/children_26_jpeg.rf.0fc71e61c24179e65e64536e346f4318.jpg  \n",
            " extracting: train/images/children_26_jpeg.rf.49441959174f951dab4f4001fcc2111f.jpg  \n",
            " extracting: train/images/children_26_jpeg.rf.958e94356b9b10bfec56e859c5417c0b.jpg  \n",
            " extracting: train/images/children_27_jpeg.rf.0e10126d66ecde53547809a144e896c4.jpg  \n",
            " extracting: train/images/children_27_jpeg.rf.4bed2a0a96f263edaf0931a3ad1d2121.jpg  \n",
            " extracting: train/images/children_27_jpeg.rf.d14567274158e11ada887a2ff0167b94.jpg  \n",
            " extracting: train/images/children_29_png.rf.44ce90db35e472e63cf5e04c04abb8d8.jpg  \n",
            " extracting: train/images/children_29_png.rf.e3555fb5f9b0604e35df5e451ec54895.jpg  \n",
            " extracting: train/images/children_29_png.rf.f051dc27ecea7d1ed78e5c090974f57d.jpg  \n",
            " extracting: train/images/children_31_png.rf.391ac3a44e0ec683800e39410df6b6a0.jpg  \n",
            " extracting: train/images/children_31_png.rf.9c32bd16aa44acc828c62dec88690f8e.jpg  \n",
            " extracting: train/images/children_31_png.rf.eef716f0b7f22eb3b78a4eeccb51fdb9.jpg  \n",
            " extracting: train/images/children_33_jpeg.rf.515872825757ca9c15a3499b20d4d979.jpg  \n",
            " extracting: train/images/children_33_jpeg.rf.ad2ae951085a60740ae66a18454a057a.jpg  \n",
            " extracting: train/images/children_33_jpeg.rf.fe798c75e9ae893b56c6545e82902f16.jpg  \n",
            " extracting: train/images/children_34_jpeg.rf.2be7fd3e7a5b6ef96e628e0fd0dafb42.jpg  \n",
            " extracting: train/images/children_34_jpeg.rf.533513ffe8abb193012c579bd4fb37c3.jpg  \n",
            " extracting: train/images/children_34_jpeg.rf.d052606e86198a59309aa2778c53371a.jpg  \n",
            " extracting: train/images/children_37_jpeg.rf.4a7a9b56616c2ce415da31ef992ea1bd.jpg  \n",
            " extracting: train/images/children_37_jpeg.rf.603f0989ba1fa576bf6dae9bc60d0b6c.jpg  \n",
            " extracting: train/images/children_37_jpeg.rf.92fddd97f81eaae2d8229a4299b13a30.jpg  \n",
            " extracting: train/images/children_39_jpeg.rf.7c9b5be6e1eaf340d23b25db0be4bf77.jpg  \n",
            " extracting: train/images/children_39_jpeg.rf.a6913b673645ffd0c2675cae0002c3e6.jpg  \n",
            " extracting: train/images/children_39_jpeg.rf.c11f537ff20ce6026f06e38e9b0edde1.jpg  \n",
            " extracting: train/images/children_43_jpeg.rf.9b378f5170eebd21fb679de2c3938e00.jpg  \n",
            " extracting: train/images/children_43_jpeg.rf.9bf091afcb679d6ee810ba7217691ea1.jpg  \n",
            " extracting: train/images/children_43_jpeg.rf.9d198b3ccdb3867062be2defe81a39df.jpg  \n",
            " extracting: train/images/children_45_jpeg.rf.0908799ebb9e4a1d9a8ab4d53af0e28f.jpg  \n",
            " extracting: train/images/children_45_jpeg.rf.d6f8d99b58fcafcc6b1e38e70c7cdd36.jpg  \n",
            " extracting: train/images/children_45_jpeg.rf.eb45309cfc665bb81d1d5292731b8c5d.jpg  \n",
            " extracting: train/images/children_47_jpeg.rf.9f4f6813b24f9904a7fe41e4c7b2d45c.jpg  \n",
            " extracting: train/images/children_47_jpeg.rf.a9e374a87413c6d2fad20a36a37b3700.jpg  \n",
            " extracting: train/images/children_47_jpeg.rf.e3e8c05d102f7aa75e5885ca5c44732f.jpg  \n",
            " extracting: train/images/children_49_jpeg.rf.075b9c31a9d68a7c43ccae96e65c4340.jpg  \n",
            " extracting: train/images/children_49_jpeg.rf.b07404cdb4129aae073e388cb923d4a8.jpg  \n",
            " extracting: train/images/children_49_jpeg.rf.b612dc723e711594164e72d652f63090.jpg  \n",
            " extracting: train/images/children_4_png.rf.5141de247e8fa89a8f9038f0feb36c65.jpg  \n",
            " extracting: train/images/children_4_png.rf.747a7cf91615838f44b14fcd5f5217ef.jpg  \n",
            " extracting: train/images/children_4_png.rf.f68f634916000295baa9da2de20071df.jpg  \n",
            " extracting: train/images/children_51_jpeg.rf.74b93c8b6c29b0a465629087dfbbbfdc.jpg  \n",
            " extracting: train/images/children_51_jpeg.rf.7f2bba36436245fde2dbee98d145ee03.jpg  \n",
            " extracting: train/images/children_51_jpeg.rf.dcd9cf6dc8bdcb9d51ba4b5317cdc54c.jpg  \n",
            " extracting: train/images/children_52_jpeg.rf.845b6b7cf23745a6cc2a6336a5ec9bd5.jpg  \n",
            " extracting: train/images/children_52_jpeg.rf.b39024f23d2d774e3c316c504fe4340f.jpg  \n",
            " extracting: train/images/children_52_jpeg.rf.f825ab4fbcb1b1faca4e2b792396f73d.jpg  \n",
            " extracting: train/images/children_53_jpeg.rf.000dc45f9bfdffa001fabc1db618af33.jpg  \n",
            " extracting: train/images/children_53_jpeg.rf.2ed26779629449355361e57a67b6109f.jpg  \n",
            " extracting: train/images/children_53_jpeg.rf.8e7f5cfb7d69b07c195da3751c334b3a.jpg  \n",
            " extracting: train/images/children_57_jpeg.rf.61f08a82de7647adf3e2c85344e4f0c0.jpg  \n",
            " extracting: train/images/children_57_jpeg.rf.94186746f0eeb54d0ccc7a0cd567d890.jpg  \n",
            " extracting: train/images/children_57_jpeg.rf.d9bda9b4b0ddb8ade10aba89242a08a3.jpg  \n",
            " extracting: train/images/children_59_jpeg.rf.a4ac78476295320882f87e66b3744605.jpg  \n",
            " extracting: train/images/children_59_jpeg.rf.aecad219267057c8089383f36294ba40.jpg  \n",
            " extracting: train/images/children_59_jpeg.rf.ef3465c4bd7676c991b6923ce2d7bcb1.jpg  \n",
            " extracting: train/images/children_5_jpeg.rf.271929f9472887cf339377b146a07e20.jpg  \n",
            " extracting: train/images/children_5_jpeg.rf.b59500b09bba1c12a1bbc96b21b0d0d5.jpg  \n",
            " extracting: train/images/children_5_jpeg.rf.f5f8d6fcf7ca27e38c1cac8f45864621.jpg  \n",
            " extracting: train/images/children_61_jpeg.rf.8bb4e9ef8c6a7228c98744dd1d8d277c.jpg  \n",
            " extracting: train/images/children_61_jpeg.rf.9341ba42d8f40f6b58ce58508b38c14d.jpg  \n",
            " extracting: train/images/children_61_jpeg.rf.b978e1633aea8a59e12306e87be5ee59.jpg  \n",
            " extracting: train/images/children_62_jpeg.rf.400af980becb525762937bc7f4f6d4fb.jpg  \n",
            " extracting: train/images/children_62_jpeg.rf.4289a21957b3e4005983e8e3d85887f9.jpg  \n",
            " extracting: train/images/children_62_jpeg.rf.aa21baa827e469d0e32a83a8394bc617.jpg  \n",
            " extracting: train/images/children_63_jpeg.rf.487b788baab3d8d76a0cdd6082230cbe.jpg  \n",
            " extracting: train/images/children_63_jpeg.rf.64ddea68d24aff9fe75787d8dd60fbc8.jpg  \n",
            " extracting: train/images/children_63_jpeg.rf.8425a8677d4271dae504c9220ee21c97.jpg  \n",
            " extracting: train/images/children_64_png.rf.8c0ab084f90976dae1dd700a928c5aec.jpg  \n",
            " extracting: train/images/children_64_png.rf.c8124a22d3bc1b63290e4697bf38400b.jpg  \n",
            " extracting: train/images/children_64_png.rf.fbba44c2a52dfa3cadc7f89e9afdf91b.jpg  \n",
            " extracting: train/images/children_7_jpeg.rf.38bde198b80e90758538ef84ac51d927.jpg  \n",
            " extracting: train/images/children_7_jpeg.rf.8801fa18a008a146b0a158517e673076.jpg  \n",
            " extracting: train/images/children_7_jpeg.rf.d4851bc85555cd2bcdba0214c1804f65.jpg  \n",
            " extracting: train/images/family_10_jpeg.rf.02faa0c941df52b478170a77797b1f44.jpg  \n",
            " extracting: train/images/family_10_jpeg.rf.10798e3260c8d64f74b27755717ab1e8.jpg  \n",
            " extracting: train/images/family_10_jpeg.rf.1b48401ffc197ea48ea7955d2ca044e4.jpg  \n",
            " extracting: train/images/family_111_jpeg.rf.38e58e67ca5f1f7bb2211a4ab87285bd.jpg  \n",
            " extracting: train/images/family_111_jpeg.rf.982fd7652dcbefec594cd37b3891609c.jpg  \n",
            " extracting: train/images/family_111_jpeg.rf.e5d2bd4d90084f9112cd70f44ad40f86.jpg  \n",
            " extracting: train/images/family_112_jpeg.rf.061fc114c4fe13f0b2886efda15150c8.jpg  \n",
            " extracting: train/images/family_112_jpeg.rf.399542854a75bd09064a7034c027a496.jpg  \n",
            " extracting: train/images/family_112_jpeg.rf.b91965e1daccf6cf1c77e3e42995b4cc.jpg  \n",
            " extracting: train/images/family_119_jpeg.rf.3fc87e43691c1422f7d9b2c393f18a7c.jpg  \n",
            " extracting: train/images/family_119_jpeg.rf.674966c1d409e16566e43fc59735faf7.jpg  \n",
            " extracting: train/images/family_119_jpeg.rf.b3c3304a1faf553cbdc75c9776ec88a7.jpg  \n",
            " extracting: train/images/family_124_jpeg.rf.29b50617a75fb13ea36e9a4d3b57844e.jpg  \n",
            " extracting: train/images/family_124_jpeg.rf.834f96e81b46cdfae071f74a8f1e77cd.jpg  \n",
            " extracting: train/images/family_127_jpeg.rf.1c25089e86781ee716b40cb9681c5f7f.jpg  \n",
            " extracting: train/images/family_127_jpeg.rf.7e76d733a3d45b9996d2ebc21bca99e9.jpg  \n",
            " extracting: train/images/family_127_jpeg.rf.fc7cba4b944191fe97ea5b1dd8fffc8d.jpg  \n",
            " extracting: train/images/family_139_jpeg.rf.1e79c814babe776252f47547f719198b.jpg  \n",
            " extracting: train/images/family_139_jpeg.rf.547a9fc6cc46ef246663f31b7730416c.jpg  \n",
            " extracting: train/images/family_139_jpeg.rf.796698bc6b37454b0dbf838afc4ead8a.jpg  \n",
            " extracting: train/images/family_13_jpeg.rf.1ff186dd371cec5e966f3c317dac79fc.jpg  \n",
            " extracting: train/images/family_13_jpeg.rf.d578413aa5df3f89acb8b3399abaf86b.jpg  \n",
            " extracting: train/images/family_15_jpeg.rf.0b90542ca1261c802a11dba667b504f6.jpg  \n",
            " extracting: train/images/family_15_jpeg.rf.4d617b7e99370208335ea99fa8d903dc.jpg  \n",
            " extracting: train/images/family_15_jpeg.rf.910bc75b7a40e2d56b6e5de4dc8663e3.jpg  \n",
            " extracting: train/images/family_16_jpeg.rf.23f72f04999d034e58ac724f20e406c4.jpg  \n",
            " extracting: train/images/family_16_jpeg.rf.6f6ae63e5c8e498802ee607bdabc5c22.jpg  \n",
            " extracting: train/images/family_16_jpeg.rf.b3632c1fb7f407933c096e6aab0c6eea.jpg  \n",
            " extracting: train/images/family_19_jpeg.rf.0b68def68cc4b082b4f40c81d532ea3e.jpg  \n",
            " extracting: train/images/family_19_jpeg.rf.27798bbebfda879b14b5507f48b3a95a.jpg  \n",
            " extracting: train/images/family_19_jpeg.rf.ee07d044336d239004c3777ba46b9d86.jpg  \n",
            " extracting: train/images/family_20_jpeg.rf.2def06e5c68ec52da009edd66398ca36.jpg  \n",
            " extracting: train/images/family_20_jpeg.rf.5007cdfe9665f1fa2ad71af73cfa59c7.jpg  \n",
            " extracting: train/images/family_20_jpeg.rf.907a16ee1a331424329572c0c1d09d41.jpg  \n",
            " extracting: train/images/family_21_jpeg.rf.4bde395cf1735fbe483e37c210ec8dfd.jpg  \n",
            " extracting: train/images/family_21_jpeg.rf.c790d15a1284525478440d3b252bba2c.jpg  \n",
            " extracting: train/images/family_21_jpeg.rf.d444b8a9b7866cc3e167428ae50a7fd1.jpg  \n",
            " extracting: train/images/family_23_jpeg.rf.ac42672b227123a99e4bfc9439f9ca34.jpg  \n",
            " extracting: train/images/family_23_jpeg.rf.e335f0519a62cefc01c464ad5f91f4ee.jpg  \n",
            " extracting: train/images/family_23_jpeg.rf.e62b03272237ec51acd2e00e434a32d2.jpg  \n",
            " extracting: train/images/family_25_jpeg.rf.4114cea1187c7a933afa6d971b96d6f3.jpg  \n",
            " extracting: train/images/family_25_jpeg.rf.7d76e972e421ddcee453210bd56e7667.jpg  \n",
            " extracting: train/images/family_25_jpeg.rf.aadf2a792870ba16feec9046d1b15803.jpg  \n",
            " extracting: train/images/family_26_jpeg.rf.48142ce0a5dc09ff90288f1b6c7ed4ed.jpg  \n",
            " extracting: train/images/family_26_jpeg.rf.c71ab22e34dcfdf062ded82827e1f181.jpg  \n",
            " extracting: train/images/family_26_jpeg.rf.db35df9b41445628578b293eca3a0ef5.jpg  \n",
            " extracting: train/images/family_30_jpeg.rf.3954a59560712b62469cdfe1984b802c.jpg  \n",
            " extracting: train/images/family_30_jpeg.rf.5de2ff5f06c69caf8aca56c646f84ae9.jpg  \n",
            " extracting: train/images/family_30_jpeg.rf.88b2b773b476f6e1c5beb99a71a04e93.jpg  \n",
            " extracting: train/images/family_33_jpeg.rf.00364954cb3e5ad053926456560a229e.jpg  \n",
            " extracting: train/images/family_33_jpeg.rf.0d2c24a5a59866d2096226b0dc197768.jpg  \n",
            " extracting: train/images/family_33_jpeg.rf.e7989fe2c48a6848a009ed2c19b0dfb4.jpg  \n",
            " extracting: train/images/family_36_png.rf.018002595e90a58065fe38a31d8a30da.jpg  \n",
            " extracting: train/images/family_36_png.rf.33da2a770fd14a512035df273202b1ea.jpg  \n",
            " extracting: train/images/family_36_png.rf.940656d09bd273c8c910f36db6820171.jpg  \n",
            " extracting: train/images/family_3_jpeg.rf.3cce30ba85b5b076259f2de0869ea950.jpg  \n",
            " extracting: train/images/family_3_jpeg.rf.48f2f531bb6bb3b269c07e5b87f56c8a.jpg  \n",
            " extracting: train/images/family_3_jpeg.rf.879445089f5c7e4c363cccee1491475a.jpg  \n",
            " extracting: train/images/family_46_jpeg.rf.1eeb6683f0d19363ebc5254f00f10d8e.jpg  \n",
            " extracting: train/images/family_46_jpeg.rf.d224caf8baaa32116102e55fd2ec2205.jpg  \n",
            " extracting: train/images/family_46_jpeg.rf.e161e986cb4e20496e1e42dbd2e9bce7.jpg  \n",
            " extracting: train/images/family_48_jpeg.rf.9ce7ebb0ae4a14176a36dbece560d74f.jpg  \n",
            " extracting: train/images/family_48_jpeg.rf.cda41e779bc2ca920432614dc16ba9a4.jpg  \n",
            " extracting: train/images/family_54_jpeg.rf.272b8076db3645dd0b78d5db9ad9334a.jpg  \n",
            " extracting: train/images/family_54_jpeg.rf.7578efae25e45e1c8d099143070967a4.jpg  \n",
            " extracting: train/images/family_54_jpeg.rf.a525b9ea9c1a57b631ea121dcc1f2e66.jpg  \n",
            " extracting: train/images/family_56_jpeg.rf.1d8ba4b740bac5c298493d8d4c0db37a.jpg  \n",
            " extracting: train/images/family_56_jpeg.rf.46a0764a493f606acfb2b3def45cc859.jpg  \n",
            " extracting: train/images/family_56_jpeg.rf.d816cbf29e57fa5e268170855bc16c89.jpg  \n",
            " extracting: train/images/family_57_png.rf.3fbb3bbdf93d5712e384813c21088690.jpg  \n",
            " extracting: train/images/family_57_png.rf.5f85d6b96dfc5538c6b67a84cd80d911.jpg  \n",
            " extracting: train/images/family_57_png.rf.bae26794e4892dfa79773044f304000f.jpg  \n",
            " extracting: train/images/family_64_jpeg.rf.010bf858386f27ed26002c20a90a45ad.jpg  \n",
            " extracting: train/images/family_64_jpeg.rf.113957cb95a6e449aa112009676d4ff6.jpg  \n",
            " extracting: train/images/family_64_jpeg.rf.9b5dc41e28d9f720565dbb4da7b8fe11.jpg  \n",
            " extracting: train/images/family_66_jpeg.rf.0f4b5c212bea1a018844d2a2bf11c4f1.jpg  \n",
            " extracting: train/images/family_66_jpeg.rf.55605aef1e1d725cb35296113dd07c43.jpg  \n",
            " extracting: train/images/family_66_jpeg.rf.cb880ea8addedb55872b310687e8dfbc.jpg  \n",
            " extracting: train/images/family_67_png.rf.9134db67fbc734d186aa895c4140c5f1.jpg  \n",
            " extracting: train/images/family_67_png.rf.aaca77a6e70bb9e5c361e269e1342545.jpg  \n",
            " extracting: train/images/family_67_png.rf.af87ac88e1b8da10553c5038cf6de9ca.jpg  \n",
            " extracting: train/images/family_68_jpeg.rf.163b2c3a5779ee6d5577ea508d9142a5.jpg  \n",
            " extracting: train/images/family_68_jpeg.rf.3b6f78481b9600b74c10d0a3e2e32aca.jpg  \n",
            " extracting: train/images/family_68_jpeg.rf.7e07251cac4984c41ad8dea9928d082d.jpg  \n",
            " extracting: train/images/family_6_jpeg.rf.127df1e42f8d3943cc74089feefaf247.jpg  \n",
            " extracting: train/images/family_6_jpeg.rf.1ab7da56f6c0fcf9228cb2a91ff2fade.jpg  \n",
            " extracting: train/images/family_6_jpeg.rf.d7073e14085a608346985bec77647883.jpg  \n",
            " extracting: train/images/family_72_jpeg.rf.2cb2692b6327887c833d8ea6ab589b9f.jpg  \n",
            " extracting: train/images/family_72_jpeg.rf.7c20964146a578746970e3f4407827b2.jpg  \n",
            " extracting: train/images/family_72_jpeg.rf.986f0ddd35aaeb2b023f9b6a2401a98b.jpg  \n",
            " extracting: train/images/family_7_jpeg.rf.5bcf9255e37650da8334acc5bface68e.jpg  \n",
            " extracting: train/images/family_7_jpeg.rf.7b60f2dff9e5630b357759241dc7dac9.jpg  \n",
            " extracting: train/images/family_7_jpeg.rf.7cabce26ab51536f1b6a4a6e50409808.jpg  \n",
            " extracting: train/images/family_82_jpeg.rf.738f23e02b712b12b86a153223dd5421.jpg  \n",
            " extracting: train/images/family_82_jpeg.rf.96552edaeb2bc39cf2105d963842b493.jpg  \n",
            " extracting: train/images/family_82_jpeg.rf.f2a8ea240e2bd59f1a1a02822ea4c93d.jpg  \n",
            " extracting: train/images/full-body_11_jpeg.rf.3634c003465d9b4615d6c213029f02fe.jpg  \n",
            " extracting: train/images/full-body_11_jpeg.rf.7c7c7d26a02fb61da54a5244335bccfc.jpg  \n",
            " extracting: train/images/full-body_11_jpeg.rf.dbf84375deb483d08244e86cb6ef0c35.jpg  \n",
            " extracting: train/images/full-body_13_jpeg.rf.38a70f6cb77bc211fc3920fc26bf4371.jpg  \n",
            " extracting: train/images/full-body_13_jpeg.rf.f341ddc2a3114fac6d191a43fc1148d5.jpg  \n",
            " extracting: train/images/full-body_13_jpeg.rf.fc168b2a8b93d985165a8e666c31a888.jpg  \n",
            " extracting: train/images/full-body_17_jpeg.rf.41485e1f51c627302328f0e61a8b49b4.jpg  \n",
            " extracting: train/images/full-body_17_jpeg.rf.41caa60201b916308ca9b8be9dbd4234.jpg  \n",
            " extracting: train/images/full-body_17_jpeg.rf.73eb037802236012e06ae3bee0eccf58.jpg  \n",
            " extracting: train/images/full-body_18_jpeg.rf.743fb376091889d3149892111dae2705.jpg  \n",
            " extracting: train/images/full-body_18_jpeg.rf.fb639af5c9fd7da31598464d8ad37b05.jpg  \n",
            " extracting: train/images/full-body_24_jpeg.rf.3dc36d8bf5d05483752034e0b6044fd9.jpg  \n",
            " extracting: train/images/full-body_24_jpeg.rf.5f57c8f8ce201c184dc2eb4de3b5b995.jpg  \n",
            " extracting: train/images/full-body_24_jpeg.rf.8705eb68aa3e02ca0f1ee0430c453b2b.jpg  \n",
            " extracting: train/images/full-body_27_jpeg.rf.692156c1d2b58eda66290b837bcfdc4f.jpg  \n",
            " extracting: train/images/full-body_27_jpeg.rf.84a1809021f4f5ab441ae909d6d52921.jpg  \n",
            " extracting: train/images/full-body_27_jpeg.rf.b107ffa1c18dce5927eadf2a4c86b83e.jpg  \n",
            " extracting: train/images/full-body_33_jpeg.rf.1f30684070753bcc01aaf9be506e6d83.jpg  \n",
            " extracting: train/images/full-body_33_jpeg.rf.3038e8ab75954553a45422c547aaa084.jpg  \n",
            " extracting: train/images/full-body_33_jpeg.rf.de0b2aa55f4b0c8d0d4ce3dfcb1a5854.jpg  \n",
            " extracting: train/images/full-body_34_jpeg.rf.3a16e040c086a7f4cc5773e62c40561f.jpg  \n",
            " extracting: train/images/full-body_34_jpeg.rf.58c848f7baa905dfe381d2f5dbec00b1.jpg  \n",
            " extracting: train/images/full-body_34_jpeg.rf.985ec7f337e00ef3ec767f01e3ffa64f.jpg  \n",
            " extracting: train/images/full-body_3_jpeg.rf.4325fb526ef0af7a6095e7a27b540873.jpg  \n",
            " extracting: train/images/full-body_3_jpeg.rf.990497813b71f8cce2c939fa000576f5.jpg  \n",
            " extracting: train/images/full-body_3_jpeg.rf.fb1d61935f96c83bd07d2f59464944e7.jpg  \n",
            " extracting: train/images/full-body_46_jpeg.rf.8c19a2e2dcba25861203b1a2ac0c168b.jpg  \n",
            " extracting: train/images/full-body_46_jpeg.rf.a10388f64ec349d93a0dd61033021e55.jpg  \n",
            " extracting: train/images/full-body_46_jpeg.rf.cd1fc3794246cc29658723afbe5a7a8d.jpg  \n",
            " extracting: train/images/full-body_50_jpeg.rf.399c513191af1966e13e2d6da67802a9.jpg  \n",
            " extracting: train/images/full-body_50_jpeg.rf.ee5d19c304c2c2fd8f686ac9140abe60.jpg  \n",
            " extracting: train/images/full-body_50_jpeg.rf.eee8b351f2d21736df424328458453c8.jpg  \n",
            " extracting: train/images/full-body_57_jpeg.rf.47c6b71a380b6f54f9418a960fb88827.jpg  \n",
            " extracting: train/images/full-body_57_jpeg.rf.9e2c6323e451646f308591049d1ad0d7.jpg  \n",
            " extracting: train/images/full-body_57_jpeg.rf.ad1955d7bd47039260ec45543574c231.jpg  \n",
            " extracting: train/images/full-body_68_jpeg.rf.0c5436db69bd6283fc16aaf3c376c7f0.jpg  \n",
            " extracting: train/images/full-body_68_jpeg.rf.0e5563896e948e2616dd3d18e687b90b.jpg  \n",
            " extracting: train/images/full-body_68_jpeg.rf.4720432dbe6247ef8832b6a51afb7363.jpg  \n",
            " extracting: train/images/full-body_9_jpeg.rf.1236ce9b0bfb3152717437755b3eccf8.jpg  \n",
            " extracting: train/images/full-body_9_jpeg.rf.77c318dfb504bc223364fcec95e970aa.jpg  \n",
            " extracting: train/images/full-body_9_jpeg.rf.bcdf54367a5abeacec30d47b235254d6.jpg  \n",
            " extracting: train/images/kid-from-the-back_10_jpeg.rf.3f7081087d7d7f88642a8b0092c7a80b.jpg  \n",
            " extracting: train/images/kid-from-the-back_10_jpeg.rf.ccddeb9556595339f40009780c365c9e.jpg  \n",
            " extracting: train/images/kid-from-the-back_10_jpeg.rf.eeb78b8af69ab57d1a1c35f8418a1dbe.jpg  \n",
            " extracting: train/images/kid-from-the-back_12_jpeg.rf.58725efe55efaa34708766ee7477f996.jpg  \n",
            " extracting: train/images/kid-from-the-back_12_jpeg.rf.8721e7f584537cade005adce1dd27540.jpg  \n",
            " extracting: train/images/kid-from-the-back_12_jpeg.rf.8ad45717e3686da90f2cc09bce2fbbf3.jpg  \n",
            " extracting: train/images/kid-from-the-back_13_jpeg.rf.0d6522da56aa3485eec8ac532050d657.jpg  \n",
            " extracting: train/images/kid-from-the-back_13_jpeg.rf.306700623255eeb551ceaf793825a76e.jpg  \n",
            " extracting: train/images/kid-from-the-back_13_jpeg.rf.3982c079a7ea2b55b31913f9295c9fa7.jpg  \n",
            " extracting: train/images/kid-from-the-back_15_jpeg.rf.d489b695ca6a8ab603a6e7cfebf9ecda.jpg  \n",
            " extracting: train/images/kid-from-the-back_15_jpeg.rf.dde0be23d61a428ee506cd62ef36a858.jpg  \n",
            " extracting: train/images/kid-from-the-back_15_jpeg.rf.f1da3aa67736a8353017e8d87781df83.jpg  \n",
            " extracting: train/images/kid-from-the-back_16_jpeg.rf.16ebb5a45544d64e147d819598e1b02e.jpg  \n",
            " extracting: train/images/kid-from-the-back_16_jpeg.rf.2fc4c9b40530368335fb875b7d36a4f4.jpg  \n",
            " extracting: train/images/kid-from-the-back_16_jpeg.rf.37655569d5e5efc57756ae686535c705.jpg  \n",
            " extracting: train/images/kid-from-the-back_17_jpeg.rf.53d2e8e0719ba79bd20625477259d3e4.jpg  \n",
            " extracting: train/images/kid-from-the-back_17_jpeg.rf.641f44f22d2ce6da14a54a6f4392c78c.jpg  \n",
            " extracting: train/images/kid-from-the-back_17_jpeg.rf.9eabee2f7f49bfb75d1a6ef6bc575b80.jpg  \n",
            " extracting: train/images/kid-from-the-back_19_jpeg.rf.52306b23f9e2089a7c05f7cc0053d08f.jpg  \n",
            " extracting: train/images/kid-from-the-back_19_jpeg.rf.c43692104b13afd93ed850491688a87d.jpg  \n",
            " extracting: train/images/kid-from-the-back_19_jpeg.rf.f66a61c42951a9cf4f65c5e82f8edd23.jpg  \n",
            " extracting: train/images/kid-from-the-back_21_jpeg.rf.249db79cd4c9deb36deaf0201940f692.jpg  \n",
            " extracting: train/images/kid-from-the-back_21_jpeg.rf.54b4cf260d93dcabe2c209f462641d10.jpg  \n",
            " extracting: train/images/kid-from-the-back_21_jpeg.rf.607d2c7324acee2fa734b36c8ca6d731.jpg  \n",
            " extracting: train/images/kid-from-the-back_23_jpeg.rf.17853e6ff66d8ec27462364d278fb58a.jpg  \n",
            " extracting: train/images/kid-from-the-back_23_jpeg.rf.bd3f5dc0d70e5bc5400002b793663b67.jpg  \n",
            " extracting: train/images/kid-from-the-back_23_jpeg.rf.ec7f63a7b2c4f54ef01d08b48be193cf.jpg  \n",
            " extracting: train/images/kid-from-the-back_24_png.rf.341220ad66009cc15fb24811adc659bb.jpg  \n",
            " extracting: train/images/kid-from-the-back_24_png.rf.68cd2fadb89573138f7474e6aa54ccf2.jpg  \n",
            " extracting: train/images/kid-from-the-back_24_png.rf.7c38db7e1ef05025143ef5e5588fe141.jpg  \n",
            " extracting: train/images/kid-from-the-back_27_jpeg.rf.03fdd40d8621c72d317b97d731f0e28e.jpg  \n",
            " extracting: train/images/kid-from-the-back_27_jpeg.rf.47ec32020e814d662b2177e5dcd7645c.jpg  \n",
            " extracting: train/images/kid-from-the-back_27_jpeg.rf.7f0a25c00301d1f23d446ab730ddd569.jpg  \n",
            " extracting: train/images/kid-from-the-back_28_jpeg.rf.1fb07c44a09af5d8135a4ffdf0a25aa0.jpg  \n",
            " extracting: train/images/kid-from-the-back_28_jpeg.rf.6c7cbb9e892100da3e26ea9bb561f38a.jpg  \n",
            " extracting: train/images/kid-from-the-back_28_jpeg.rf.b1d38690fbc73f93458ddc6d322bdc9e.jpg  \n",
            " extracting: train/images/kid-from-the-back_32_jpeg.rf.ae9a2144990a6b94020faaae4112fc19.jpg  \n",
            " extracting: train/images/kid-from-the-back_32_jpeg.rf.cf57b48a211e010e596d71cf95bfd5c8.jpg  \n",
            " extracting: train/images/kid-from-the-back_32_jpeg.rf.dd9253a3dbd9f6914b3b1db72582bd9f.jpg  \n",
            " extracting: train/images/kid-from-the-back_34_jpeg.rf.98cb13e261752bbe64a52bdbf0ee4918.jpg  \n",
            " extracting: train/images/kid-from-the-back_34_jpeg.rf.b10bf42c5d8dcccecf5fb95199f7d5fe.jpg  \n",
            " extracting: train/images/kid-from-the-back_34_jpeg.rf.f5f4daf066e8c97f155a1539833c26e2.jpg  \n",
            " extracting: train/images/kid-from-the-back_35_jpeg.rf.39cf166494aaa322cf01e22208a2920a.jpg  \n",
            " extracting: train/images/kid-from-the-back_35_jpeg.rf.52e23f65891b37ea009c7d7e629fb3c8.jpg  \n",
            " extracting: train/images/kid-from-the-back_35_jpeg.rf.f3c305f6d6d001b2fe272e96adb2cb12.jpg  \n",
            " extracting: train/images/kid-from-the-back_36_jpeg.rf.5cd13c99f077fdc55193a419324cd992.jpg  \n",
            " extracting: train/images/kid-from-the-back_36_jpeg.rf.7a780d06e841575ec6b782eded116ef3.jpg  \n",
            " extracting: train/images/kid-from-the-back_36_jpeg.rf.f4ab48abe8c3e5301e682d75bdba1336.jpg  \n",
            " extracting: train/images/kid-from-the-back_37_jpeg.rf.00af14d6c17b081231e1280a6c15742a.jpg  \n",
            " extracting: train/images/kid-from-the-back_37_jpeg.rf.0d30bd06cc71a551d48ce48fa14bf24d.jpg  \n",
            " extracting: train/images/kid-from-the-back_37_jpeg.rf.de730195cee3669e22bbd4131717e2f1.jpg  \n",
            " extracting: train/images/kid-from-the-back_38_jpeg.rf.aa82f8a3146e344ed4c28235985a3852.jpg  \n",
            " extracting: train/images/kid-from-the-back_38_jpeg.rf.d2ada4a7686e4bd4b2dca08c87f9da6f.jpg  \n",
            " extracting: train/images/kid-from-the-back_38_jpeg.rf.d59cd5d3d9021a52c8c0676bd0af1ccb.jpg  \n",
            " extracting: train/images/kid-from-the-back_39_jpeg.rf.2be3d9a4539305429ca7f7a76b597f44.jpg  \n",
            " extracting: train/images/kid-from-the-back_39_jpeg.rf.3db98e2ce6105d0714bc68654db24377.jpg  \n",
            " extracting: train/images/kid-from-the-back_39_jpeg.rf.48483826ea58f2f67e0a3c61f040b928.jpg  \n",
            " extracting: train/images/kid-from-the-back_3_jpeg.rf.46b4e82bb44c062003b2260d4d75201c.jpg  \n",
            " extracting: train/images/kid-from-the-back_3_jpeg.rf.4d53e8e0ef3cf0db37f7d2540d703152.jpg  \n",
            " extracting: train/images/kid-from-the-back_3_jpeg.rf.8ea0e05ed33d6e4c3b5d7e1bd673040a.jpg  \n",
            " extracting: train/images/kid-from-the-back_40_png.rf.04310e16585ef649d03a1156d025d97b.jpg  \n",
            " extracting: train/images/kid-from-the-back_40_png.rf.a7687aba735dedbc0c12613f8ab967d9.jpg  \n",
            " extracting: train/images/kid-from-the-back_40_png.rf.f2049eef45889f334c97410761e3add0.jpg  \n",
            " extracting: train/images/kid-from-the-back_42_jpeg.rf.3c105a77d6a91e6dfb89f33afa157ffe.jpg  \n",
            " extracting: train/images/kid-from-the-back_42_jpeg.rf.aac35b62150dccb0aa640dcba3f15a70.jpg  \n",
            " extracting: train/images/kid-from-the-back_42_jpeg.rf.d939151cef10c8fd676da4ac80442440.jpg  \n",
            " extracting: train/images/kid-from-the-back_44_jpeg.rf.0723f5b3d801f158dcaf85485471e6de.jpg  \n",
            " extracting: train/images/kid-from-the-back_44_jpeg.rf.62d97eb1a9e3ef1bcb7e29b15ac51582.jpg  \n",
            " extracting: train/images/kid-from-the-back_44_jpeg.rf.c4ac7d06d06042f384cdc5d02323fb74.jpg  \n",
            " extracting: train/images/kid-from-the-back_45_jpeg.rf.0ee585ccfe7c0703ad2158af32d723d7.jpg  \n",
            " extracting: train/images/kid-from-the-back_45_jpeg.rf.7354c970155346401a3aa8485cb9049b.jpg  \n",
            " extracting: train/images/kid-from-the-back_45_jpeg.rf.e50b01cf7f569883f6473adef4d16064.jpg  \n",
            " extracting: train/images/kid-from-the-back_47_png.rf.2ec92011cdd9fc89faf235cd285e9710.jpg  \n",
            " extracting: train/images/kid-from-the-back_47_png.rf.39431fa07ba4352efa500dd13d2fc790.jpg  \n",
            " extracting: train/images/kid-from-the-back_47_png.rf.e500b7d76098dcf272fe26fcc3e2aa08.jpg  \n",
            " extracting: train/images/kid-from-the-back_48_jpeg.rf.0c755b55c24d7602476984700cfa7b31.jpg  \n",
            " extracting: train/images/kid-from-the-back_48_jpeg.rf.b99800cff2e6987b6319f60b2480b8a1.jpg  \n",
            " extracting: train/images/kid-from-the-back_48_jpeg.rf.ffe4f1be0741ab82d922cf676cff0859.jpg  \n",
            " extracting: train/images/kid-from-the-back_4_jpeg.rf.afffd569bc2f57c7810c4fccc5bd2e5e.jpg  \n",
            " extracting: train/images/kid-from-the-back_4_jpeg.rf.ccfb2b7971f269341935c5f4649ec199.jpg  \n",
            " extracting: train/images/kid-from-the-back_4_jpeg.rf.e148eea0ad4d0f8b765dda8bd76b183e.jpg  \n",
            " extracting: train/images/kid-from-the-back_50_jpeg.rf.6eb372207fb298be7477135317a06dd6.jpg  \n",
            " extracting: train/images/kid-from-the-back_50_jpeg.rf.cfd2c55a7a29a0d295d40fac406e12eb.jpg  \n",
            " extracting: train/images/kid-from-the-back_50_jpeg.rf.ee6d5a641302c7f6fc0935cb91d7f008.jpg  \n",
            " extracting: train/images/kid-from-the-back_51_jpeg.rf.877cacd39946a8515ae54e1f1fb888bc.jpg  \n",
            " extracting: train/images/kid-from-the-back_51_jpeg.rf.a2a7ec22289e7c775dc2f44e0983c189.jpg  \n",
            " extracting: train/images/kid-from-the-back_51_jpeg.rf.bc29849a91e55a14e88ca59cdf76e467.jpg  \n",
            " extracting: train/images/kid-from-the-back_52_jpeg.rf.69352ddde87f39170bd62d7d68cc1df4.jpg  \n",
            " extracting: train/images/kid-from-the-back_52_jpeg.rf.881f8265f414be4e9cf74b0699bf06c6.jpg  \n",
            " extracting: train/images/kid-from-the-back_52_jpeg.rf.fea7b30c2c9e8eb66f49464ab2c2182b.jpg  \n",
            " extracting: train/images/kid-from-the-back_53_jpeg.rf.04ca66b4b3b965b167f96f61236fcb9b.jpg  \n",
            " extracting: train/images/kid-from-the-back_53_jpeg.rf.41100e39c2e05b6b46f36ca303e758b5.jpg  \n",
            " extracting: train/images/kid-from-the-back_53_jpeg.rf.d54c472a9dca3678fb4cb2cdc6cf7386.jpg  \n",
            " extracting: train/images/kid-from-the-back_56_jpeg.rf.492a5f7468f3dfd3194e75668e508a80.jpg  \n",
            " extracting: train/images/kid-from-the-back_56_jpeg.rf.4dd85765a4e1298ed4e832dddc3a30e7.jpg  \n",
            " extracting: train/images/kid-from-the-back_56_jpeg.rf.eb868be214b3d1b2208f989f717ac2bb.jpg  \n",
            " extracting: train/images/kid-from-the-back_58_jpeg.rf.0d12f6191f004b3807785813492146ba.jpg  \n",
            " extracting: train/images/kid-from-the-back_58_jpeg.rf.66edbbaa6860a359e271150bf9ea4204.jpg  \n",
            " extracting: train/images/kid-from-the-back_58_jpeg.rf.be52bdc61e4bfc6a7766ae4334711936.jpg  \n",
            " extracting: train/images/kid-from-the-back_5_jpeg.rf.18faf37de35dee37f72c67a787ed9a0d.jpg  \n",
            " extracting: train/images/kid-from-the-back_5_jpeg.rf.4bd7bbc92e10542b3f30c810e7117c95.jpg  \n",
            " extracting: train/images/kid-from-the-back_5_jpeg.rf.9ce247bc84cc2b5ae24be30771520389.jpg  \n",
            " extracting: train/images/kid-from-the-back_61_jpeg.rf.3ba26d79687444dba14dd0446fc51b5c.jpg  \n",
            " extracting: train/images/kid-from-the-back_61_jpeg.rf.857abb2ea3bede47f179634f54749f95.jpg  \n",
            " extracting: train/images/kid-from-the-back_61_jpeg.rf.c10b26fd7b26e4e99c7b557f97c55cba.jpg  \n",
            " extracting: train/images/kid-from-the-back_64_jpeg.rf.77ec08f6c29677cd8664b86d36f6884a.jpg  \n",
            " extracting: train/images/kid-from-the-back_64_jpeg.rf.bbc324d63aecb3e14330f20c8ae1dc02.jpg  \n",
            " extracting: train/images/kid-from-the-back_64_jpeg.rf.f333358cbc216470b0e0c2aea28672c1.jpg  \n",
            " extracting: train/images/kid-from-the-back_65_jpeg.rf.414c4e8175ef2b5e5437fb58ce300652.jpg  \n",
            " extracting: train/images/kid-from-the-back_65_jpeg.rf.4f8c11cb45e3906c6bff1151e889d825.jpg  \n",
            " extracting: train/images/kid-from-the-back_65_jpeg.rf.6ae1e352de5ab83c225cea9c7c5afc7d.jpg  \n",
            " extracting: train/images/kid-from-the-back_66_jpeg.rf.a96d3cb36fe029648441f7c0927a4324.jpg  \n",
            " extracting: train/images/kid-from-the-back_66_jpeg.rf.aa91a6a1b4c6ed8c728198db53129fe7.jpg  \n",
            " extracting: train/images/kid-from-the-back_66_jpeg.rf.d12d457d79a87d9edcd5421034a14147.jpg  \n",
            " extracting: train/images/kid-from-the-back_68_jpeg.rf.54871f488301d085fdbb00266619dfee.jpg  \n",
            " extracting: train/images/kid-from-the-back_68_jpeg.rf.d4237e1d0ee0003fd4f6d8657bed742d.jpg  \n",
            " extracting: train/images/kid-from-the-back_68_jpeg.rf.dd432acf72e5ac67a4013adee74dd6fc.jpg  \n",
            " extracting: train/images/kid-from-the-back_6_jpeg.rf.13970bb021cb1a0c46377230d2a0bad8.jpg  \n",
            " extracting: train/images/kid-from-the-back_6_jpeg.rf.7ac532c96c5882fe33a62364216f6815.jpg  \n",
            " extracting: train/images/kid-from-the-back_6_jpeg.rf.df104fd8b1009016cc4a5819d1dc8d55.jpg  \n",
            " extracting: train/images/kid-from-the-back_7_jpeg.rf.39dec536dd3db0f3443771338fa2b12b.jpg  \n",
            " extracting: train/images/kid-from-the-back_7_jpeg.rf.87ad5d053399295495183c34a5fbf5f5.jpg  \n",
            " extracting: train/images/kid-from-the-back_7_jpeg.rf.db25df9825deb56d126caba48accecc6.jpg  \n",
            " extracting: train/images/kid-from-the-back_9_jpeg.rf.5ef4cff07ce26711e65944ebdd45bc4c.jpg  \n",
            " extracting: train/images/kid-from-the-back_9_jpeg.rf.60a67f7c01dc896c3e46b46730a02c01.jpg  \n",
            " extracting: train/images/kid-from-the-back_9_jpeg.rf.630339d964ae7be7d6146459ad6425d7.jpg  \n",
            " extracting: train/images/kid_10_jpeg.rf.4be5b9f9bc38afed74cda5f33931c858.jpg  \n",
            " extracting: train/images/kid_10_jpeg.rf.dc3635f29c536b175761a975bc687997.jpg  \n",
            " extracting: train/images/kid_10_jpeg.rf.fdc7d0ae5254cf5d5320e43b1d82d778.jpg  \n",
            " extracting: train/images/kid_11_jpeg.rf.4bc0c13ffe88ed5f186aaed590926acf.jpg  \n",
            " extracting: train/images/kid_11_jpeg.rf.735ddfb397e4559d16a15bde2657dc8d.jpg  \n",
            " extracting: train/images/kid_11_jpeg.rf.cd5f1bc9da8fac1a9b51b196d47151c4.jpg  \n",
            " extracting: train/images/kid_12_png.rf.437fa5078939f7896b00b2173838fac9.jpg  \n",
            " extracting: train/images/kid_12_png.rf.6aaeec7976c5c17fd6514c278bd36abb.jpg  \n",
            " extracting: train/images/kid_12_png.rf.f2bfe94fe62f2aa308c55635925c521d.jpg  \n",
            " extracting: train/images/kid_17_jpeg.rf.51c38b38d08354bbed418429cd14fd61.jpg  \n",
            " extracting: train/images/kid_17_jpeg.rf.b1d212d5af65eecd21e06c1f4c17c249.jpg  \n",
            " extracting: train/images/kid_17_jpeg.rf.c6b3207d8dd60b46ad7aa2aebc032710.jpg  \n",
            " extracting: train/images/kid_18_jpeg.rf.6a9f5f71022d9b7504881aa47e624233.jpg  \n",
            " extracting: train/images/kid_18_jpeg.rf.8fecc65ea74dab917dbb3b7cf8370f8e.jpg  \n",
            " extracting: train/images/kid_18_jpeg.rf.b89a3f8b416a78a5552eb2575d0b5186.jpg  \n",
            " extracting: train/images/kid_19_jpeg.rf.03868a0380b3671138b840fe1376f39b.jpg  \n",
            " extracting: train/images/kid_19_jpeg.rf.73c93919bc47a9cb3eaa6d898aca01fc.jpg  \n",
            " extracting: train/images/kid_19_jpeg.rf.d9ef363f09ababa96e2bbc7ccce0b266.jpg  \n",
            " extracting: train/images/kid_26_jpeg.rf.0825df0a1df3770068ec689adbee7615.jpg  \n",
            " extracting: train/images/kid_26_jpeg.rf.99ad305b14aebca592db8eded6906fef.jpg  \n",
            " extracting: train/images/kid_26_jpeg.rf.df61a70a4ff61156c469dc0e55d1fc2f.jpg  \n",
            " extracting: train/images/kid_30_jpeg.rf.284d4f8981f061a74aec06f94477c8e6.jpg  \n",
            " extracting: train/images/kid_30_jpeg.rf.5178dffb7235c917af2a722ccc0e436d.jpg  \n",
            " extracting: train/images/kid_30_jpeg.rf.f7c54364246240b647e059250b53f2b9.jpg  \n",
            " extracting: train/images/kid_31_jpeg.rf.5fc4dde3c62100ee8fed00d7ef1128f2.jpg  \n",
            " extracting: train/images/kid_31_jpeg.rf.68b14165a940a50870f3e4baa11e15fb.jpg  \n",
            " extracting: train/images/kid_31_jpeg.rf.6963d1f59225c1e09e95613aad20dd01.jpg  \n",
            " extracting: train/images/kid_32_jpeg.rf.81533de1341b491830c314797b8201c7.jpg  \n",
            " extracting: train/images/kid_32_jpeg.rf.df39708fe3cc70628465d88de457bc91.jpg  \n",
            " extracting: train/images/kid_32_jpeg.rf.f57a2e7231a85b9dc80b03c40700a6e5.jpg  \n",
            " extracting: train/images/kid_34_jpeg.rf.26a945e4d1c6d8a11ffda9c0463b00a1.jpg  \n",
            " extracting: train/images/kid_34_jpeg.rf.6a99ac17885ad85a3b95e8d40fdc5974.jpg  \n",
            " extracting: train/images/kid_34_jpeg.rf.abf58ad6f18d1d19d2263ffb199f7b69.jpg  \n",
            " extracting: train/images/kid_38_jpeg.rf.7338af9e7d5c2548b78a3474e470a4aa.jpg  \n",
            " extracting: train/images/kid_38_jpeg.rf.936e7854104d51bc50425cff25652296.jpg  \n",
            " extracting: train/images/kid_38_jpeg.rf.d3525123945d1d6c2deaf086099bded4.jpg  \n",
            " extracting: train/images/kid_3_jpeg.rf.6838f65208448d7be593f0be3d447391.jpg  \n",
            " extracting: train/images/kid_3_jpeg.rf.7baddb51738b27d17208cfe55d96e51d.jpg  \n",
            " extracting: train/images/kid_3_jpeg.rf.8ed731f66c120ade53a2c4a736c7ce52.jpg  \n",
            " extracting: train/images/kid_40_png.rf.813658b580a290139da2bc4c9ebecfb1.jpg  \n",
            " extracting: train/images/kid_40_png.rf.92725a39327ba0eb7c6f4d6ec9eb59dd.jpg  \n",
            " extracting: train/images/kid_40_png.rf.d223c19eab44356e0f39fd6d28c0c886.jpg  \n",
            " extracting: train/images/kid_41_jpeg.rf.917f7b56ec32128c157c9c405542e075.jpg  \n",
            " extracting: train/images/kid_41_jpeg.rf.b7b5282b1bd8b7484d7f04e28244b17b.jpg  \n",
            " extracting: train/images/kid_41_jpeg.rf.f0a22fd59e1c78df16bc9a848469c286.jpg  \n",
            " extracting: train/images/kid_42_jpeg.rf.0bd2cf81160a058400607bba94743635.jpg  \n",
            " extracting: train/images/kid_42_jpeg.rf.82c7999ce21c36651a7dd6c2d5de694a.jpg  \n",
            " extracting: train/images/kid_42_jpeg.rf.bf0772cbed0f02563183db10219e4e04.jpg  \n",
            " extracting: train/images/kid_4_jpeg.rf.19eb40a333567b9299d7f658c5f6d5ff.jpg  \n",
            " extracting: train/images/kid_4_jpeg.rf.c3106d1b7db3981004be27cb63252deb.jpg  \n",
            " extracting: train/images/kid_4_jpeg.rf.f3d5a9b5391e1189d5819b1a9a9b31e3.jpg  \n",
            " extracting: train/images/kid_52_jpeg.rf.c78510a063a9d9c9d8b6266972c38dba.jpg  \n",
            " extracting: train/images/kid_52_jpeg.rf.d635ec677dd6aada4f90b1d662d21b46.jpg  \n",
            " extracting: train/images/kid_52_jpeg.rf.f7bbb0288d23c6909bf81680fee2acda.jpg  \n",
            " extracting: train/images/kid_54_jpeg.rf.169c76ab131667fd607f0c1b2ea3bbc9.jpg  \n",
            " extracting: train/images/kid_54_jpeg.rf.978569c0935e883004b7ceb5112c26d7.jpg  \n",
            " extracting: train/images/kid_54_jpeg.rf.dd3432998ef51c62965bbe1fbbd70e73.jpg  \n",
            " extracting: train/images/kid_55_jpeg.rf.2a9a437ef508d2fb39e726d42034e739.jpg  \n",
            " extracting: train/images/kid_55_jpeg.rf.2b8588a3db6d08b24faaf5d71780dc93.jpg  \n",
            " extracting: train/images/kid_55_jpeg.rf.60a3cfcdf2940b7e1f24bbd39f62f28a.jpg  \n",
            " extracting: train/images/kid_56_jpeg.rf.22c107fb8f58b3819ff276f03b3d224f.jpg  \n",
            " extracting: train/images/kid_56_jpeg.rf.78072803cfcd8b7b8eabff9a5d334e1f.jpg  \n",
            " extracting: train/images/kid_56_jpeg.rf.a7591bb5267c24b737e6bfca97316266.jpg  \n",
            " extracting: train/images/kid_5_jpeg.rf.097d543aedd9dbcd3b8ad69d314b97e0.jpg  \n",
            " extracting: train/images/kid_5_jpeg.rf.47269a23f7075b37e28ad513d0ae5e7b.jpg  \n",
            " extracting: train/images/kid_5_jpeg.rf.b59b27f6bda6c740324997b7c04da9e2.jpg  \n",
            " extracting: train/images/kid_63_jpeg.rf.1ecdcca3e032387476a3571290599641.jpg  \n",
            " extracting: train/images/kid_63_jpeg.rf.809361522b3ee9f30262c3bc587eaf51.jpg  \n",
            " extracting: train/images/kid_63_jpeg.rf.dfe20261f934204abf8a06adc9855489.jpg  \n",
            " extracting: train/images/kid_66_jpeg.rf.3d889c4fc63a144955a364e9abbd1203.jpg  \n",
            " extracting: train/images/kid_66_jpeg.rf.9c5911dea09e1c7f42fd54341eaa5bc8.jpg  \n",
            " extracting: train/images/kid_66_jpeg.rf.dfafd8bb2ed5725f78396965b2f4e0cf.jpg  \n",
            " extracting: train/images/kid_6_jpeg.rf.6325679e1afb024085f6b844e3f16b31.jpg  \n",
            " extracting: train/images/kid_6_jpeg.rf.aea15f227730f9a3ffbf8e678c15d29a.jpg  \n",
            " extracting: train/images/kid_6_jpeg.rf.fde4b1e5a57998b331449864a6ce74e3.jpg  \n",
            " extracting: train/images/kid_70_jpeg.rf.d488e3f71d8b0542b7719a6a015af0fd.jpg  \n",
            " extracting: train/images/kid_70_jpeg.rf.fa7f57918105a7a03aecafbc2265b2ee.jpg  \n",
            " extracting: train/images/kid_8_jpeg.rf.31e95196e0349511269103180b1f8f09.jpg  \n",
            " extracting: train/images/kid_8_jpeg.rf.dbd76bcbff3b913f9242e6c268fb1cb4.jpg  \n",
            " extracting: train/images/kid_8_jpeg.rf.f38887c0b02c358f391db149d7e3da60.jpg  \n",
            " extracting: train/images/kid_9_jpeg.rf.020b032c6bbd981736f9b4e577aeb86c.jpg  \n",
            " extracting: train/images/kid_9_jpeg.rf.144a895934c2f2e08a8d1d4f44e12956.jpg  \n",
            " extracting: train/images/kid_9_jpeg.rf.7e9032243c4637df34d93dbd5be7674b.jpg  \n",
            " extracting: train/images/people-from-the-back_10_jpeg.rf.28137223e6fa3966a369573d3512cbfd.jpg  \n",
            " extracting: train/images/people-from-the-back_10_jpeg.rf.3784b8e6f642d81cb73c412f1bdae436.jpg  \n",
            " extracting: train/images/people-from-the-back_10_jpeg.rf.f06e50b42765db891a2e06462e1a4de5.jpg  \n",
            " extracting: train/images/people-from-the-back_11_jpeg.rf.3076a68e84518e6e28f26272ca8b7484.jpg  \n",
            " extracting: train/images/people-from-the-back_11_jpeg.rf.61da1b6f674794124f2969c21e662221.jpg  \n",
            " extracting: train/images/people-from-the-back_11_jpeg.rf.6d73a62d2cb4165b16c232203c4388c7.jpg  \n",
            " extracting: train/images/people-from-the-back_14_png.rf.512b63316104cbea77f0006c457ce952.jpg  \n",
            " extracting: train/images/people-from-the-back_14_png.rf.a6ad8e945d91821574f1d756475c5178.jpg  \n",
            " extracting: train/images/people-from-the-back_14_png.rf.e28912acf6801bb43e3a2f6b5592fe32.jpg  \n",
            " extracting: train/images/people-from-the-back_15_jpeg.rf.3fb9ea51892e015854ede546412e819c.jpg  \n",
            " extracting: train/images/people-from-the-back_15_jpeg.rf.53515d01c6daecfcf25bdb34f78c1499.jpg  \n",
            " extracting: train/images/people-from-the-back_15_jpeg.rf.906fadbb616cd3c493593e633984dcee.jpg  \n",
            " extracting: train/images/people-from-the-back_17_png.rf.4d76b5743e164ed5777003b187da0360.jpg  \n",
            " extracting: train/images/people-from-the-back_17_png.rf.b7e09fc1e1f2cd77103f8526f3e40e57.jpg  \n",
            " extracting: train/images/people-from-the-back_17_png.rf.bf6a6144164d39a0540d597f6b3faecd.jpg  \n",
            " extracting: train/images/people-from-the-back_19_jpeg.rf.1ddb531bccbcf7fc02c22ae4d3f01b18.jpg  \n",
            " extracting: train/images/people-from-the-back_19_jpeg.rf.7b3c6c5a96f0c4b48e68a5d0eef03d48.jpg  \n",
            " extracting: train/images/people-from-the-back_19_jpeg.rf.a7719619d4ebe26a819faf408ad3a80c.jpg  \n",
            " extracting: train/images/people-from-the-back_23_jpeg.rf.4bff38ac9d373a8b597a9473d1d49169.jpg  \n",
            " extracting: train/images/people-from-the-back_23_jpeg.rf.8cef46354351a240ff6ec667ed5858ec.jpg  \n",
            " extracting: train/images/people-from-the-back_23_jpeg.rf.cd1c0f07ee083fd52b9f051410ec36a5.jpg  \n",
            " extracting: train/images/people-from-the-back_25_jpeg.rf.0cfb8309d2c464aeac404bd14e35818d.jpg  \n",
            " extracting: train/images/people-from-the-back_25_jpeg.rf.1241c4a1fa51e205e01d4c53250e36f6.jpg  \n",
            " extracting: train/images/people-from-the-back_25_jpeg.rf.290e6bbfdbab375f484a739035c90860.jpg  \n",
            " extracting: train/images/people-from-the-back_28_jpeg.rf.4119b5c730e8086b96bb87e85fe77dc3.jpg  \n",
            " extracting: train/images/people-from-the-back_28_jpeg.rf.71074664602d5dcb946f8d97db622742.jpg  \n",
            " extracting: train/images/people-from-the-back_28_jpeg.rf.7f61c2d7910b812bf98b65fd0dbff77f.jpg  \n",
            " extracting: train/images/people-from-the-back_32_jpeg.rf.89374d3a56f7cbc0466f5b5354c6bb26.jpg  \n",
            " extracting: train/images/people-from-the-back_32_jpeg.rf.b484c8ea9c4c39fc2ce6bc4b5b2b94e5.jpg  \n",
            " extracting: train/images/people-from-the-back_32_jpeg.rf.ba8489d336a7b6b91b208a51e8cb65fe.jpg  \n",
            " extracting: train/images/people-from-the-back_36_jpeg.rf.211ac4b92230eaf881458b36d6a162d2.jpg  \n",
            " extracting: train/images/people-from-the-back_36_jpeg.rf.558ab65bd77c1f9001768f41f992d052.jpg  \n",
            " extracting: train/images/people-from-the-back_36_jpeg.rf.5c0480685a0ced6c36c5837a7c441520.jpg  \n",
            " extracting: train/images/people-from-the-back_3_jpeg.rf.5615bc43d528c53a33fae7120175cf1c.jpg  \n",
            " extracting: train/images/people-from-the-back_3_jpeg.rf.9a890cafe7bd6d5c71c42be265c9fec8.jpg  \n",
            " extracting: train/images/people-from-the-back_3_jpeg.rf.fbaa1213ad566232164cd2ff27701d3c.jpg  \n",
            " extracting: train/images/people-from-the-back_40_png.rf.36c726d0f2b3c8eee09de08f9352e94b.jpg  \n",
            " extracting: train/images/people-from-the-back_40_png.rf.c2da1c38b3dc3cf5a22fe67e544eec6b.jpg  \n",
            " extracting: train/images/people-from-the-back_40_png.rf.f63bb3a2b6b7a0935bbf88b33e9cfe76.jpg  \n",
            " extracting: train/images/people-from-the-back_46_jpeg.rf.16e37c6cc07c538ac3bae0f5371ea006.jpg  \n",
            " extracting: train/images/people-from-the-back_46_jpeg.rf.3d6d80a92a906749503490a9a08b3bed.jpg  \n",
            " extracting: train/images/people-from-the-back_46_jpeg.rf.cddd828ad85a94e309e563563a13ddff.jpg  \n",
            " extracting: train/images/people-from-the-back_47_jpeg.rf.712428da575684c23bb71a520191ed5c.jpg  \n",
            " extracting: train/images/people-from-the-back_47_jpeg.rf.7fbc7ea4da10f4061e33b023df0f7fc9.jpg  \n",
            " extracting: train/images/people-from-the-back_47_jpeg.rf.806620e378d077268333a8574bb9fd87.jpg  \n",
            " extracting: train/images/people-from-the-back_4_jpeg.rf.2692525d93e058f131e163d75d383c75.jpg  \n",
            " extracting: train/images/people-from-the-back_4_jpeg.rf.d8b68dc77c1d54679f31de53475b50dc.jpg  \n",
            " extracting: train/images/people-from-the-back_4_jpeg.rf.f718da3ac98a413fd330071a0d8436f4.jpg  \n",
            " extracting: train/images/people-from-the-back_59_png.rf.1a3396fed6ed34fc054c9e22f56049cb.jpg  \n",
            " extracting: train/images/people-from-the-back_59_png.rf.1a495198e8e28f06cb1f68474c61fdd0.jpg  \n",
            " extracting: train/images/people-from-the-back_59_png.rf.20b6be63204ec3667b1613069970d9dc.jpg  \n",
            " extracting: train/images/people-from-the-back_5_jpeg.rf.10fae00907c17200a3a9f68825b99324.jpg  \n",
            " extracting: train/images/people-from-the-back_5_jpeg.rf.b2a772979c9798485000820aa5b8e4b7.jpg  \n",
            " extracting: train/images/people-from-the-back_5_jpeg.rf.bca80f6b54dafabe5c5e33e3770ddba3.jpg  \n",
            " extracting: train/images/people-from-the-back_60_jpeg.rf.2affcd52459817d3f816e7065977b53e.jpg  \n",
            " extracting: train/images/people-from-the-back_60_jpeg.rf.55796760ec300a3c58363eb632bffeed.jpg  \n",
            " extracting: train/images/people-from-the-back_60_jpeg.rf.d93e17f0a83ba6586e664fb15f528aea.jpg  \n",
            " extracting: train/images/people-from-the-back_66_jpeg.rf.1d3d44d93d7e194719d75805a6229dee.jpg  \n",
            " extracting: train/images/people-from-the-back_66_jpeg.rf.28f5d6384d0d4ccffbb2debd2d3b2d01.jpg  \n",
            " extracting: train/images/people-from-the-back_66_jpeg.rf.ac467cb857e6d56a4d8d6d02e78622ae.jpg  \n",
            " extracting: train/images/people-from-the-back_67_jpeg.rf.076200025e4bd74861e50bfc74ba3c65.jpg  \n",
            " extracting: train/images/people-from-the-back_67_jpeg.rf.1ec876ebd7e5ee23432616fc890f8723.jpg  \n",
            " extracting: train/images/people-from-the-back_67_jpeg.rf.f79712fc156f868c5295910752a1e7fb.jpg  \n",
            " extracting: train/images/people-from-the-back_69_jpeg.rf.b9efbe7e18cac7204f3239835fb37a47.jpg  \n",
            " extracting: train/images/people-from-the-back_69_jpeg.rf.e221b328656a19ccb01beade1f7a0bdc.jpg  \n",
            " extracting: train/images/people-from-the-back_69_jpeg.rf.eaaa7bd31630c72a28baadb6d3b40c9f.jpg  \n",
            " extracting: train/images/people-from-the-back_71_png.rf.1525c524c4158d01f6778450b5145e26.jpg  \n",
            " extracting: train/images/people-from-the-back_71_png.rf.6b0796469a397ebc2c521f4707dbfc33.jpg  \n",
            " extracting: train/images/people-from-the-back_71_png.rf.f9a36ab82eac2a07a1fcf88dd70f74df.jpg  \n",
            " extracting: train/images/people-from-the-back_7_jpeg.rf.060fb2c2f8292705770f2388e9a3dd57.jpg  \n",
            " extracting: train/images/people-from-the-back_7_jpeg.rf.d147ee694512ae02824d2f5416d33d4f.jpg  \n",
            " extracting: train/images/people-from-the-back_7_jpeg.rf.fcdb86eb628e3427523bb12663566dac.jpg  \n",
            " extracting: train/images/people_11_jpeg.rf.2364877500f01461790489d9022ddecb.jpg  \n",
            " extracting: train/images/people_11_jpeg.rf.3e0d578660d18e828d4ba2e830419704.jpg  \n",
            " extracting: train/images/people_11_jpeg.rf.a907c0dae83361d8f5e26b90e5c6ea3e.jpg  \n",
            " extracting: train/images/people_15_jpeg.rf.5c4fe953f03e20eece5032463f62d5be.jpg  \n",
            " extracting: train/images/people_15_jpeg.rf.7e9aca444aebe4bd3f18645a52d99c84.jpg  \n",
            " extracting: train/images/people_15_jpeg.rf.9a8a57cbdea398a6d5ec226edae36bbd.jpg  \n",
            " extracting: train/images/people_17_jpeg.rf.005a9330755b3023064bc850b00567a6.jpg  \n",
            " extracting: train/images/people_17_jpeg.rf.87ac6326e129f626251afb5adfaceac9.jpg  \n",
            " extracting: train/images/people_17_jpeg.rf.e0b1af6b3e5e937d026072d61616db63.jpg  \n",
            " extracting: train/images/people_21_jpeg.rf.21968bb5996df94b07da61b7c4432d2e.jpg  \n",
            " extracting: train/images/people_21_jpeg.rf.6752ab5ef4a47789aa468638910d3525.jpg  \n",
            " extracting: train/images/people_21_jpeg.rf.80896e1b2ab84856086c2f2c51b66a68.jpg  \n",
            " extracting: train/images/people_25_jpeg.rf.6766bffcfc2c103bb00fe6e35c23f10a.jpg  \n",
            " extracting: train/images/people_25_jpeg.rf.a2116bb115e14723d3d2922dad341c93.jpg  \n",
            " extracting: train/images/people_25_jpeg.rf.f1085f2713274263a08a6aabb276c8dc.jpg  \n",
            " extracting: train/images/people_26_jpeg.rf.0bbb577badf9e8935f1b29d15d5fd7b1.jpg  \n",
            " extracting: train/images/people_26_jpeg.rf.8867a15ab30fa55bf3f51542a57ad907.jpg  \n",
            " extracting: train/images/people_26_jpeg.rf.d45b525c07d7a1c5a21ecb05d51fcb68.jpg  \n",
            " extracting: train/images/people_27_jpeg.rf.7bb3ced42162a0d1ceeefed6f56e5bc4.jpg  \n",
            " extracting: train/images/people_27_jpeg.rf.bf0e39c8c06b4041a9aae99a93f31f95.jpg  \n",
            " extracting: train/images/people_27_jpeg.rf.fff40c5880354ad9a25e03816204f5e7.jpg  \n",
            " extracting: train/images/people_31_jpeg.rf.2d7dfc439c2d6c2c3adb9e3e31a6116a.jpg  \n",
            " extracting: train/images/people_31_jpeg.rf.468d543ef180350e45b772231cc3dd3a.jpg  \n",
            " extracting: train/images/people_31_jpeg.rf.e7b9998bf8727a766805ab9e385585e3.jpg  \n",
            " extracting: train/images/people_33_jpeg.rf.5c478d729b56c7445c27e1cf5a7f747e.jpg  \n",
            " extracting: train/images/people_33_jpeg.rf.a47e8b4c5e3378558b815631b468d529.jpg  \n",
            " extracting: train/images/people_33_jpeg.rf.b62a453b5de88d3783ab7410036ece59.jpg  \n",
            " extracting: train/images/people_34_jpeg.rf.0a59d284e3b402c8df9ed795f79020ca.jpg  \n",
            " extracting: train/images/people_34_jpeg.rf.78c0ca5c8e89258a5d68ddc359c807d4.jpg  \n",
            " extracting: train/images/people_34_jpeg.rf.78e4b9e711dd8702d575ce5b163a72ed.jpg  \n",
            " extracting: train/images/people_35_png.rf.2aa88f10a34be2fc26014d66a21926ec.jpg  \n",
            " extracting: train/images/people_35_png.rf.63daa014cdbe4ce19c86b83e661c52f0.jpg  \n",
            " extracting: train/images/people_35_png.rf.f5bed032fb1071949f52f104765c4285.jpg  \n",
            " extracting: train/images/people_36_jpeg.rf.2512f5850499bb71e8ec9f035a404862.jpg  \n",
            " extracting: train/images/people_36_jpeg.rf.5e6f7d2656cac4eb0a9299b62f4ebd07.jpg  \n",
            " extracting: train/images/people_36_jpeg.rf.841efecb6466416ce69981890cf0e9b7.jpg  \n",
            " extracting: train/images/people_37_png.rf.a1ca88470109f29324c60de020b6e2b3.jpg  \n",
            " extracting: train/images/people_37_png.rf.d4994a5c6254a7bd1ff517c38b9b4e79.jpg  \n",
            " extracting: train/images/people_37_png.rf.dfa8fb8f36fb964dc3f98c8737e3dd96.jpg  \n",
            " extracting: train/images/people_40_jpeg.rf.0a40a2ba4fc87cec7ed39b851579c02d.jpg  \n",
            " extracting: train/images/people_40_jpeg.rf.4d4871d9c62b965ae439cf53f7a4e83f.jpg  \n",
            " extracting: train/images/people_40_jpeg.rf.5f0e80ee07b92c841681334e77d4b526.jpg  \n",
            " extracting: train/images/people_43_jpeg.rf.415b5bf9263b5619460dec258190ba44.jpg  \n",
            " extracting: train/images/people_43_jpeg.rf.9b302aff8e48d84585136a7e68b6b16e.jpg  \n",
            " extracting: train/images/people_43_jpeg.rf.f375ea07ee1b474edbb82cdb56f17c09.jpg  \n",
            " extracting: train/images/people_47_jpeg.rf.050ee5a7b390bc6da9f9ac87d35149c5.jpg  \n",
            " extracting: train/images/people_47_jpeg.rf.728fb71bbeeb82ccea2feaa761339e2b.jpg  \n",
            " extracting: train/images/people_47_jpeg.rf.eb7ae989788b810ac5f2e3605871624f.jpg  \n",
            " extracting: train/images/people_48_jpeg.rf.9a7d0ac9b30122bf650077fdec3c6872.jpg  \n",
            " extracting: train/images/people_48_jpeg.rf.a7990bbf649026ad8201a1619e2b273d.jpg  \n",
            " extracting: train/images/people_48_jpeg.rf.e559d2bed1bb4ea246798bc9e8ef867e.jpg  \n",
            " extracting: train/images/people_4_jpeg.rf.69907fa3a2d22901d2076fa88029a820.jpg  \n",
            " extracting: train/images/people_4_jpeg.rf.80e36da2f22b1547f3d9ba8fd61c359e.jpg  \n",
            " extracting: train/images/people_4_jpeg.rf.d75920341d8d18657435e5fe5c703c75.jpg  \n",
            " extracting: train/images/people_56_jpeg.rf.54f38539f1b7ac8a7b2a211ce255e570.jpg  \n",
            " extracting: train/images/people_56_jpeg.rf.61d821b198d4efd69012ff94989b4e6b.jpg  \n",
            " extracting: train/images/people_56_jpeg.rf.ffe58c69d2e84f58e713531a2db30ba9.jpg  \n",
            " extracting: train/images/people_61_jpeg.rf.3f611932aa3699ddbf0a66ee26f3f544.jpg  \n",
            " extracting: train/images/people_61_jpeg.rf.497c42d9d7faa44059d58d714f4e49df.jpg  \n",
            " extracting: train/images/people_61_jpeg.rf.aa9682914a28ce4a1c4ada1f6c0d3266.jpg  \n",
            " extracting: train/images/people_62_png.rf.acb8cdf78ed72719975183c70b3633d1.jpg  \n",
            " extracting: train/images/people_62_png.rf.b9e83b096aa1530cff4a2bbba2430f35.jpg  \n",
            " extracting: train/images/people_62_png.rf.d6cf15011e8048f06d18f4129c62b951.jpg  \n",
            " extracting: train/images/pool-day_28_jpeg.rf.381769ad2f63cf5875f3938c39dc7068.jpg  \n",
            " extracting: train/images/pool-day_28_jpeg.rf.da8ef9e623c60dca0b20fa69384b476c.jpg  \n",
            " extracting: train/images/pool-day_28_jpeg.rf.f73a9c44fd19e04d1b698c863c294a66.jpg  \n",
            " extracting: train/images/pool-day_48_jpeg.rf.d01e9a2cffbd3eefb5029a30b621459a.jpg  \n",
            " extracting: train/images/pool-day_48_jpeg.rf.d21a3d75523a86f156e974072a2d88c7.jpg  \n",
            " extracting: train/images/pool-day_48_jpeg.rf.f559c2fb3f297ccc596eaff8ca6a5916.jpg  \n",
            " extracting: train/images/pool-day_58_jpeg.rf.4c98a92a734d946accd8e1f0289fac08.jpg  \n",
            " extracting: train/images/pool-day_58_jpeg.rf.a18a1ffa1eb0337fc3491fae04c69e52.jpg  \n",
            " extracting: train/images/pool-day_58_jpeg.rf.d67b5cd72f10167496d0e29a127f5c91.jpg  \n",
            " extracting: train/images/pool-day_61_jpeg.rf.61c4aa327e6d2aef0bf9bd9a67604dfd.jpg  \n",
            " extracting: train/images/pool-day_61_jpeg.rf.8223244d9b18363534b74f1bc18f3075.jpg  \n",
            " extracting: train/images/pool-day_61_jpeg.rf.ac49d0803983b15730fe1670d1e3b4f5.jpg  \n",
            " extracting: train/images/pool-day_69_jpeg.rf.12ff3c2ecf4846804444eb0124e4b318.jpg  \n",
            " extracting: train/images/pool-day_69_jpeg.rf.4a7ed58e7bdacc1549c33c499f6a09dd.jpg  \n",
            " extracting: train/images/pool-day_69_jpeg.rf.8c762f10ba763cdd6abb7c6183df5fa2.jpg  \n",
            "   creating: train/labels/\n",
            " extracting: train/labels/adult_102_jpeg.rf.5f86679ab7a025d6aaefc22e2193c9fc.txt  \n",
            " extracting: train/labels/adult_102_jpeg.rf.7e746f575376bcc30aa5f77c67be30ef.txt  \n",
            " extracting: train/labels/adult_102_jpeg.rf.89238f3bc4fd34493f6fc33d05b5a1d1.txt  \n",
            " extracting: train/labels/adult_106_jpeg.rf.28285dc5d6dd5367671ba72d8633c4fd.txt  \n",
            " extracting: train/labels/adult_106_jpeg.rf.a853708fab02009ca2d32862a6c31f4b.txt  \n",
            " extracting: train/labels/adult_106_jpeg.rf.e11c2793c02a2e969d7da0cef2d6fb16.txt  \n",
            " extracting: train/labels/adult_107_jpeg.rf.62fedc8a9f4442c47eaaeabcfa2d8f62.txt  \n",
            " extracting: train/labels/adult_107_jpeg.rf.a824953c24298ba0af76abbf4e3141df.txt  \n",
            " extracting: train/labels/adult_107_jpeg.rf.ef43de948ff91c683a01c642647e01c0.txt  \n",
            " extracting: train/labels/adult_108_jpeg.rf.3bef25e6ec673e452e4174f275c374cb.txt  \n",
            " extracting: train/labels/adult_108_jpeg.rf.86542b53f20bf8e48ffd81696e64aaab.txt  \n",
            " extracting: train/labels/adult_108_jpeg.rf.f01e5e8455c341adad713c238dab934e.txt  \n",
            " extracting: train/labels/adult_109_png.rf.1d4fbbb334e86946f1e3a32b2075b8d8.txt  \n",
            " extracting: train/labels/adult_109_png.rf.5c959e84ca42fae02bd845fd2f5211d3.txt  \n",
            " extracting: train/labels/adult_109_png.rf.cb65eeb2f0e62613e048d5b54c61896c.txt  \n",
            " extracting: train/labels/adult_10_jpeg.rf.4d6567d05d362feaaa74de272159f2a1.txt  \n",
            " extracting: train/labels/adult_10_jpeg.rf.8bb60ca1da424ca9838ddebe03896671.txt  \n",
            " extracting: train/labels/adult_10_jpeg.rf.ec0e3949c2fc34ef1e418933550f145e.txt  \n",
            " extracting: train/labels/adult_110_jpeg.rf.121c2a8a302c733cab98f9bcaf8afb3b.txt  \n",
            " extracting: train/labels/adult_110_jpeg.rf.21c0d8b2dfecccbc8a43605587ef65f2.txt  \n",
            " extracting: train/labels/adult_110_jpeg.rf.ef49abd851ca4504bf9af439e140d28b.txt  \n",
            " extracting: train/labels/adult_113_jpeg.rf.5647c31112368fd9e98e1b3cfc929735.txt  \n",
            " extracting: train/labels/adult_113_jpeg.rf.61eefcc55bcb6c3339f9b9039cc42d2b.txt  \n",
            " extracting: train/labels/adult_113_jpeg.rf.e8384b5019c29f2c7f91db1493512d0e.txt  \n",
            " extracting: train/labels/adult_115_jpeg.rf.15563da3c027473d899f66e9e90d9278.txt  \n",
            " extracting: train/labels/adult_115_jpeg.rf.5fa24175304d9f3bd7c88b42bedfbadb.txt  \n",
            " extracting: train/labels/adult_115_jpeg.rf.f425784f923f6276a24b4d2f1cb85157.txt  \n",
            " extracting: train/labels/adult_118_jpeg.rf.0439ae762495df1191363c19222720fe.txt  \n",
            " extracting: train/labels/adult_118_jpeg.rf.756214a2ac58c9da892d34bdf2ecd6bb.txt  \n",
            " extracting: train/labels/adult_118_jpeg.rf.fcb92ebb9b2a0cfd35d4ba5d875a4e3e.txt  \n",
            " extracting: train/labels/adult_125_jpeg.rf.1b7ecbb05677b00a72c277f093c38f7c.txt  \n",
            " extracting: train/labels/adult_125_jpeg.rf.3bae82d2dd4df0e2db51b5b22a1c039c.txt  \n",
            " extracting: train/labels/adult_125_jpeg.rf.e66cd599e600b52038681ba90b2f7c83.txt  \n",
            " extracting: train/labels/adult_126_jpeg.rf.414f5855d4ab0a7fc8163d4225baa1ff.txt  \n",
            " extracting: train/labels/adult_126_jpeg.rf.5883f306d839d946321d2395a08c51ae.txt  \n",
            " extracting: train/labels/adult_126_jpeg.rf.fbbf04443ed5b35525d8cbf377e36cad.txt  \n",
            " extracting: train/labels/adult_12_jpeg.rf.32bcd530e1f0abacbeb45851abf12e7e.txt  \n",
            " extracting: train/labels/adult_12_jpeg.rf.849f5e129345d5f2568492aa15e00f8f.txt  \n",
            " extracting: train/labels/adult_12_jpeg.rf.bbfa733ab4cd541b6e7faae183bbd2a9.txt  \n",
            " extracting: train/labels/adult_131_jpeg.rf.0e06647d2fde505d738a260c41e59c88.txt  \n",
            " extracting: train/labels/adult_131_jpeg.rf.9cc038343ec4de40bc03b990ea554b84.txt  \n",
            " extracting: train/labels/adult_131_jpeg.rf.c745849f392e50f208cab994a3cdda9e.txt  \n",
            " extracting: train/labels/adult_132_jpeg.rf.18d55ac7352be0153017691451477c01.txt  \n",
            " extracting: train/labels/adult_132_jpeg.rf.2defb3c94b4e654afa837f3b1141d796.txt  \n",
            " extracting: train/labels/adult_132_jpeg.rf.e7e70e9e6b37c41d25215e22d843e21f.txt  \n",
            " extracting: train/labels/adult_133_jpeg.rf.3195234e011ea97c122227e2db686363.txt  \n",
            " extracting: train/labels/adult_133_jpeg.rf.c89d04afe25d07b4274ab2a6d76006eb.txt  \n",
            " extracting: train/labels/adult_133_jpeg.rf.ef61c0a83203e5f7aec4199bc9bebbb8.txt  \n",
            " extracting: train/labels/adult_134_png.rf.17fae053b08d0d94dc454132bc651da6.txt  \n",
            " extracting: train/labels/adult_134_png.rf.68a506e817e222f166ed448d0890f74a.txt  \n",
            " extracting: train/labels/adult_134_png.rf.81d0da58351cab7cf0193e04e4b9596e.txt  \n",
            " extracting: train/labels/adult_13_jpeg.rf.7b35771df68447e94e8282fa7ca64985.txt  \n",
            " extracting: train/labels/adult_13_jpeg.rf.8d913399312220a3a73d91a1cc83004d.txt  \n",
            " extracting: train/labels/adult_13_jpeg.rf.ccdfcd1406cd6bdef3d5fd0a53785110.txt  \n",
            " extracting: train/labels/adult_14_png.rf.b6fe6840a843bbc8ce74791c003c1071.txt  \n",
            " extracting: train/labels/adult_14_png.rf.c891d5389a665b447fafd3b52c3aad43.txt  \n",
            " extracting: train/labels/adult_14_png.rf.d0caded24029636e5890575efcade680.txt  \n",
            " extracting: train/labels/adult_15_jpeg.rf.2d0c924444728ef3e85576cb21e8d5a4.txt  \n",
            " extracting: train/labels/adult_15_jpeg.rf.5afd76669e518994a5f9c5fc9cc467ae.txt  \n",
            " extracting: train/labels/adult_15_jpeg.rf.d80f5858706920cec3e9d6ff8187520d.txt  \n",
            " extracting: train/labels/adult_17_jpeg.rf.0cf72d9bea7c3d0a35f09dc7f16cc6ec.txt  \n",
            " extracting: train/labels/adult_17_jpeg.rf.3f7dcc77397b971c09a710e75404733d.txt  \n",
            " extracting: train/labels/adult_17_jpeg.rf.ae4b36a654607bab9d39f26238b949bb.txt  \n",
            " extracting: train/labels/adult_18_jpeg.rf.94f85d06a683a584e87555effb19a516.txt  \n",
            " extracting: train/labels/adult_18_jpeg.rf.9d42e15a78c20360f2200281bdcad704.txt  \n",
            " extracting: train/labels/adult_18_jpeg.rf.da6c68aa761ab05e0105f4e2325b46c4.txt  \n",
            " extracting: train/labels/adult_21_jpeg.rf.13e73d2bdae50b1995102f8b4a9684bc.txt  \n",
            " extracting: train/labels/adult_21_jpeg.rf.20316e819494503b0cbdb587687c64e5.txt  \n",
            " extracting: train/labels/adult_21_jpeg.rf.66be0e543f3f456182debd97b89dfc37.txt  \n",
            " extracting: train/labels/adult_22_png.rf.33988298b4298ab53edd16e4a2c30b9d.txt  \n",
            " extracting: train/labels/adult_22_png.rf.47186ff9e02c5c3a47a228bb7ae211b6.txt  \n",
            " extracting: train/labels/adult_22_png.rf.a6674fa2e22c85413ad7d14d8b7e09b7.txt  \n",
            " extracting: train/labels/adult_23_jpeg.rf.4e284b0f435d1d72bda0cceb8c99b3c0.txt  \n",
            " extracting: train/labels/adult_23_jpeg.rf.6c65f6906d005a6b081da6243a2df598.txt  \n",
            " extracting: train/labels/adult_23_jpeg.rf.d92a2777bed6bf55969b332d56d50473.txt  \n",
            " extracting: train/labels/adult_45_jpeg.rf.6fe9f8d1bf7c2be5945ba96b7fbd2848.txt  \n",
            " extracting: train/labels/adult_45_jpeg.rf.d57c61778300dcfae5f931b816e522aa.txt  \n",
            " extracting: train/labels/adult_45_jpeg.rf.f62ee86d38715f0a134a1ab0baca7ff2.txt  \n",
            " extracting: train/labels/adult_49_jpeg.rf.ab0f53d3cee9a59d332b034e7dd0d102.txt  \n",
            " extracting: train/labels/adult_49_jpeg.rf.ae932bb709b75b7e038d6760ef2cf4c8.txt  \n",
            " extracting: train/labels/adult_49_jpeg.rf.bbc6e74254d51a82d69041c117003e8f.txt  \n",
            " extracting: train/labels/adult_52_jpeg.rf.5e5d26f0ffeb8f98eaec941fa729895e.txt  \n",
            " extracting: train/labels/adult_52_jpeg.rf.ce046ba8f6de61f709a4d4b7f37edeb7.txt  \n",
            " extracting: train/labels/adult_52_jpeg.rf.e77dcca1c7c9f49dbcc442b789260a23.txt  \n",
            " extracting: train/labels/adult_55_jpeg.rf.0347f0940999740bbb736d84d5e1ae0d.txt  \n",
            " extracting: train/labels/adult_55_jpeg.rf.2b2ac475cc0b99c2b8ac0696a6ba92fe.txt  \n",
            " extracting: train/labels/adult_55_jpeg.rf.7203873cb912f6329fcabef9ba453033.txt  \n",
            " extracting: train/labels/adult_5_jpeg.rf.d72f4d25e9b003bda476ed318ad3cb5a.txt  \n",
            " extracting: train/labels/adult_5_jpeg.rf.eab4e2428b478c544100dbbc0bf0c567.txt  \n",
            " extracting: train/labels/adult_5_jpeg.rf.eccb04aa9388eb7941f206913e96d17e.txt  \n",
            " extracting: train/labels/adult_61_jpeg.rf.5d6856ab21b80d1607483c8eee28e235.txt  \n",
            " extracting: train/labels/adult_61_jpeg.rf.6b1b3baff49385d1e3804b07343f69a2.txt  \n",
            " extracting: train/labels/adult_61_jpeg.rf.e7e9cf26fed3cd0da81043fd3334b1b9.txt  \n",
            " extracting: train/labels/adult_63_jpeg.rf.06ccc4d59abbd965d05b04aaa6e2e2df.txt  \n",
            " extracting: train/labels/adult_63_jpeg.rf.0ca8f862a6068f5c7ab8fea55c97d6ed.txt  \n",
            " extracting: train/labels/adult_6_jpeg.rf.2bbbbec102717b6dce3da1166d90c9c2.txt  \n",
            " extracting: train/labels/adult_6_jpeg.rf.be5a2f50468b1ce262e85c6050856fc5.txt  \n",
            " extracting: train/labels/adult_6_jpeg.rf.c90b6434c901af8394972352b7fe7699.txt  \n",
            " extracting: train/labels/adult_70_jpeg.rf.73cbd7a83eae2512cb6b30097f0a12c4.txt  \n",
            " extracting: train/labels/adult_70_jpeg.rf.a1eb883fdbfe5679a6ccb665737d4ab5.txt  \n",
            " extracting: train/labels/adult_70_jpeg.rf.eaefd46d36bc112632baa325a359b8ed.txt  \n",
            " extracting: train/labels/adult_8_jpeg.rf.4e6bf82fb3e2b6c5357e7ad08d37110e.txt  \n",
            " extracting: train/labels/adult_8_jpeg.rf.5e92d7d22269931d141d981069df707f.txt  \n",
            " extracting: train/labels/adult_8_jpeg.rf.6bbe5206b2de80e1fc3d124b8b2d85c5.txt  \n",
            " extracting: train/labels/baby_103_jpeg.rf.66d7587e22cd87cfb4c1d194951a58bc.txt  \n",
            " extracting: train/labels/baby_103_jpeg.rf.9101ccb2fe9f9f2b1a8f27b9b8c28d08.txt  \n",
            " extracting: train/labels/baby_103_jpeg.rf.c78162a2f942ef5d90181c072776af3e.txt  \n",
            " extracting: train/labels/baby_105_jpeg.rf.3cc917aebac7a4f992dd918463c0dd98.txt  \n",
            " extracting: train/labels/baby_105_jpeg.rf.c866046b6a7828f75fc9d021c28a1c7e.txt  \n",
            " extracting: train/labels/baby_105_jpeg.rf.d3a903c6b45a2998403c97435623c406.txt  \n",
            " extracting: train/labels/baby_108_jpeg.rf.1e4e56a86d0b2f2cdcc3cb942f429461.txt  \n",
            " extracting: train/labels/baby_108_jpeg.rf.7bebab535b1bca86cbfbf80f705b091d.txt  \n",
            " extracting: train/labels/baby_108_jpeg.rf.c46463532dbeaafeb81394477ab2ab9e.txt  \n",
            " extracting: train/labels/baby_10_jpeg.rf.046fab1c62f739b02dfe766e25d6fedc.txt  \n",
            " extracting: train/labels/baby_10_jpeg.rf.43c0efce5c55d69530e9fca100e0d641.txt  \n",
            " extracting: train/labels/baby_10_jpeg.rf.cef70532e7d9f0769b2d599e0df628b3.txt  \n",
            " extracting: train/labels/baby_113_jpeg.rf.362285907057e22a0a46518f13bc6f64.txt  \n",
            " extracting: train/labels/baby_113_jpeg.rf.7ae8728d77cf0850bce8449fdecb3664.txt  \n",
            " extracting: train/labels/baby_113_jpeg.rf.f51a0ba20b40a59de9773bc5717e5882.txt  \n",
            " extracting: train/labels/baby_117_jpeg.rf.8a3f3ddf3478625596cf623f08324e9a.txt  \n",
            " extracting: train/labels/baby_117_jpeg.rf.93e76811b864531d80fdbe82ddff4b94.txt  \n",
            " extracting: train/labels/baby_117_jpeg.rf.d23f7d371f1dfe39e50fb0c09aa0c7ea.txt  \n",
            " extracting: train/labels/baby_119_jpeg.rf.42cff5c77ead24fae29b310f5ad20c9b.txt  \n",
            " extracting: train/labels/baby_119_jpeg.rf.82e499b5a6409359adcdb5832629cbf1.txt  \n",
            " extracting: train/labels/baby_119_jpeg.rf.bd0576d61696e8327bac9da4ccbdbc97.txt  \n",
            " extracting: train/labels/baby_11_jpeg.rf.15994eb3417415b28bc629c1e2f00727.txt  \n",
            " extracting: train/labels/baby_11_jpeg.rf.450f34559290772c546e3ec82ecad823.txt  \n",
            " extracting: train/labels/baby_11_jpeg.rf.ff1260330a24c33e951db37d5cef3fd7.txt  \n",
            " extracting: train/labels/baby_120_jpeg.rf.836aaa46fa84578a635d9557fcbd9a82.txt  \n",
            " extracting: train/labels/baby_120_jpeg.rf.a27be3a01020acb0776e535f7081c9fd.txt  \n",
            " extracting: train/labels/baby_120_jpeg.rf.d79d3c69995dc5812c208a02ecad2989.txt  \n",
            " extracting: train/labels/baby_121_jpeg.rf.4403e4138d46d5098a785633d67b79a7.txt  \n",
            " extracting: train/labels/baby_121_jpeg.rf.49a5c06839780edec3224d36223f8797.txt  \n",
            " extracting: train/labels/baby_121_jpeg.rf.6f37659034d5e79d2d756824540ed7e3.txt  \n",
            " extracting: train/labels/baby_126_jpeg.rf.4d441da74850cd9b85fb559a35cad74a.txt  \n",
            " extracting: train/labels/baby_126_jpeg.rf.66952a7886ec0d4203c7d1ba9e990acc.txt  \n",
            " extracting: train/labels/baby_126_jpeg.rf.6a677daf087a8802c06ce87c5f36b453.txt  \n",
            " extracting: train/labels/baby_130_jpeg.rf.168e5ea6fe35e1104a56763eaedaeb12.txt  \n",
            " extracting: train/labels/baby_130_jpeg.rf.6ec92ddb69a5ab98c520dd5fe26498f7.txt  \n",
            " extracting: train/labels/baby_130_jpeg.rf.71d1136be3d5d036ab1532dda46710d3.txt  \n",
            " extracting: train/labels/baby_134_jpeg.rf.07f0524cd2cb81ffe581316388102d67.txt  \n",
            " extracting: train/labels/baby_134_jpeg.rf.7e2c5928bd7ca8544ea58bce8714f37a.txt  \n",
            " extracting: train/labels/baby_134_jpeg.rf.9ef4c9781a240c2b9f317e89ea06d356.txt  \n",
            " extracting: train/labels/baby_14_jpeg.rf.2e20bacdf45dc393f4991eb1dc911d28.txt  \n",
            " extracting: train/labels/baby_14_jpeg.rf.9b74176f0542f6d1fdb787dce5ce978c.txt  \n",
            " extracting: train/labels/baby_14_jpeg.rf.f196e9ede9ba815ae90f3baea4aed96a.txt  \n",
            " extracting: train/labels/baby_15_jpeg.rf.141f79b3ccfbecf0ca2b1485b595bd2b.txt  \n",
            " extracting: train/labels/baby_15_jpeg.rf.3a83690014d63a9541b9aaa8391a4d0d.txt  \n",
            " extracting: train/labels/baby_15_jpeg.rf.d4d1d8032ca7c95d36586485d7ebffbf.txt  \n",
            " extracting: train/labels/baby_16_jpeg.rf.13738ee2ca290fb2431ecb11526a8300.txt  \n",
            " extracting: train/labels/baby_16_jpeg.rf.30324cc28d5a41ff77d2f167c4ccdf04.txt  \n",
            " extracting: train/labels/baby_16_jpeg.rf.334ceb882b5a609a267c9ef87ac94eb2.txt  \n",
            " extracting: train/labels/baby_17_jpeg.rf.11ed38171182111471d675bfd9bec856.txt  \n",
            " extracting: train/labels/baby_17_jpeg.rf.607c212514674f6f3b3ac8d5d522785a.txt  \n",
            " extracting: train/labels/baby_17_jpeg.rf.6da23cb7fc5d8799ec960270e75e736f.txt  \n",
            " extracting: train/labels/baby_18_jpeg.rf.40fab9d62e9a203dda06d573ba6e8cab.txt  \n",
            " extracting: train/labels/baby_18_jpeg.rf.4cfe1d218f16bfcc5551f3ad25fc3cd6.txt  \n",
            " extracting: train/labels/baby_18_jpeg.rf.baca5fd42f429c33bcb7c4cc7b83b061.txt  \n",
            " extracting: train/labels/baby_19_jpeg.rf.4fba0218023ddd71bf3cfb8f90b26070.txt  \n",
            " extracting: train/labels/baby_19_jpeg.rf.a82849ab79915a9bbf40c9244162cc38.txt  \n",
            " extracting: train/labels/baby_19_jpeg.rf.bca428311c7374104b607658b3446706.txt  \n",
            " extracting: train/labels/baby_20_jpeg.rf.25363d6d1da4108d6cdb52b4e6a6ff0f.txt  \n",
            " extracting: train/labels/baby_20_jpeg.rf.7745dd10627f952b8565fa9423a589da.txt  \n",
            " extracting: train/labels/baby_20_jpeg.rf.80ef855458145b9d768e8b3d328895f8.txt  \n",
            " extracting: train/labels/baby_21_jpeg.rf.56b1d880dbce15c598696f10baa958cc.txt  \n",
            " extracting: train/labels/baby_21_jpeg.rf.6e51d580374a88488b8e6225b8b0f127.txt  \n",
            " extracting: train/labels/baby_21_jpeg.rf.d4624dd26528a9233ac2619178a79133.txt  \n",
            " extracting: train/labels/baby_22_jpeg.rf.7ca661e6f08cd8b1f7fb213d70c478e4.txt  \n",
            " extracting: train/labels/baby_22_jpeg.rf.7ee0fbfaa03289f80d3802e5a4057ed6.txt  \n",
            " extracting: train/labels/baby_22_jpeg.rf.f84953bef38a1ba040c5d5e8a93fb474.txt  \n",
            " extracting: train/labels/baby_23_jpeg.rf.12c9b463d96fefb02622dcbf1907d9d5.txt  \n",
            " extracting: train/labels/baby_23_jpeg.rf.a25d27a9082ddd75f1e6742cea5ef54c.txt  \n",
            " extracting: train/labels/baby_23_jpeg.rf.fb7e3676f4c1cbc0fd152b93b9038eec.txt  \n",
            " extracting: train/labels/baby_24_jpeg.rf.46f3d0bbf7bec69bd059bf565449c7b4.txt  \n",
            " extracting: train/labels/baby_24_jpeg.rf.8498f8d3a3d742beab893ee813a36823.txt  \n",
            " extracting: train/labels/baby_24_jpeg.rf.f95a33ac7088a75328b83e35c5f7a0ac.txt  \n",
            " extracting: train/labels/baby_26_jpeg.rf.0ff56e22eecbf77ec974bdebcb8eca81.txt  \n",
            " extracting: train/labels/baby_26_jpeg.rf.871fe8d1f4433aa1e211aea7034fac32.txt  \n",
            " extracting: train/labels/baby_26_jpeg.rf.b5f3997a0be12484cc627a65a89d0315.txt  \n",
            " extracting: train/labels/baby_30_jpeg.rf.9108cc6a252a9ff26156d48655a07f6d.txt  \n",
            " extracting: train/labels/baby_30_jpeg.rf.97dfc0fc8087f3a4bae872b97247cdef.txt  \n",
            " extracting: train/labels/baby_30_jpeg.rf.f36568963cfaa33a9fe3735efe1633ac.txt  \n",
            " extracting: train/labels/baby_33_jpeg.rf.3edc4397f339aaa78ec7a7d57584e829.txt  \n",
            " extracting: train/labels/baby_33_jpeg.rf.c6eeab218be40cc54335cf3461c2793f.txt  \n",
            " extracting: train/labels/baby_33_jpeg.rf.d2af9ff53da9e079450ce1a906187508.txt  \n",
            " extracting: train/labels/baby_35_jpeg.rf.14c19590a6f98ec4337a918eae588a27.txt  \n",
            " extracting: train/labels/baby_35_jpeg.rf.50f2d76a8a22287d20b92859f589f542.txt  \n",
            " extracting: train/labels/baby_35_jpeg.rf.771e50f963a88763b9354e9cf702f76a.txt  \n",
            " extracting: train/labels/baby_3_jpeg.rf.0d696c00ee28e224276892ad28ba9c4f.txt  \n",
            " extracting: train/labels/baby_3_jpeg.rf.2704a60e72994343b603785b983bae6b.txt  \n",
            " extracting: train/labels/baby_3_jpeg.rf.6cfdc7dd1c3e5beb9a4b637aebab916d.txt  \n",
            " extracting: train/labels/baby_43_png.rf.18ae93b6354a2e34434d8353d8a573c3.txt  \n",
            " extracting: train/labels/baby_43_png.rf.78ea651ad5094b81883fcbff09f80693.txt  \n",
            " extracting: train/labels/baby_43_png.rf.914fae621aa465ea65872be1dfbd5b48.txt  \n",
            " extracting: train/labels/baby_44_jpeg.rf.26faab61c50aaf812502cfd87e85a10e.txt  \n",
            " extracting: train/labels/baby_44_jpeg.rf.c123876b57040ea97869a5a27e639cf1.txt  \n",
            " extracting: train/labels/baby_44_jpeg.rf.ce64fefef2dd0bed3a56880ff5d41a76.txt  \n",
            " extracting: train/labels/baby_47_jpeg.rf.161c45d6d9479ac0a68940b072a551eb.txt  \n",
            " extracting: train/labels/baby_47_jpeg.rf.25d3b4f41d4cee180ae0ff6d8cf787de.txt  \n",
            " extracting: train/labels/baby_47_jpeg.rf.31e3dba536ce83c1332f3b49e334f294.txt  \n",
            " extracting: train/labels/baby_4_jpeg.rf.339633c2a2c3cd411e7b4b763ff9c0a3.txt  \n",
            " extracting: train/labels/baby_4_jpeg.rf.836ef9b75c250c230e98595f21d97fc4.txt  \n",
            " extracting: train/labels/baby_4_jpeg.rf.ceeb27ca5d6332e86dc2304518214d62.txt  \n",
            " extracting: train/labels/baby_52_jpeg.rf.7cb4c441bf599ad25b624bc7f765a548.txt  \n",
            " extracting: train/labels/baby_52_jpeg.rf.84512b43252875bbb7b3f10d65c453ba.txt  \n",
            " extracting: train/labels/baby_52_jpeg.rf.8a2c9a25506333aa95d83a7204f71427.txt  \n",
            " extracting: train/labels/baby_55_jpeg.rf.0e99243e3bc88d2488db17f640f11698.txt  \n",
            " extracting: train/labels/baby_55_jpeg.rf.730ec917c476fc242715ace4af59e791.txt  \n",
            " extracting: train/labels/baby_55_jpeg.rf.8ff3779d6ebe3a2933406755eb933851.txt  \n",
            " extracting: train/labels/baby_60_jpeg.rf.1323422bbb02fd71e2f40cdfbc838525.txt  \n",
            " extracting: train/labels/baby_60_jpeg.rf.18eb57b565d6c63383e10e5e9b771361.txt  \n",
            " extracting: train/labels/baby_60_jpeg.rf.fb125237fdd4bf5d55ec3d527b4f7961.txt  \n",
            " extracting: train/labels/baby_6_jpeg.rf.129298a32d2794fc7c1cd8377cece59b.txt  \n",
            " extracting: train/labels/baby_6_jpeg.rf.60f8450328256317e1fd87c201ac6945.txt  \n",
            " extracting: train/labels/baby_6_jpeg.rf.b63f22072b11512704b4fd3f2920553d.txt  \n",
            " extracting: train/labels/baby_72_jpeg.rf.9e90093c5e7d78459b39349983d4a245.txt  \n",
            " extracting: train/labels/baby_72_jpeg.rf.b00ab74d072c0a98733a20310c8fdddc.txt  \n",
            " extracting: train/labels/baby_72_jpeg.rf.eef9c7fcdc2f525da5ff9e872125528d.txt  \n",
            " extracting: train/labels/baby_7_jpeg.rf.8089b07fd126dba9dcf8fa63ce2c889c.txt  \n",
            " extracting: train/labels/baby_7_jpeg.rf.9d99e31929b6d89f5a55d4dcd76e564b.txt  \n",
            " extracting: train/labels/baby_7_jpeg.rf.d2e96b18b9a73684a748fbd185904181.txt  \n",
            " extracting: train/labels/child_109_jpeg.rf.643ae821e9106c3d2ae84aa958be4126.txt  \n",
            " extracting: train/labels/child_109_jpeg.rf.99a130c4041cb540c0726174eb29c89a.txt  \n",
            " extracting: train/labels/child_109_jpeg.rf.feee57f5f46f94c081cd37115363114e.txt  \n",
            " extracting: train/labels/child_10_jpeg.rf.16e24778814a9374948ea676f1496aab.txt  \n",
            " extracting: train/labels/child_10_jpeg.rf.18f0a9f820a58106cabdc8df39a825d3.txt  \n",
            " extracting: train/labels/child_10_jpeg.rf.b184305a56f11d6055c076ba24e4cddb.txt  \n",
            " extracting: train/labels/child_111_jpeg.rf.9ad32db70f2896c66d549413aaebdb2a.txt  \n",
            " extracting: train/labels/child_111_jpeg.rf.c657d9789cf5fc4f85210ccbfbc44828.txt  \n",
            " extracting: train/labels/child_111_jpeg.rf.f9a708a724e4b2daccf54b83c98d82d5.txt  \n",
            " extracting: train/labels/child_112_jpeg.rf.2418aa9d26fe5a7a384602ac6989c58f.txt  \n",
            " extracting: train/labels/child_112_jpeg.rf.2e599f1aa71f22ea03f5a7f78a6b1fdd.txt  \n",
            " extracting: train/labels/child_112_jpeg.rf.939392d5e9f49ca9263ed6a8436ee8ae.txt  \n",
            " extracting: train/labels/child_115_jpeg.rf.7acc514f52b6309fae9bbf64b1b3f070.txt  \n",
            " extracting: train/labels/child_115_jpeg.rf.8daec7e845bd2f9c11dc718102b66939.txt  \n",
            " extracting: train/labels/child_115_jpeg.rf.97cb73bdc6a1e2f2ea1346fe00d8b7bd.txt  \n",
            " extracting: train/labels/child_116_jpeg.rf.ae99373eca2991aed26d877ebc0208d1.txt  \n",
            " extracting: train/labels/child_116_jpeg.rf.c800628778b636c1c1d5bd5f189396bc.txt  \n",
            " extracting: train/labels/child_116_jpeg.rf.cb3709ea465c3076ee8e5946efbd239f.txt  \n",
            " extracting: train/labels/child_11_jpeg.rf.38dbdbd31cba054174f9e144309c9933.txt  \n",
            " extracting: train/labels/child_11_jpeg.rf.e3cefdad2180541215df8017deed7f01.txt  \n",
            " extracting: train/labels/child_11_jpeg.rf.f40751764867f1d1c073f90c7a17936b.txt  \n",
            " extracting: train/labels/child_133_jpeg.rf.5bd73a343cf2ce14a104858d0f0e53f8.txt  \n",
            " extracting: train/labels/child_133_jpeg.rf.6269c0693af4e43a45c5794ad8a6b5ed.txt  \n",
            " extracting: train/labels/child_133_jpeg.rf.7047a9e0d220fa39068c5d86a9f26fe5.txt  \n",
            " extracting: train/labels/child_13_jpeg.rf.26ef38d03eda32e3ecbc8fefb645a7cb.txt  \n",
            " extracting: train/labels/child_13_jpeg.rf.a1a7735a209896b5af47353a28aa9f76.txt  \n",
            " extracting: train/labels/child_13_jpeg.rf.c62e5090f36f9b5a973dbdd1b4122a9c.txt  \n",
            " extracting: train/labels/child_14_png.rf.8113d580773d19df9b8adb90ce52e588.txt  \n",
            " extracting: train/labels/child_14_png.rf.8cf462600e92d1317820f313db9fcc0f.txt  \n",
            " extracting: train/labels/child_14_png.rf.b9213a782eea0524489295dade4c11ee.txt  \n",
            " extracting: train/labels/child_16_png.rf.0b27a9de15b67f032403f379e9a839e6.txt  \n",
            " extracting: train/labels/child_16_png.rf.59d4c421c966199bc74cf21f14a1e9e5.txt  \n",
            " extracting: train/labels/child_16_png.rf.ddce93a3f9c6d4e48379f24a62bd2d7c.txt  \n",
            " extracting: train/labels/child_17_jpeg.rf.088dd8843b3a5c3329762cca739869a3.txt  \n",
            " extracting: train/labels/child_17_jpeg.rf.896d56b38c76e082d641e34fb3104f29.txt  \n",
            " extracting: train/labels/child_17_jpeg.rf.fbedac1355373f1a58f344397f7b1d1b.txt  \n",
            " extracting: train/labels/child_18_jpeg.rf.3b3f7569f614de6af498719c6439b7c9.txt  \n",
            " extracting: train/labels/child_18_jpeg.rf.5ee3c1eed3f0284f18abf0384633910e.txt  \n",
            " extracting: train/labels/child_18_jpeg.rf.a0acad090f739c873fb0bdb688f624bc.txt  \n",
            " extracting: train/labels/child_19_jpeg.rf.4fcb08f225e41c247a41d8dc8aa3109a.txt  \n",
            " extracting: train/labels/child_19_jpeg.rf.83addc437d507df788c5bdaabe448b41.txt  \n",
            " extracting: train/labels/child_19_jpeg.rf.a4975219d346d27cc339c32f2123fb77.txt  \n",
            " extracting: train/labels/child_21_png.rf.545e6ed4667cb07c23bb5258e1aeb18e.txt  \n",
            " extracting: train/labels/child_21_png.rf.7c6c8f192ccf554ad4a56ee32bcf037f.txt  \n",
            " extracting: train/labels/child_21_png.rf.c8de92421f4f1e6513adbb3ccbbd1fcb.txt  \n",
            " extracting: train/labels/child_22_jpeg.rf.0568e62c1bcf819e576301f7f676ac1c.txt  \n",
            " extracting: train/labels/child_22_jpeg.rf.0adfc8ad21a94be799af2220544c808c.txt  \n",
            " extracting: train/labels/child_25_jpeg.rf.1f726c83a64e6dbb2383c98cae24f7b1.txt  \n",
            " extracting: train/labels/child_25_jpeg.rf.5b58a1e64217e651a673acad918f9cc6.txt  \n",
            " extracting: train/labels/child_25_jpeg.rf.ed6a342c66fc0f9ee459a4c442b14d3e.txt  \n",
            " extracting: train/labels/child_26_jpeg.rf.1103dbe2a882c2de75b6d621fa1a16da.txt  \n",
            " extracting: train/labels/child_26_jpeg.rf.1c21e19d44de3e38f1a89c4672315715.txt  \n",
            " extracting: train/labels/child_26_jpeg.rf.eac0e0e838762adb67e140b39663a3ca.txt  \n",
            " extracting: train/labels/child_28_jpeg.rf.64fcce8c398956f619ec18de6b7ce8fd.txt  \n",
            " extracting: train/labels/child_28_jpeg.rf.ebfe3610a3e3b02d199e60ae094c3123.txt  \n",
            " extracting: train/labels/child_28_jpeg.rf.ff0c32a319076ceefa71b6a5b6d9e1d9.txt  \n",
            " extracting: train/labels/child_29_png.rf.0ba12a42dba5930e85c47a18f2e3dfba.txt  \n",
            " extracting: train/labels/child_29_png.rf.4501926305213f64b73c1f733250e88e.txt  \n",
            " extracting: train/labels/child_29_png.rf.5591ca7465c13eb29ff9b00036a6ff13.txt  \n",
            " extracting: train/labels/child_31_jpeg.rf.06592c77afc070adb6c8c3869e6417ad.txt  \n",
            " extracting: train/labels/child_31_jpeg.rf.2ee2b880cf2bb54af1fee8f7b0f95965.txt  \n",
            " extracting: train/labels/child_31_jpeg.rf.aae5b7e561cde14008d012944d9fa456.txt  \n",
            " extracting: train/labels/child_34_jpeg.rf.8a1a6054605e71bffb5a55a862bfa8c3.txt  \n",
            " extracting: train/labels/child_34_jpeg.rf.a39691fb2a10102a3fae9cb81ae00780.txt  \n",
            " extracting: train/labels/child_34_jpeg.rf.a991e3fec1366da4089d9e7d75c02b09.txt  \n",
            " extracting: train/labels/child_37_jpeg.rf.0183d6095772f9a5eaa19eeebdcfc4a1.txt  \n",
            " extracting: train/labels/child_37_jpeg.rf.a8711ef312d6554391acb058835eafdd.txt  \n",
            " extracting: train/labels/child_37_jpeg.rf.c7a6519d2b8a6bb5f0f4333a1a0ef2f0.txt  \n",
            " extracting: train/labels/child_38_jpeg.rf.0bfa8a02e0fb975499e0e8b7e90d79cb.txt  \n",
            " extracting: train/labels/child_38_jpeg.rf.58b35bb6d2aa31d994a91a6637c4472b.txt  \n",
            " extracting: train/labels/child_38_jpeg.rf.dcebc959411dbdef82c96d2548b1da80.txt  \n",
            " extracting: train/labels/child_39_png.rf.398801a328a8374f556dc7664d2998f7.txt  \n",
            " extracting: train/labels/child_39_png.rf.5ab41635bda2a08141ae02efc5b759bc.txt  \n",
            " extracting: train/labels/child_39_png.rf.6132e4ebe54a3a8a4737843ccf698f45.txt  \n",
            " extracting: train/labels/child_3_jpeg.rf.2ba6b8d1e3a44cf6197337d099908f8d.txt  \n",
            " extracting: train/labels/child_3_jpeg.rf.88bdf740fdfec9934f4830f45b3f6774.txt  \n",
            " extracting: train/labels/child_3_jpeg.rf.b4aa2a22a676f936abfaf1d0f87b6548.txt  \n",
            " extracting: train/labels/child_40_jpeg.rf.1bd6120473d47d2b24f1a4fb9cf987e0.txt  \n",
            " extracting: train/labels/child_40_jpeg.rf.1f78e52a96b1655b9cb152d9242a46f8.txt  \n",
            " extracting: train/labels/child_40_jpeg.rf.b4dfa694fecddf946e929a75763b92f5.txt  \n",
            " extracting: train/labels/child_46_png.rf.157f26b5381f00883e0e5c1c7a95ad6a.txt  \n",
            " extracting: train/labels/child_46_png.rf.c29227d2eaf5385eabb5ebc4e4fec9cf.txt  \n",
            " extracting: train/labels/child_46_png.rf.d092aa0229c24442fc5a1c689667ce8e.txt  \n",
            " extracting: train/labels/child_4_jpeg.rf.2a8fbac57bf0609e5b605d9de7394f86.txt  \n",
            " extracting: train/labels/child_4_jpeg.rf.5db080f09123afc15e66dd104e1fb67b.txt  \n",
            " extracting: train/labels/child_4_jpeg.rf.9fd713b52b4cdd18b007f257c26bfbeb.txt  \n",
            " extracting: train/labels/child_50_jpeg.rf.0dc24b7332fa44c5cca24a9b6ee90585.txt  \n",
            " extracting: train/labels/child_50_jpeg.rf.307d2e0713c6c58fc69cfc726eab6f49.txt  \n",
            " extracting: train/labels/child_51_jpeg.rf.28c568cb6782977f31ccde643ac835ee.txt  \n",
            " extracting: train/labels/child_51_jpeg.rf.e557f5b39af2db9f3f66c12ff50866d1.txt  \n",
            " extracting: train/labels/child_51_jpeg.rf.f607390eff9f0f54824476ed9e59a97f.txt  \n",
            " extracting: train/labels/child_52_jpeg.rf.523b94dd04054afc6a0a79568e500554.txt  \n",
            " extracting: train/labels/child_52_jpeg.rf.8361c8f1134792f9937d254cd9714ece.txt  \n",
            " extracting: train/labels/child_52_jpeg.rf.aad6b40d15f439c904731c61f5bc0f0b.txt  \n",
            " extracting: train/labels/child_54_jpeg.rf.00ad47d3da1f61df4d2cff86075458b3.txt  \n",
            " extracting: train/labels/child_54_jpeg.rf.9fc73f23cefa1ff32b458dbca10733bc.txt  \n",
            " extracting: train/labels/child_54_jpeg.rf.cbd5e05a4368de6aa5004a5bc041a197.txt  \n",
            " extracting: train/labels/child_55_png.rf.3a2d276a756bc922f509010765048268.txt  \n",
            " extracting: train/labels/child_55_png.rf.97b8f8d37ad1cf725ae220cfc8773c95.txt  \n",
            " extracting: train/labels/child_55_png.rf.ed2a480d2282194674e6014f35945d5a.txt  \n",
            " extracting: train/labels/child_57_jpeg.rf.1a95c69b49f331e87b9bfe3d64d81178.txt  \n",
            " extracting: train/labels/child_57_jpeg.rf.4a03defd18d7c81ba60040993fbd5416.txt  \n",
            " extracting: train/labels/child_57_jpeg.rf.b22203723e01c833a28a1ea15fea352c.txt  \n",
            " extracting: train/labels/child_59_jpeg.rf.283c8e2c0b6b1b7f9297d15070d1ee63.txt  \n",
            " extracting: train/labels/child_59_jpeg.rf.5254b0fc49e1f62461e040f74a0432f7.txt  \n",
            " extracting: train/labels/child_59_jpeg.rf.60ab9f483fab76f3005cc02190a6a074.txt  \n",
            " extracting: train/labels/child_61_jpeg.rf.388d028801b42d831e0fd1062df771a1.txt  \n",
            " extracting: train/labels/child_61_jpeg.rf.8ffa7a38f4e821e0792ffc687a52ed4a.txt  \n",
            " extracting: train/labels/child_61_jpeg.rf.cb6a4af5699aab1b1a2e2bb8452dcc18.txt  \n",
            " extracting: train/labels/child_6_jpeg.rf.0192206998c5d252a3123bee10b03f61.txt  \n",
            " extracting: train/labels/child_6_jpeg.rf.07cf02ce741088e3c6604fab74ae9427.txt  \n",
            " extracting: train/labels/child_6_jpeg.rf.ad52cc08fefd415db55886d5baa7a08b.txt  \n",
            " extracting: train/labels/child_8_jpeg.rf.9af068384a206bffbfcfa898fb0f1a22.txt  \n",
            " extracting: train/labels/child_8_jpeg.rf.dc510f6329582cc3754a85765391176e.txt  \n",
            " extracting: train/labels/child_9_jpeg.rf.517dfe72bd57a260aa1e8a7dd3ebdd76.txt  \n",
            " extracting: train/labels/child_9_jpeg.rf.74ac6c9f9370bbea4b0aba2a7587c7c6.txt  \n",
            " extracting: train/labels/child_9_jpeg.rf.fb8aa3a65fb87db610812895a6ff49f3.txt  \n",
            " extracting: train/labels/children_13_jpeg.rf.1b4bff5a498bde7877db213e02f0bd61.txt  \n",
            " extracting: train/labels/children_13_jpeg.rf.2c8b7d8e5b06a833a919a6bf4d0d1df7.txt  \n",
            " extracting: train/labels/children_13_jpeg.rf.43f60e89e59a0642d0b627f3a1f23901.txt  \n",
            " extracting: train/labels/children_16_jpeg.rf.04f3b997af2e0276c3938de5abee06fa.txt  \n",
            " extracting: train/labels/children_16_jpeg.rf.5118144a243b398a89bdc23730d259ec.txt  \n",
            " extracting: train/labels/children_16_jpeg.rf.ff0595a85261170cc6a122d62c7ef6b5.txt  \n",
            " extracting: train/labels/children_17_jpeg.rf.2cc40cc9bebc651b90b0c13bce4a5fbe.txt  \n",
            " extracting: train/labels/children_17_jpeg.rf.b234cd4746ac16e710a6c0851653f466.txt  \n",
            " extracting: train/labels/children_17_jpeg.rf.cc0e3bdfa7e6e92deb0322c806f6ccfb.txt  \n",
            " extracting: train/labels/children_18_jpeg.rf.9beab7c704cfbfc989466b4d65dba575.txt  \n",
            " extracting: train/labels/children_18_jpeg.rf.ca630f453c1b97d0e4caca7792b2a97d.txt  \n",
            " extracting: train/labels/children_18_jpeg.rf.e26883d9c52ef2ee81ddd2024e37b1de.txt  \n",
            " extracting: train/labels/children_19_jpeg.rf.22f680305fc942c3bbd541853e3119b5.txt  \n",
            " extracting: train/labels/children_19_jpeg.rf.33a39375692cb9a8937062af7d38ff58.txt  \n",
            " extracting: train/labels/children_19_jpeg.rf.f1f6c254b05a8721b41d9b729bbf6511.txt  \n",
            " extracting: train/labels/children_20_jpeg.rf.6cc4e3916d2f7204bd7bb55062a7767d.txt  \n",
            " extracting: train/labels/children_20_jpeg.rf.b40abec1e7dbf94106141913db7b306b.txt  \n",
            " extracting: train/labels/children_20_jpeg.rf.cea38556f17032a3cc743f9dc900d556.txt  \n",
            " extracting: train/labels/children_22_jpeg.rf.3cf39e7f4b9ccf80ade38a4092c0c2cb.txt  \n",
            " extracting: train/labels/children_22_jpeg.rf.4b9dbee9ba20b51eb9e844932ca151c9.txt  \n",
            " extracting: train/labels/children_22_jpeg.rf.b6b3c7d4cc8570b3dbabdde3dca26de2.txt  \n",
            " extracting: train/labels/children_23_jpeg.rf.47de87d60edf65903356fce1ab491054.txt  \n",
            " extracting: train/labels/children_23_jpeg.rf.4973fc1ae27eef2122731aebf24f1ea5.txt  \n",
            " extracting: train/labels/children_23_jpeg.rf.e4f1723c533b7804de83552518f14cd7.txt  \n",
            " extracting: train/labels/children_24_jpeg.rf.4b508d002de0ca72b499f9e30934f9ff.txt  \n",
            " extracting: train/labels/children_24_jpeg.rf.af352e7bcc8f8d619996fe6e7d45c42a.txt  \n",
            " extracting: train/labels/children_24_jpeg.rf.e7a5d9aff4c472d324781928b1979bfc.txt  \n",
            " extracting: train/labels/children_25_jpeg.rf.131e7c1f0520ab0ed125e8d46cb70e59.txt  \n",
            " extracting: train/labels/children_25_jpeg.rf.2e470cb6514997d258f2c80bd809552b.txt  \n",
            " extracting: train/labels/children_25_jpeg.rf.d465a2aa24f3b3847ac6cc03bf6f1bc4.txt  \n",
            " extracting: train/labels/children_26_jpeg.rf.0fc71e61c24179e65e64536e346f4318.txt  \n",
            " extracting: train/labels/children_26_jpeg.rf.49441959174f951dab4f4001fcc2111f.txt  \n",
            " extracting: train/labels/children_26_jpeg.rf.958e94356b9b10bfec56e859c5417c0b.txt  \n",
            " extracting: train/labels/children_27_jpeg.rf.0e10126d66ecde53547809a144e896c4.txt  \n",
            " extracting: train/labels/children_27_jpeg.rf.4bed2a0a96f263edaf0931a3ad1d2121.txt  \n",
            " extracting: train/labels/children_27_jpeg.rf.d14567274158e11ada887a2ff0167b94.txt  \n",
            " extracting: train/labels/children_29_png.rf.44ce90db35e472e63cf5e04c04abb8d8.txt  \n",
            " extracting: train/labels/children_29_png.rf.e3555fb5f9b0604e35df5e451ec54895.txt  \n",
            " extracting: train/labels/children_29_png.rf.f051dc27ecea7d1ed78e5c090974f57d.txt  \n",
            " extracting: train/labels/children_31_png.rf.391ac3a44e0ec683800e39410df6b6a0.txt  \n",
            " extracting: train/labels/children_31_png.rf.9c32bd16aa44acc828c62dec88690f8e.txt  \n",
            " extracting: train/labels/children_31_png.rf.eef716f0b7f22eb3b78a4eeccb51fdb9.txt  \n",
            " extracting: train/labels/children_33_jpeg.rf.515872825757ca9c15a3499b20d4d979.txt  \n",
            " extracting: train/labels/children_33_jpeg.rf.ad2ae951085a60740ae66a18454a057a.txt  \n",
            " extracting: train/labels/children_33_jpeg.rf.fe798c75e9ae893b56c6545e82902f16.txt  \n",
            " extracting: train/labels/children_34_jpeg.rf.2be7fd3e7a5b6ef96e628e0fd0dafb42.txt  \n",
            " extracting: train/labels/children_34_jpeg.rf.533513ffe8abb193012c579bd4fb37c3.txt  \n",
            " extracting: train/labels/children_34_jpeg.rf.d052606e86198a59309aa2778c53371a.txt  \n",
            " extracting: train/labels/children_37_jpeg.rf.4a7a9b56616c2ce415da31ef992ea1bd.txt  \n",
            " extracting: train/labels/children_37_jpeg.rf.603f0989ba1fa576bf6dae9bc60d0b6c.txt  \n",
            " extracting: train/labels/children_37_jpeg.rf.92fddd97f81eaae2d8229a4299b13a30.txt  \n",
            " extracting: train/labels/children_39_jpeg.rf.7c9b5be6e1eaf340d23b25db0be4bf77.txt  \n",
            " extracting: train/labels/children_39_jpeg.rf.a6913b673645ffd0c2675cae0002c3e6.txt  \n",
            " extracting: train/labels/children_39_jpeg.rf.c11f537ff20ce6026f06e38e9b0edde1.txt  \n",
            " extracting: train/labels/children_43_jpeg.rf.9b378f5170eebd21fb679de2c3938e00.txt  \n",
            " extracting: train/labels/children_43_jpeg.rf.9bf091afcb679d6ee810ba7217691ea1.txt  \n",
            " extracting: train/labels/children_43_jpeg.rf.9d198b3ccdb3867062be2defe81a39df.txt  \n",
            " extracting: train/labels/children_45_jpeg.rf.0908799ebb9e4a1d9a8ab4d53af0e28f.txt  \n",
            " extracting: train/labels/children_45_jpeg.rf.d6f8d99b58fcafcc6b1e38e70c7cdd36.txt  \n",
            " extracting: train/labels/children_45_jpeg.rf.eb45309cfc665bb81d1d5292731b8c5d.txt  \n",
            " extracting: train/labels/children_47_jpeg.rf.9f4f6813b24f9904a7fe41e4c7b2d45c.txt  \n",
            " extracting: train/labels/children_47_jpeg.rf.a9e374a87413c6d2fad20a36a37b3700.txt  \n",
            " extracting: train/labels/children_47_jpeg.rf.e3e8c05d102f7aa75e5885ca5c44732f.txt  \n",
            " extracting: train/labels/children_49_jpeg.rf.075b9c31a9d68a7c43ccae96e65c4340.txt  \n",
            " extracting: train/labels/children_49_jpeg.rf.b07404cdb4129aae073e388cb923d4a8.txt  \n",
            " extracting: train/labels/children_49_jpeg.rf.b612dc723e711594164e72d652f63090.txt  \n",
            " extracting: train/labels/children_4_png.rf.5141de247e8fa89a8f9038f0feb36c65.txt  \n",
            " extracting: train/labels/children_4_png.rf.747a7cf91615838f44b14fcd5f5217ef.txt  \n",
            " extracting: train/labels/children_4_png.rf.f68f634916000295baa9da2de20071df.txt  \n",
            " extracting: train/labels/children_51_jpeg.rf.74b93c8b6c29b0a465629087dfbbbfdc.txt  \n",
            " extracting: train/labels/children_51_jpeg.rf.7f2bba36436245fde2dbee98d145ee03.txt  \n",
            " extracting: train/labels/children_51_jpeg.rf.dcd9cf6dc8bdcb9d51ba4b5317cdc54c.txt  \n",
            " extracting: train/labels/children_52_jpeg.rf.845b6b7cf23745a6cc2a6336a5ec9bd5.txt  \n",
            " extracting: train/labels/children_52_jpeg.rf.b39024f23d2d774e3c316c504fe4340f.txt  \n",
            " extracting: train/labels/children_52_jpeg.rf.f825ab4fbcb1b1faca4e2b792396f73d.txt  \n",
            " extracting: train/labels/children_53_jpeg.rf.000dc45f9bfdffa001fabc1db618af33.txt  \n",
            " extracting: train/labels/children_53_jpeg.rf.2ed26779629449355361e57a67b6109f.txt  \n",
            " extracting: train/labels/children_53_jpeg.rf.8e7f5cfb7d69b07c195da3751c334b3a.txt  \n",
            " extracting: train/labels/children_57_jpeg.rf.61f08a82de7647adf3e2c85344e4f0c0.txt  \n",
            " extracting: train/labels/children_57_jpeg.rf.94186746f0eeb54d0ccc7a0cd567d890.txt  \n",
            " extracting: train/labels/children_57_jpeg.rf.d9bda9b4b0ddb8ade10aba89242a08a3.txt  \n",
            " extracting: train/labels/children_59_jpeg.rf.a4ac78476295320882f87e66b3744605.txt  \n",
            " extracting: train/labels/children_59_jpeg.rf.aecad219267057c8089383f36294ba40.txt  \n",
            " extracting: train/labels/children_59_jpeg.rf.ef3465c4bd7676c991b6923ce2d7bcb1.txt  \n",
            " extracting: train/labels/children_5_jpeg.rf.271929f9472887cf339377b146a07e20.txt  \n",
            " extracting: train/labels/children_5_jpeg.rf.b59500b09bba1c12a1bbc96b21b0d0d5.txt  \n",
            " extracting: train/labels/children_5_jpeg.rf.f5f8d6fcf7ca27e38c1cac8f45864621.txt  \n",
            " extracting: train/labels/children_61_jpeg.rf.8bb4e9ef8c6a7228c98744dd1d8d277c.txt  \n",
            " extracting: train/labels/children_61_jpeg.rf.9341ba42d8f40f6b58ce58508b38c14d.txt  \n",
            " extracting: train/labels/children_61_jpeg.rf.b978e1633aea8a59e12306e87be5ee59.txt  \n",
            " extracting: train/labels/children_62_jpeg.rf.400af980becb525762937bc7f4f6d4fb.txt  \n",
            " extracting: train/labels/children_62_jpeg.rf.4289a21957b3e4005983e8e3d85887f9.txt  \n",
            " extracting: train/labels/children_62_jpeg.rf.aa21baa827e469d0e32a83a8394bc617.txt  \n",
            " extracting: train/labels/children_63_jpeg.rf.487b788baab3d8d76a0cdd6082230cbe.txt  \n",
            " extracting: train/labels/children_63_jpeg.rf.64ddea68d24aff9fe75787d8dd60fbc8.txt  \n",
            " extracting: train/labels/children_63_jpeg.rf.8425a8677d4271dae504c9220ee21c97.txt  \n",
            " extracting: train/labels/children_64_png.rf.8c0ab084f90976dae1dd700a928c5aec.txt  \n",
            " extracting: train/labels/children_64_png.rf.c8124a22d3bc1b63290e4697bf38400b.txt  \n",
            " extracting: train/labels/children_64_png.rf.fbba44c2a52dfa3cadc7f89e9afdf91b.txt  \n",
            " extracting: train/labels/children_7_jpeg.rf.38bde198b80e90758538ef84ac51d927.txt  \n",
            " extracting: train/labels/children_7_jpeg.rf.8801fa18a008a146b0a158517e673076.txt  \n",
            " extracting: train/labels/children_7_jpeg.rf.d4851bc85555cd2bcdba0214c1804f65.txt  \n",
            " extracting: train/labels/family_10_jpeg.rf.02faa0c941df52b478170a77797b1f44.txt  \n",
            " extracting: train/labels/family_10_jpeg.rf.10798e3260c8d64f74b27755717ab1e8.txt  \n",
            " extracting: train/labels/family_10_jpeg.rf.1b48401ffc197ea48ea7955d2ca044e4.txt  \n",
            " extracting: train/labels/family_111_jpeg.rf.38e58e67ca5f1f7bb2211a4ab87285bd.txt  \n",
            " extracting: train/labels/family_111_jpeg.rf.982fd7652dcbefec594cd37b3891609c.txt  \n",
            " extracting: train/labels/family_111_jpeg.rf.e5d2bd4d90084f9112cd70f44ad40f86.txt  \n",
            " extracting: train/labels/family_112_jpeg.rf.061fc114c4fe13f0b2886efda15150c8.txt  \n",
            " extracting: train/labels/family_112_jpeg.rf.399542854a75bd09064a7034c027a496.txt  \n",
            " extracting: train/labels/family_112_jpeg.rf.b91965e1daccf6cf1c77e3e42995b4cc.txt  \n",
            " extracting: train/labels/family_119_jpeg.rf.3fc87e43691c1422f7d9b2c393f18a7c.txt  \n",
            " extracting: train/labels/family_119_jpeg.rf.674966c1d409e16566e43fc59735faf7.txt  \n",
            " extracting: train/labels/family_119_jpeg.rf.b3c3304a1faf553cbdc75c9776ec88a7.txt  \n",
            " extracting: train/labels/family_124_jpeg.rf.29b50617a75fb13ea36e9a4d3b57844e.txt  \n",
            " extracting: train/labels/family_124_jpeg.rf.834f96e81b46cdfae071f74a8f1e77cd.txt  \n",
            " extracting: train/labels/family_127_jpeg.rf.1c25089e86781ee716b40cb9681c5f7f.txt  \n",
            " extracting: train/labels/family_127_jpeg.rf.7e76d733a3d45b9996d2ebc21bca99e9.txt  \n",
            " extracting: train/labels/family_127_jpeg.rf.fc7cba4b944191fe97ea5b1dd8fffc8d.txt  \n",
            " extracting: train/labels/family_139_jpeg.rf.1e79c814babe776252f47547f719198b.txt  \n",
            " extracting: train/labels/family_139_jpeg.rf.547a9fc6cc46ef246663f31b7730416c.txt  \n",
            " extracting: train/labels/family_139_jpeg.rf.796698bc6b37454b0dbf838afc4ead8a.txt  \n",
            " extracting: train/labels/family_13_jpeg.rf.1ff186dd371cec5e966f3c317dac79fc.txt  \n",
            " extracting: train/labels/family_13_jpeg.rf.d578413aa5df3f89acb8b3399abaf86b.txt  \n",
            " extracting: train/labels/family_15_jpeg.rf.0b90542ca1261c802a11dba667b504f6.txt  \n",
            " extracting: train/labels/family_15_jpeg.rf.4d617b7e99370208335ea99fa8d903dc.txt  \n",
            " extracting: train/labels/family_15_jpeg.rf.910bc75b7a40e2d56b6e5de4dc8663e3.txt  \n",
            " extracting: train/labels/family_16_jpeg.rf.23f72f04999d034e58ac724f20e406c4.txt  \n",
            " extracting: train/labels/family_16_jpeg.rf.6f6ae63e5c8e498802ee607bdabc5c22.txt  \n",
            " extracting: train/labels/family_16_jpeg.rf.b3632c1fb7f407933c096e6aab0c6eea.txt  \n",
            " extracting: train/labels/family_19_jpeg.rf.0b68def68cc4b082b4f40c81d532ea3e.txt  \n",
            " extracting: train/labels/family_19_jpeg.rf.27798bbebfda879b14b5507f48b3a95a.txt  \n",
            " extracting: train/labels/family_19_jpeg.rf.ee07d044336d239004c3777ba46b9d86.txt  \n",
            " extracting: train/labels/family_20_jpeg.rf.2def06e5c68ec52da009edd66398ca36.txt  \n",
            " extracting: train/labels/family_20_jpeg.rf.5007cdfe9665f1fa2ad71af73cfa59c7.txt  \n",
            " extracting: train/labels/family_20_jpeg.rf.907a16ee1a331424329572c0c1d09d41.txt  \n",
            " extracting: train/labels/family_21_jpeg.rf.4bde395cf1735fbe483e37c210ec8dfd.txt  \n",
            " extracting: train/labels/family_21_jpeg.rf.c790d15a1284525478440d3b252bba2c.txt  \n",
            " extracting: train/labels/family_21_jpeg.rf.d444b8a9b7866cc3e167428ae50a7fd1.txt  \n",
            " extracting: train/labels/family_23_jpeg.rf.ac42672b227123a99e4bfc9439f9ca34.txt  \n",
            " extracting: train/labels/family_23_jpeg.rf.e335f0519a62cefc01c464ad5f91f4ee.txt  \n",
            " extracting: train/labels/family_23_jpeg.rf.e62b03272237ec51acd2e00e434a32d2.txt  \n",
            " extracting: train/labels/family_25_jpeg.rf.4114cea1187c7a933afa6d971b96d6f3.txt  \n",
            " extracting: train/labels/family_25_jpeg.rf.7d76e972e421ddcee453210bd56e7667.txt  \n",
            " extracting: train/labels/family_25_jpeg.rf.aadf2a792870ba16feec9046d1b15803.txt  \n",
            " extracting: train/labels/family_26_jpeg.rf.48142ce0a5dc09ff90288f1b6c7ed4ed.txt  \n",
            " extracting: train/labels/family_26_jpeg.rf.c71ab22e34dcfdf062ded82827e1f181.txt  \n",
            " extracting: train/labels/family_26_jpeg.rf.db35df9b41445628578b293eca3a0ef5.txt  \n",
            " extracting: train/labels/family_30_jpeg.rf.3954a59560712b62469cdfe1984b802c.txt  \n",
            " extracting: train/labels/family_30_jpeg.rf.5de2ff5f06c69caf8aca56c646f84ae9.txt  \n",
            " extracting: train/labels/family_30_jpeg.rf.88b2b773b476f6e1c5beb99a71a04e93.txt  \n",
            " extracting: train/labels/family_33_jpeg.rf.00364954cb3e5ad053926456560a229e.txt  \n",
            " extracting: train/labels/family_33_jpeg.rf.0d2c24a5a59866d2096226b0dc197768.txt  \n",
            " extracting: train/labels/family_33_jpeg.rf.e7989fe2c48a6848a009ed2c19b0dfb4.txt  \n",
            " extracting: train/labels/family_36_png.rf.018002595e90a58065fe38a31d8a30da.txt  \n",
            " extracting: train/labels/family_36_png.rf.33da2a770fd14a512035df273202b1ea.txt  \n",
            " extracting: train/labels/family_36_png.rf.940656d09bd273c8c910f36db6820171.txt  \n",
            " extracting: train/labels/family_3_jpeg.rf.3cce30ba85b5b076259f2de0869ea950.txt  \n",
            " extracting: train/labels/family_3_jpeg.rf.48f2f531bb6bb3b269c07e5b87f56c8a.txt  \n",
            " extracting: train/labels/family_3_jpeg.rf.879445089f5c7e4c363cccee1491475a.txt  \n",
            " extracting: train/labels/family_46_jpeg.rf.1eeb6683f0d19363ebc5254f00f10d8e.txt  \n",
            " extracting: train/labels/family_46_jpeg.rf.d224caf8baaa32116102e55fd2ec2205.txt  \n",
            " extracting: train/labels/family_46_jpeg.rf.e161e986cb4e20496e1e42dbd2e9bce7.txt  \n",
            " extracting: train/labels/family_48_jpeg.rf.9ce7ebb0ae4a14176a36dbece560d74f.txt  \n",
            " extracting: train/labels/family_48_jpeg.rf.cda41e779bc2ca920432614dc16ba9a4.txt  \n",
            " extracting: train/labels/family_54_jpeg.rf.272b8076db3645dd0b78d5db9ad9334a.txt  \n",
            " extracting: train/labels/family_54_jpeg.rf.7578efae25e45e1c8d099143070967a4.txt  \n",
            " extracting: train/labels/family_54_jpeg.rf.a525b9ea9c1a57b631ea121dcc1f2e66.txt  \n",
            " extracting: train/labels/family_56_jpeg.rf.1d8ba4b740bac5c298493d8d4c0db37a.txt  \n",
            " extracting: train/labels/family_56_jpeg.rf.46a0764a493f606acfb2b3def45cc859.txt  \n",
            " extracting: train/labels/family_56_jpeg.rf.d816cbf29e57fa5e268170855bc16c89.txt  \n",
            " extracting: train/labels/family_57_png.rf.3fbb3bbdf93d5712e384813c21088690.txt  \n",
            " extracting: train/labels/family_57_png.rf.5f85d6b96dfc5538c6b67a84cd80d911.txt  \n",
            " extracting: train/labels/family_57_png.rf.bae26794e4892dfa79773044f304000f.txt  \n",
            " extracting: train/labels/family_64_jpeg.rf.010bf858386f27ed26002c20a90a45ad.txt  \n",
            " extracting: train/labels/family_64_jpeg.rf.113957cb95a6e449aa112009676d4ff6.txt  \n",
            " extracting: train/labels/family_64_jpeg.rf.9b5dc41e28d9f720565dbb4da7b8fe11.txt  \n",
            " extracting: train/labels/family_66_jpeg.rf.0f4b5c212bea1a018844d2a2bf11c4f1.txt  \n",
            " extracting: train/labels/family_66_jpeg.rf.55605aef1e1d725cb35296113dd07c43.txt  \n",
            " extracting: train/labels/family_66_jpeg.rf.cb880ea8addedb55872b310687e8dfbc.txt  \n",
            " extracting: train/labels/family_67_png.rf.9134db67fbc734d186aa895c4140c5f1.txt  \n",
            " extracting: train/labels/family_67_png.rf.aaca77a6e70bb9e5c361e269e1342545.txt  \n",
            " extracting: train/labels/family_67_png.rf.af87ac88e1b8da10553c5038cf6de9ca.txt  \n",
            " extracting: train/labels/family_68_jpeg.rf.163b2c3a5779ee6d5577ea508d9142a5.txt  \n",
            " extracting: train/labels/family_68_jpeg.rf.3b6f78481b9600b74c10d0a3e2e32aca.txt  \n",
            " extracting: train/labels/family_68_jpeg.rf.7e07251cac4984c41ad8dea9928d082d.txt  \n",
            " extracting: train/labels/family_6_jpeg.rf.127df1e42f8d3943cc74089feefaf247.txt  \n",
            " extracting: train/labels/family_6_jpeg.rf.1ab7da56f6c0fcf9228cb2a91ff2fade.txt  \n",
            " extracting: train/labels/family_6_jpeg.rf.d7073e14085a608346985bec77647883.txt  \n",
            " extracting: train/labels/family_72_jpeg.rf.2cb2692b6327887c833d8ea6ab589b9f.txt  \n",
            " extracting: train/labels/family_72_jpeg.rf.7c20964146a578746970e3f4407827b2.txt  \n",
            " extracting: train/labels/family_72_jpeg.rf.986f0ddd35aaeb2b023f9b6a2401a98b.txt  \n",
            " extracting: train/labels/family_7_jpeg.rf.5bcf9255e37650da8334acc5bface68e.txt  \n",
            " extracting: train/labels/family_7_jpeg.rf.7b60f2dff9e5630b357759241dc7dac9.txt  \n",
            " extracting: train/labels/family_7_jpeg.rf.7cabce26ab51536f1b6a4a6e50409808.txt  \n",
            " extracting: train/labels/family_82_jpeg.rf.738f23e02b712b12b86a153223dd5421.txt  \n",
            " extracting: train/labels/family_82_jpeg.rf.96552edaeb2bc39cf2105d963842b493.txt  \n",
            " extracting: train/labels/family_82_jpeg.rf.f2a8ea240e2bd59f1a1a02822ea4c93d.txt  \n",
            " extracting: train/labels/full-body_11_jpeg.rf.3634c003465d9b4615d6c213029f02fe.txt  \n",
            " extracting: train/labels/full-body_11_jpeg.rf.7c7c7d26a02fb61da54a5244335bccfc.txt  \n",
            " extracting: train/labels/full-body_11_jpeg.rf.dbf84375deb483d08244e86cb6ef0c35.txt  \n",
            " extracting: train/labels/full-body_13_jpeg.rf.38a70f6cb77bc211fc3920fc26bf4371.txt  \n",
            " extracting: train/labels/full-body_13_jpeg.rf.f341ddc2a3114fac6d191a43fc1148d5.txt  \n",
            " extracting: train/labels/full-body_13_jpeg.rf.fc168b2a8b93d985165a8e666c31a888.txt  \n",
            " extracting: train/labels/full-body_17_jpeg.rf.41485e1f51c627302328f0e61a8b49b4.txt  \n",
            " extracting: train/labels/full-body_17_jpeg.rf.41caa60201b916308ca9b8be9dbd4234.txt  \n",
            " extracting: train/labels/full-body_17_jpeg.rf.73eb037802236012e06ae3bee0eccf58.txt  \n",
            " extracting: train/labels/full-body_18_jpeg.rf.743fb376091889d3149892111dae2705.txt  \n",
            " extracting: train/labels/full-body_18_jpeg.rf.fb639af5c9fd7da31598464d8ad37b05.txt  \n",
            " extracting: train/labels/full-body_24_jpeg.rf.3dc36d8bf5d05483752034e0b6044fd9.txt  \n",
            " extracting: train/labels/full-body_24_jpeg.rf.5f57c8f8ce201c184dc2eb4de3b5b995.txt  \n",
            " extracting: train/labels/full-body_24_jpeg.rf.8705eb68aa3e02ca0f1ee0430c453b2b.txt  \n",
            " extracting: train/labels/full-body_27_jpeg.rf.692156c1d2b58eda66290b837bcfdc4f.txt  \n",
            " extracting: train/labels/full-body_27_jpeg.rf.84a1809021f4f5ab441ae909d6d52921.txt  \n",
            " extracting: train/labels/full-body_27_jpeg.rf.b107ffa1c18dce5927eadf2a4c86b83e.txt  \n",
            " extracting: train/labels/full-body_33_jpeg.rf.1f30684070753bcc01aaf9be506e6d83.txt  \n",
            " extracting: train/labels/full-body_33_jpeg.rf.3038e8ab75954553a45422c547aaa084.txt  \n",
            " extracting: train/labels/full-body_33_jpeg.rf.de0b2aa55f4b0c8d0d4ce3dfcb1a5854.txt  \n",
            " extracting: train/labels/full-body_34_jpeg.rf.3a16e040c086a7f4cc5773e62c40561f.txt  \n",
            " extracting: train/labels/full-body_34_jpeg.rf.58c848f7baa905dfe381d2f5dbec00b1.txt  \n",
            " extracting: train/labels/full-body_34_jpeg.rf.985ec7f337e00ef3ec767f01e3ffa64f.txt  \n",
            " extracting: train/labels/full-body_3_jpeg.rf.4325fb526ef0af7a6095e7a27b540873.txt  \n",
            " extracting: train/labels/full-body_3_jpeg.rf.990497813b71f8cce2c939fa000576f5.txt  \n",
            " extracting: train/labels/full-body_3_jpeg.rf.fb1d61935f96c83bd07d2f59464944e7.txt  \n",
            " extracting: train/labels/full-body_46_jpeg.rf.8c19a2e2dcba25861203b1a2ac0c168b.txt  \n",
            " extracting: train/labels/full-body_46_jpeg.rf.a10388f64ec349d93a0dd61033021e55.txt  \n",
            " extracting: train/labels/full-body_46_jpeg.rf.cd1fc3794246cc29658723afbe5a7a8d.txt  \n",
            " extracting: train/labels/full-body_50_jpeg.rf.399c513191af1966e13e2d6da67802a9.txt  \n",
            " extracting: train/labels/full-body_50_jpeg.rf.ee5d19c304c2c2fd8f686ac9140abe60.txt  \n",
            " extracting: train/labels/full-body_50_jpeg.rf.eee8b351f2d21736df424328458453c8.txt  \n",
            " extracting: train/labels/full-body_57_jpeg.rf.47c6b71a380b6f54f9418a960fb88827.txt  \n",
            " extracting: train/labels/full-body_57_jpeg.rf.9e2c6323e451646f308591049d1ad0d7.txt  \n",
            " extracting: train/labels/full-body_57_jpeg.rf.ad1955d7bd47039260ec45543574c231.txt  \n",
            " extracting: train/labels/full-body_68_jpeg.rf.0c5436db69bd6283fc16aaf3c376c7f0.txt  \n",
            " extracting: train/labels/full-body_68_jpeg.rf.0e5563896e948e2616dd3d18e687b90b.txt  \n",
            " extracting: train/labels/full-body_68_jpeg.rf.4720432dbe6247ef8832b6a51afb7363.txt  \n",
            " extracting: train/labels/full-body_9_jpeg.rf.1236ce9b0bfb3152717437755b3eccf8.txt  \n",
            " extracting: train/labels/full-body_9_jpeg.rf.77c318dfb504bc223364fcec95e970aa.txt  \n",
            " extracting: train/labels/full-body_9_jpeg.rf.bcdf54367a5abeacec30d47b235254d6.txt  \n",
            " extracting: train/labels/kid-from-the-back_10_jpeg.rf.3f7081087d7d7f88642a8b0092c7a80b.txt  \n",
            " extracting: train/labels/kid-from-the-back_10_jpeg.rf.ccddeb9556595339f40009780c365c9e.txt  \n",
            " extracting: train/labels/kid-from-the-back_10_jpeg.rf.eeb78b8af69ab57d1a1c35f8418a1dbe.txt  \n",
            " extracting: train/labels/kid-from-the-back_12_jpeg.rf.58725efe55efaa34708766ee7477f996.txt  \n",
            " extracting: train/labels/kid-from-the-back_12_jpeg.rf.8721e7f584537cade005adce1dd27540.txt  \n",
            " extracting: train/labels/kid-from-the-back_12_jpeg.rf.8ad45717e3686da90f2cc09bce2fbbf3.txt  \n",
            " extracting: train/labels/kid-from-the-back_13_jpeg.rf.0d6522da56aa3485eec8ac532050d657.txt  \n",
            " extracting: train/labels/kid-from-the-back_13_jpeg.rf.306700623255eeb551ceaf793825a76e.txt  \n",
            " extracting: train/labels/kid-from-the-back_13_jpeg.rf.3982c079a7ea2b55b31913f9295c9fa7.txt  \n",
            " extracting: train/labels/kid-from-the-back_15_jpeg.rf.d489b695ca6a8ab603a6e7cfebf9ecda.txt  \n",
            " extracting: train/labels/kid-from-the-back_15_jpeg.rf.dde0be23d61a428ee506cd62ef36a858.txt  \n",
            " extracting: train/labels/kid-from-the-back_15_jpeg.rf.f1da3aa67736a8353017e8d87781df83.txt  \n",
            " extracting: train/labels/kid-from-the-back_16_jpeg.rf.16ebb5a45544d64e147d819598e1b02e.txt  \n",
            " extracting: train/labels/kid-from-the-back_16_jpeg.rf.2fc4c9b40530368335fb875b7d36a4f4.txt  \n",
            " extracting: train/labels/kid-from-the-back_16_jpeg.rf.37655569d5e5efc57756ae686535c705.txt  \n",
            " extracting: train/labels/kid-from-the-back_17_jpeg.rf.53d2e8e0719ba79bd20625477259d3e4.txt  \n",
            " extracting: train/labels/kid-from-the-back_17_jpeg.rf.641f44f22d2ce6da14a54a6f4392c78c.txt  \n",
            " extracting: train/labels/kid-from-the-back_17_jpeg.rf.9eabee2f7f49bfb75d1a6ef6bc575b80.txt  \n",
            " extracting: train/labels/kid-from-the-back_19_jpeg.rf.52306b23f9e2089a7c05f7cc0053d08f.txt  \n",
            " extracting: train/labels/kid-from-the-back_19_jpeg.rf.c43692104b13afd93ed850491688a87d.txt  \n",
            " extracting: train/labels/kid-from-the-back_19_jpeg.rf.f66a61c42951a9cf4f65c5e82f8edd23.txt  \n",
            " extracting: train/labels/kid-from-the-back_21_jpeg.rf.249db79cd4c9deb36deaf0201940f692.txt  \n",
            " extracting: train/labels/kid-from-the-back_21_jpeg.rf.54b4cf260d93dcabe2c209f462641d10.txt  \n",
            " extracting: train/labels/kid-from-the-back_21_jpeg.rf.607d2c7324acee2fa734b36c8ca6d731.txt  \n",
            " extracting: train/labels/kid-from-the-back_23_jpeg.rf.17853e6ff66d8ec27462364d278fb58a.txt  \n",
            " extracting: train/labels/kid-from-the-back_23_jpeg.rf.bd3f5dc0d70e5bc5400002b793663b67.txt  \n",
            " extracting: train/labels/kid-from-the-back_23_jpeg.rf.ec7f63a7b2c4f54ef01d08b48be193cf.txt  \n",
            " extracting: train/labels/kid-from-the-back_24_png.rf.341220ad66009cc15fb24811adc659bb.txt  \n",
            " extracting: train/labels/kid-from-the-back_24_png.rf.68cd2fadb89573138f7474e6aa54ccf2.txt  \n",
            " extracting: train/labels/kid-from-the-back_24_png.rf.7c38db7e1ef05025143ef5e5588fe141.txt  \n",
            " extracting: train/labels/kid-from-the-back_27_jpeg.rf.03fdd40d8621c72d317b97d731f0e28e.txt  \n",
            " extracting: train/labels/kid-from-the-back_27_jpeg.rf.47ec32020e814d662b2177e5dcd7645c.txt  \n",
            " extracting: train/labels/kid-from-the-back_27_jpeg.rf.7f0a25c00301d1f23d446ab730ddd569.txt  \n",
            " extracting: train/labels/kid-from-the-back_28_jpeg.rf.1fb07c44a09af5d8135a4ffdf0a25aa0.txt  \n",
            " extracting: train/labels/kid-from-the-back_28_jpeg.rf.6c7cbb9e892100da3e26ea9bb561f38a.txt  \n",
            " extracting: train/labels/kid-from-the-back_28_jpeg.rf.b1d38690fbc73f93458ddc6d322bdc9e.txt  \n",
            " extracting: train/labels/kid-from-the-back_32_jpeg.rf.ae9a2144990a6b94020faaae4112fc19.txt  \n",
            " extracting: train/labels/kid-from-the-back_32_jpeg.rf.cf57b48a211e010e596d71cf95bfd5c8.txt  \n",
            " extracting: train/labels/kid-from-the-back_32_jpeg.rf.dd9253a3dbd9f6914b3b1db72582bd9f.txt  \n",
            " extracting: train/labels/kid-from-the-back_34_jpeg.rf.98cb13e261752bbe64a52bdbf0ee4918.txt  \n",
            " extracting: train/labels/kid-from-the-back_34_jpeg.rf.b10bf42c5d8dcccecf5fb95199f7d5fe.txt  \n",
            " extracting: train/labels/kid-from-the-back_34_jpeg.rf.f5f4daf066e8c97f155a1539833c26e2.txt  \n",
            " extracting: train/labels/kid-from-the-back_35_jpeg.rf.39cf166494aaa322cf01e22208a2920a.txt  \n",
            " extracting: train/labels/kid-from-the-back_35_jpeg.rf.52e23f65891b37ea009c7d7e629fb3c8.txt  \n",
            " extracting: train/labels/kid-from-the-back_35_jpeg.rf.f3c305f6d6d001b2fe272e96adb2cb12.txt  \n",
            " extracting: train/labels/kid-from-the-back_36_jpeg.rf.5cd13c99f077fdc55193a419324cd992.txt  \n",
            " extracting: train/labels/kid-from-the-back_36_jpeg.rf.7a780d06e841575ec6b782eded116ef3.txt  \n",
            " extracting: train/labels/kid-from-the-back_36_jpeg.rf.f4ab48abe8c3e5301e682d75bdba1336.txt  \n",
            " extracting: train/labels/kid-from-the-back_37_jpeg.rf.00af14d6c17b081231e1280a6c15742a.txt  \n",
            " extracting: train/labels/kid-from-the-back_37_jpeg.rf.0d30bd06cc71a551d48ce48fa14bf24d.txt  \n",
            " extracting: train/labels/kid-from-the-back_37_jpeg.rf.de730195cee3669e22bbd4131717e2f1.txt  \n",
            " extracting: train/labels/kid-from-the-back_38_jpeg.rf.aa82f8a3146e344ed4c28235985a3852.txt  \n",
            " extracting: train/labels/kid-from-the-back_38_jpeg.rf.d2ada4a7686e4bd4b2dca08c87f9da6f.txt  \n",
            " extracting: train/labels/kid-from-the-back_38_jpeg.rf.d59cd5d3d9021a52c8c0676bd0af1ccb.txt  \n",
            " extracting: train/labels/kid-from-the-back_39_jpeg.rf.2be3d9a4539305429ca7f7a76b597f44.txt  \n",
            " extracting: train/labels/kid-from-the-back_39_jpeg.rf.3db98e2ce6105d0714bc68654db24377.txt  \n",
            " extracting: train/labels/kid-from-the-back_39_jpeg.rf.48483826ea58f2f67e0a3c61f040b928.txt  \n",
            " extracting: train/labels/kid-from-the-back_3_jpeg.rf.46b4e82bb44c062003b2260d4d75201c.txt  \n",
            " extracting: train/labels/kid-from-the-back_3_jpeg.rf.4d53e8e0ef3cf0db37f7d2540d703152.txt  \n",
            " extracting: train/labels/kid-from-the-back_3_jpeg.rf.8ea0e05ed33d6e4c3b5d7e1bd673040a.txt  \n",
            " extracting: train/labels/kid-from-the-back_40_png.rf.04310e16585ef649d03a1156d025d97b.txt  \n",
            " extracting: train/labels/kid-from-the-back_40_png.rf.a7687aba735dedbc0c12613f8ab967d9.txt  \n",
            " extracting: train/labels/kid-from-the-back_40_png.rf.f2049eef45889f334c97410761e3add0.txt  \n",
            " extracting: train/labels/kid-from-the-back_42_jpeg.rf.3c105a77d6a91e6dfb89f33afa157ffe.txt  \n",
            " extracting: train/labels/kid-from-the-back_42_jpeg.rf.aac35b62150dccb0aa640dcba3f15a70.txt  \n",
            " extracting: train/labels/kid-from-the-back_42_jpeg.rf.d939151cef10c8fd676da4ac80442440.txt  \n",
            " extracting: train/labels/kid-from-the-back_44_jpeg.rf.0723f5b3d801f158dcaf85485471e6de.txt  \n",
            " extracting: train/labels/kid-from-the-back_44_jpeg.rf.62d97eb1a9e3ef1bcb7e29b15ac51582.txt  \n",
            " extracting: train/labels/kid-from-the-back_44_jpeg.rf.c4ac7d06d06042f384cdc5d02323fb74.txt  \n",
            " extracting: train/labels/kid-from-the-back_45_jpeg.rf.0ee585ccfe7c0703ad2158af32d723d7.txt  \n",
            " extracting: train/labels/kid-from-the-back_45_jpeg.rf.7354c970155346401a3aa8485cb9049b.txt  \n",
            " extracting: train/labels/kid-from-the-back_45_jpeg.rf.e50b01cf7f569883f6473adef4d16064.txt  \n",
            " extracting: train/labels/kid-from-the-back_47_png.rf.2ec92011cdd9fc89faf235cd285e9710.txt  \n",
            " extracting: train/labels/kid-from-the-back_47_png.rf.39431fa07ba4352efa500dd13d2fc790.txt  \n",
            " extracting: train/labels/kid-from-the-back_47_png.rf.e500b7d76098dcf272fe26fcc3e2aa08.txt  \n",
            " extracting: train/labels/kid-from-the-back_48_jpeg.rf.0c755b55c24d7602476984700cfa7b31.txt  \n",
            " extracting: train/labels/kid-from-the-back_48_jpeg.rf.b99800cff2e6987b6319f60b2480b8a1.txt  \n",
            " extracting: train/labels/kid-from-the-back_48_jpeg.rf.ffe4f1be0741ab82d922cf676cff0859.txt  \n",
            " extracting: train/labels/kid-from-the-back_4_jpeg.rf.afffd569bc2f57c7810c4fccc5bd2e5e.txt  \n",
            " extracting: train/labels/kid-from-the-back_4_jpeg.rf.ccfb2b7971f269341935c5f4649ec199.txt  \n",
            " extracting: train/labels/kid-from-the-back_4_jpeg.rf.e148eea0ad4d0f8b765dda8bd76b183e.txt  \n",
            " extracting: train/labels/kid-from-the-back_50_jpeg.rf.6eb372207fb298be7477135317a06dd6.txt  \n",
            " extracting: train/labels/kid-from-the-back_50_jpeg.rf.cfd2c55a7a29a0d295d40fac406e12eb.txt  \n",
            " extracting: train/labels/kid-from-the-back_50_jpeg.rf.ee6d5a641302c7f6fc0935cb91d7f008.txt  \n",
            " extracting: train/labels/kid-from-the-back_51_jpeg.rf.877cacd39946a8515ae54e1f1fb888bc.txt  \n",
            " extracting: train/labels/kid-from-the-back_51_jpeg.rf.a2a7ec22289e7c775dc2f44e0983c189.txt  \n",
            " extracting: train/labels/kid-from-the-back_51_jpeg.rf.bc29849a91e55a14e88ca59cdf76e467.txt  \n",
            " extracting: train/labels/kid-from-the-back_52_jpeg.rf.69352ddde87f39170bd62d7d68cc1df4.txt  \n",
            " extracting: train/labels/kid-from-the-back_52_jpeg.rf.881f8265f414be4e9cf74b0699bf06c6.txt  \n",
            " extracting: train/labels/kid-from-the-back_52_jpeg.rf.fea7b30c2c9e8eb66f49464ab2c2182b.txt  \n",
            " extracting: train/labels/kid-from-the-back_53_jpeg.rf.04ca66b4b3b965b167f96f61236fcb9b.txt  \n",
            " extracting: train/labels/kid-from-the-back_53_jpeg.rf.41100e39c2e05b6b46f36ca303e758b5.txt  \n",
            " extracting: train/labels/kid-from-the-back_53_jpeg.rf.d54c472a9dca3678fb4cb2cdc6cf7386.txt  \n",
            " extracting: train/labels/kid-from-the-back_56_jpeg.rf.492a5f7468f3dfd3194e75668e508a80.txt  \n",
            " extracting: train/labels/kid-from-the-back_56_jpeg.rf.4dd85765a4e1298ed4e832dddc3a30e7.txt  \n",
            " extracting: train/labels/kid-from-the-back_56_jpeg.rf.eb868be214b3d1b2208f989f717ac2bb.txt  \n",
            " extracting: train/labels/kid-from-the-back_58_jpeg.rf.0d12f6191f004b3807785813492146ba.txt  \n",
            " extracting: train/labels/kid-from-the-back_58_jpeg.rf.66edbbaa6860a359e271150bf9ea4204.txt  \n",
            " extracting: train/labels/kid-from-the-back_58_jpeg.rf.be52bdc61e4bfc6a7766ae4334711936.txt  \n",
            " extracting: train/labels/kid-from-the-back_5_jpeg.rf.18faf37de35dee37f72c67a787ed9a0d.txt  \n",
            " extracting: train/labels/kid-from-the-back_5_jpeg.rf.4bd7bbc92e10542b3f30c810e7117c95.txt  \n",
            " extracting: train/labels/kid-from-the-back_5_jpeg.rf.9ce247bc84cc2b5ae24be30771520389.txt  \n",
            " extracting: train/labels/kid-from-the-back_61_jpeg.rf.3ba26d79687444dba14dd0446fc51b5c.txt  \n",
            " extracting: train/labels/kid-from-the-back_61_jpeg.rf.857abb2ea3bede47f179634f54749f95.txt  \n",
            " extracting: train/labels/kid-from-the-back_61_jpeg.rf.c10b26fd7b26e4e99c7b557f97c55cba.txt  \n",
            " extracting: train/labels/kid-from-the-back_64_jpeg.rf.77ec08f6c29677cd8664b86d36f6884a.txt  \n",
            " extracting: train/labels/kid-from-the-back_64_jpeg.rf.bbc324d63aecb3e14330f20c8ae1dc02.txt  \n",
            " extracting: train/labels/kid-from-the-back_64_jpeg.rf.f333358cbc216470b0e0c2aea28672c1.txt  \n",
            " extracting: train/labels/kid-from-the-back_65_jpeg.rf.414c4e8175ef2b5e5437fb58ce300652.txt  \n",
            " extracting: train/labels/kid-from-the-back_65_jpeg.rf.4f8c11cb45e3906c6bff1151e889d825.txt  \n",
            " extracting: train/labels/kid-from-the-back_65_jpeg.rf.6ae1e352de5ab83c225cea9c7c5afc7d.txt  \n",
            " extracting: train/labels/kid-from-the-back_66_jpeg.rf.a96d3cb36fe029648441f7c0927a4324.txt  \n",
            " extracting: train/labels/kid-from-the-back_66_jpeg.rf.aa91a6a1b4c6ed8c728198db53129fe7.txt  \n",
            " extracting: train/labels/kid-from-the-back_66_jpeg.rf.d12d457d79a87d9edcd5421034a14147.txt  \n",
            " extracting: train/labels/kid-from-the-back_68_jpeg.rf.54871f488301d085fdbb00266619dfee.txt  \n",
            " extracting: train/labels/kid-from-the-back_68_jpeg.rf.d4237e1d0ee0003fd4f6d8657bed742d.txt  \n",
            " extracting: train/labels/kid-from-the-back_68_jpeg.rf.dd432acf72e5ac67a4013adee74dd6fc.txt  \n",
            " extracting: train/labels/kid-from-the-back_6_jpeg.rf.13970bb021cb1a0c46377230d2a0bad8.txt  \n",
            " extracting: train/labels/kid-from-the-back_6_jpeg.rf.7ac532c96c5882fe33a62364216f6815.txt  \n",
            " extracting: train/labels/kid-from-the-back_6_jpeg.rf.df104fd8b1009016cc4a5819d1dc8d55.txt  \n",
            " extracting: train/labels/kid-from-the-back_7_jpeg.rf.39dec536dd3db0f3443771338fa2b12b.txt  \n",
            " extracting: train/labels/kid-from-the-back_7_jpeg.rf.87ad5d053399295495183c34a5fbf5f5.txt  \n",
            " extracting: train/labels/kid-from-the-back_7_jpeg.rf.db25df9825deb56d126caba48accecc6.txt  \n",
            " extracting: train/labels/kid-from-the-back_9_jpeg.rf.5ef4cff07ce26711e65944ebdd45bc4c.txt  \n",
            " extracting: train/labels/kid-from-the-back_9_jpeg.rf.60a67f7c01dc896c3e46b46730a02c01.txt  \n",
            " extracting: train/labels/kid-from-the-back_9_jpeg.rf.630339d964ae7be7d6146459ad6425d7.txt  \n",
            " extracting: train/labels/kid_10_jpeg.rf.4be5b9f9bc38afed74cda5f33931c858.txt  \n",
            " extracting: train/labels/kid_10_jpeg.rf.dc3635f29c536b175761a975bc687997.txt  \n",
            " extracting: train/labels/kid_10_jpeg.rf.fdc7d0ae5254cf5d5320e43b1d82d778.txt  \n",
            " extracting: train/labels/kid_11_jpeg.rf.4bc0c13ffe88ed5f186aaed590926acf.txt  \n",
            " extracting: train/labels/kid_11_jpeg.rf.735ddfb397e4559d16a15bde2657dc8d.txt  \n",
            " extracting: train/labels/kid_11_jpeg.rf.cd5f1bc9da8fac1a9b51b196d47151c4.txt  \n",
            " extracting: train/labels/kid_12_png.rf.437fa5078939f7896b00b2173838fac9.txt  \n",
            " extracting: train/labels/kid_12_png.rf.6aaeec7976c5c17fd6514c278bd36abb.txt  \n",
            " extracting: train/labels/kid_12_png.rf.f2bfe94fe62f2aa308c55635925c521d.txt  \n",
            " extracting: train/labels/kid_17_jpeg.rf.51c38b38d08354bbed418429cd14fd61.txt  \n",
            " extracting: train/labels/kid_17_jpeg.rf.b1d212d5af65eecd21e06c1f4c17c249.txt  \n",
            " extracting: train/labels/kid_17_jpeg.rf.c6b3207d8dd60b46ad7aa2aebc032710.txt  \n",
            " extracting: train/labels/kid_18_jpeg.rf.6a9f5f71022d9b7504881aa47e624233.txt  \n",
            " extracting: train/labels/kid_18_jpeg.rf.8fecc65ea74dab917dbb3b7cf8370f8e.txt  \n",
            " extracting: train/labels/kid_18_jpeg.rf.b89a3f8b416a78a5552eb2575d0b5186.txt  \n",
            " extracting: train/labels/kid_19_jpeg.rf.03868a0380b3671138b840fe1376f39b.txt  \n",
            " extracting: train/labels/kid_19_jpeg.rf.73c93919bc47a9cb3eaa6d898aca01fc.txt  \n",
            " extracting: train/labels/kid_19_jpeg.rf.d9ef363f09ababa96e2bbc7ccce0b266.txt  \n",
            " extracting: train/labels/kid_26_jpeg.rf.0825df0a1df3770068ec689adbee7615.txt  \n",
            " extracting: train/labels/kid_26_jpeg.rf.99ad305b14aebca592db8eded6906fef.txt  \n",
            " extracting: train/labels/kid_26_jpeg.rf.df61a70a4ff61156c469dc0e55d1fc2f.txt  \n",
            " extracting: train/labels/kid_30_jpeg.rf.284d4f8981f061a74aec06f94477c8e6.txt  \n",
            " extracting: train/labels/kid_30_jpeg.rf.5178dffb7235c917af2a722ccc0e436d.txt  \n",
            " extracting: train/labels/kid_30_jpeg.rf.f7c54364246240b647e059250b53f2b9.txt  \n",
            " extracting: train/labels/kid_31_jpeg.rf.5fc4dde3c62100ee8fed00d7ef1128f2.txt  \n",
            " extracting: train/labels/kid_31_jpeg.rf.68b14165a940a50870f3e4baa11e15fb.txt  \n",
            " extracting: train/labels/kid_31_jpeg.rf.6963d1f59225c1e09e95613aad20dd01.txt  \n",
            " extracting: train/labels/kid_32_jpeg.rf.81533de1341b491830c314797b8201c7.txt  \n",
            " extracting: train/labels/kid_32_jpeg.rf.df39708fe3cc70628465d88de457bc91.txt  \n",
            " extracting: train/labels/kid_32_jpeg.rf.f57a2e7231a85b9dc80b03c40700a6e5.txt  \n",
            " extracting: train/labels/kid_34_jpeg.rf.26a945e4d1c6d8a11ffda9c0463b00a1.txt  \n",
            " extracting: train/labels/kid_34_jpeg.rf.6a99ac17885ad85a3b95e8d40fdc5974.txt  \n",
            " extracting: train/labels/kid_34_jpeg.rf.abf58ad6f18d1d19d2263ffb199f7b69.txt  \n",
            " extracting: train/labels/kid_38_jpeg.rf.7338af9e7d5c2548b78a3474e470a4aa.txt  \n",
            " extracting: train/labels/kid_38_jpeg.rf.936e7854104d51bc50425cff25652296.txt  \n",
            " extracting: train/labels/kid_38_jpeg.rf.d3525123945d1d6c2deaf086099bded4.txt  \n",
            " extracting: train/labels/kid_3_jpeg.rf.6838f65208448d7be593f0be3d447391.txt  \n",
            " extracting: train/labels/kid_3_jpeg.rf.7baddb51738b27d17208cfe55d96e51d.txt  \n",
            " extracting: train/labels/kid_3_jpeg.rf.8ed731f66c120ade53a2c4a736c7ce52.txt  \n",
            " extracting: train/labels/kid_40_png.rf.813658b580a290139da2bc4c9ebecfb1.txt  \n",
            " extracting: train/labels/kid_40_png.rf.92725a39327ba0eb7c6f4d6ec9eb59dd.txt  \n",
            " extracting: train/labels/kid_40_png.rf.d223c19eab44356e0f39fd6d28c0c886.txt  \n",
            " extracting: train/labels/kid_41_jpeg.rf.917f7b56ec32128c157c9c405542e075.txt  \n",
            " extracting: train/labels/kid_41_jpeg.rf.b7b5282b1bd8b7484d7f04e28244b17b.txt  \n",
            " extracting: train/labels/kid_41_jpeg.rf.f0a22fd59e1c78df16bc9a848469c286.txt  \n",
            " extracting: train/labels/kid_42_jpeg.rf.0bd2cf81160a058400607bba94743635.txt  \n",
            " extracting: train/labels/kid_42_jpeg.rf.82c7999ce21c36651a7dd6c2d5de694a.txt  \n",
            " extracting: train/labels/kid_42_jpeg.rf.bf0772cbed0f02563183db10219e4e04.txt  \n",
            " extracting: train/labels/kid_4_jpeg.rf.19eb40a333567b9299d7f658c5f6d5ff.txt  \n",
            " extracting: train/labels/kid_4_jpeg.rf.c3106d1b7db3981004be27cb63252deb.txt  \n",
            " extracting: train/labels/kid_4_jpeg.rf.f3d5a9b5391e1189d5819b1a9a9b31e3.txt  \n",
            " extracting: train/labels/kid_52_jpeg.rf.c78510a063a9d9c9d8b6266972c38dba.txt  \n",
            " extracting: train/labels/kid_52_jpeg.rf.d635ec677dd6aada4f90b1d662d21b46.txt  \n",
            " extracting: train/labels/kid_52_jpeg.rf.f7bbb0288d23c6909bf81680fee2acda.txt  \n",
            " extracting: train/labels/kid_54_jpeg.rf.169c76ab131667fd607f0c1b2ea3bbc9.txt  \n",
            " extracting: train/labels/kid_54_jpeg.rf.978569c0935e883004b7ceb5112c26d7.txt  \n",
            " extracting: train/labels/kid_54_jpeg.rf.dd3432998ef51c62965bbe1fbbd70e73.txt  \n",
            " extracting: train/labels/kid_55_jpeg.rf.2a9a437ef508d2fb39e726d42034e739.txt  \n",
            " extracting: train/labels/kid_55_jpeg.rf.2b8588a3db6d08b24faaf5d71780dc93.txt  \n",
            " extracting: train/labels/kid_55_jpeg.rf.60a3cfcdf2940b7e1f24bbd39f62f28a.txt  \n",
            " extracting: train/labels/kid_56_jpeg.rf.22c107fb8f58b3819ff276f03b3d224f.txt  \n",
            " extracting: train/labels/kid_56_jpeg.rf.78072803cfcd8b7b8eabff9a5d334e1f.txt  \n",
            " extracting: train/labels/kid_56_jpeg.rf.a7591bb5267c24b737e6bfca97316266.txt  \n",
            " extracting: train/labels/kid_5_jpeg.rf.097d543aedd9dbcd3b8ad69d314b97e0.txt  \n",
            " extracting: train/labels/kid_5_jpeg.rf.47269a23f7075b37e28ad513d0ae5e7b.txt  \n",
            " extracting: train/labels/kid_5_jpeg.rf.b59b27f6bda6c740324997b7c04da9e2.txt  \n",
            " extracting: train/labels/kid_63_jpeg.rf.1ecdcca3e032387476a3571290599641.txt  \n",
            " extracting: train/labels/kid_63_jpeg.rf.809361522b3ee9f30262c3bc587eaf51.txt  \n",
            " extracting: train/labels/kid_63_jpeg.rf.dfe20261f934204abf8a06adc9855489.txt  \n",
            " extracting: train/labels/kid_66_jpeg.rf.3d889c4fc63a144955a364e9abbd1203.txt  \n",
            " extracting: train/labels/kid_66_jpeg.rf.9c5911dea09e1c7f42fd54341eaa5bc8.txt  \n",
            " extracting: train/labels/kid_66_jpeg.rf.dfafd8bb2ed5725f78396965b2f4e0cf.txt  \n",
            " extracting: train/labels/kid_6_jpeg.rf.6325679e1afb024085f6b844e3f16b31.txt  \n",
            " extracting: train/labels/kid_6_jpeg.rf.aea15f227730f9a3ffbf8e678c15d29a.txt  \n",
            " extracting: train/labels/kid_6_jpeg.rf.fde4b1e5a57998b331449864a6ce74e3.txt  \n",
            " extracting: train/labels/kid_70_jpeg.rf.d488e3f71d8b0542b7719a6a015af0fd.txt  \n",
            " extracting: train/labels/kid_70_jpeg.rf.fa7f57918105a7a03aecafbc2265b2ee.txt  \n",
            " extracting: train/labels/kid_8_jpeg.rf.31e95196e0349511269103180b1f8f09.txt  \n",
            " extracting: train/labels/kid_8_jpeg.rf.dbd76bcbff3b913f9242e6c268fb1cb4.txt  \n",
            " extracting: train/labels/kid_8_jpeg.rf.f38887c0b02c358f391db149d7e3da60.txt  \n",
            " extracting: train/labels/kid_9_jpeg.rf.020b032c6bbd981736f9b4e577aeb86c.txt  \n",
            " extracting: train/labels/kid_9_jpeg.rf.144a895934c2f2e08a8d1d4f44e12956.txt  \n",
            " extracting: train/labels/kid_9_jpeg.rf.7e9032243c4637df34d93dbd5be7674b.txt  \n",
            " extracting: train/labels/people-from-the-back_10_jpeg.rf.28137223e6fa3966a369573d3512cbfd.txt  \n",
            " extracting: train/labels/people-from-the-back_10_jpeg.rf.3784b8e6f642d81cb73c412f1bdae436.txt  \n",
            " extracting: train/labels/people-from-the-back_10_jpeg.rf.f06e50b42765db891a2e06462e1a4de5.txt  \n",
            " extracting: train/labels/people-from-the-back_11_jpeg.rf.3076a68e84518e6e28f26272ca8b7484.txt  \n",
            " extracting: train/labels/people-from-the-back_11_jpeg.rf.61da1b6f674794124f2969c21e662221.txt  \n",
            " extracting: train/labels/people-from-the-back_11_jpeg.rf.6d73a62d2cb4165b16c232203c4388c7.txt  \n",
            " extracting: train/labels/people-from-the-back_14_png.rf.512b63316104cbea77f0006c457ce952.txt  \n",
            " extracting: train/labels/people-from-the-back_14_png.rf.a6ad8e945d91821574f1d756475c5178.txt  \n",
            " extracting: train/labels/people-from-the-back_14_png.rf.e28912acf6801bb43e3a2f6b5592fe32.txt  \n",
            " extracting: train/labels/people-from-the-back_15_jpeg.rf.3fb9ea51892e015854ede546412e819c.txt  \n",
            " extracting: train/labels/people-from-the-back_15_jpeg.rf.53515d01c6daecfcf25bdb34f78c1499.txt  \n",
            " extracting: train/labels/people-from-the-back_15_jpeg.rf.906fadbb616cd3c493593e633984dcee.txt  \n",
            " extracting: train/labels/people-from-the-back_17_png.rf.4d76b5743e164ed5777003b187da0360.txt  \n",
            " extracting: train/labels/people-from-the-back_17_png.rf.b7e09fc1e1f2cd77103f8526f3e40e57.txt  \n",
            " extracting: train/labels/people-from-the-back_17_png.rf.bf6a6144164d39a0540d597f6b3faecd.txt  \n",
            " extracting: train/labels/people-from-the-back_19_jpeg.rf.1ddb531bccbcf7fc02c22ae4d3f01b18.txt  \n",
            " extracting: train/labels/people-from-the-back_19_jpeg.rf.7b3c6c5a96f0c4b48e68a5d0eef03d48.txt  \n",
            " extracting: train/labels/people-from-the-back_19_jpeg.rf.a7719619d4ebe26a819faf408ad3a80c.txt  \n",
            " extracting: train/labels/people-from-the-back_23_jpeg.rf.4bff38ac9d373a8b597a9473d1d49169.txt  \n",
            " extracting: train/labels/people-from-the-back_23_jpeg.rf.8cef46354351a240ff6ec667ed5858ec.txt  \n",
            " extracting: train/labels/people-from-the-back_23_jpeg.rf.cd1c0f07ee083fd52b9f051410ec36a5.txt  \n",
            " extracting: train/labels/people-from-the-back_25_jpeg.rf.0cfb8309d2c464aeac404bd14e35818d.txt  \n",
            " extracting: train/labels/people-from-the-back_25_jpeg.rf.1241c4a1fa51e205e01d4c53250e36f6.txt  \n",
            " extracting: train/labels/people-from-the-back_25_jpeg.rf.290e6bbfdbab375f484a739035c90860.txt  \n",
            " extracting: train/labels/people-from-the-back_28_jpeg.rf.4119b5c730e8086b96bb87e85fe77dc3.txt  \n",
            " extracting: train/labels/people-from-the-back_28_jpeg.rf.71074664602d5dcb946f8d97db622742.txt  \n",
            " extracting: train/labels/people-from-the-back_28_jpeg.rf.7f61c2d7910b812bf98b65fd0dbff77f.txt  \n",
            " extracting: train/labels/people-from-the-back_32_jpeg.rf.89374d3a56f7cbc0466f5b5354c6bb26.txt  \n",
            " extracting: train/labels/people-from-the-back_32_jpeg.rf.b484c8ea9c4c39fc2ce6bc4b5b2b94e5.txt  \n",
            " extracting: train/labels/people-from-the-back_32_jpeg.rf.ba8489d336a7b6b91b208a51e8cb65fe.txt  \n",
            " extracting: train/labels/people-from-the-back_36_jpeg.rf.211ac4b92230eaf881458b36d6a162d2.txt  \n",
            " extracting: train/labels/people-from-the-back_36_jpeg.rf.558ab65bd77c1f9001768f41f992d052.txt  \n",
            " extracting: train/labels/people-from-the-back_36_jpeg.rf.5c0480685a0ced6c36c5837a7c441520.txt  \n",
            " extracting: train/labels/people-from-the-back_3_jpeg.rf.5615bc43d528c53a33fae7120175cf1c.txt  \n",
            " extracting: train/labels/people-from-the-back_3_jpeg.rf.9a890cafe7bd6d5c71c42be265c9fec8.txt  \n",
            " extracting: train/labels/people-from-the-back_3_jpeg.rf.fbaa1213ad566232164cd2ff27701d3c.txt  \n",
            " extracting: train/labels/people-from-the-back_40_png.rf.36c726d0f2b3c8eee09de08f9352e94b.txt  \n",
            " extracting: train/labels/people-from-the-back_40_png.rf.c2da1c38b3dc3cf5a22fe67e544eec6b.txt  \n",
            " extracting: train/labels/people-from-the-back_40_png.rf.f63bb3a2b6b7a0935bbf88b33e9cfe76.txt  \n",
            " extracting: train/labels/people-from-the-back_46_jpeg.rf.16e37c6cc07c538ac3bae0f5371ea006.txt  \n",
            " extracting: train/labels/people-from-the-back_46_jpeg.rf.3d6d80a92a906749503490a9a08b3bed.txt  \n",
            " extracting: train/labels/people-from-the-back_46_jpeg.rf.cddd828ad85a94e309e563563a13ddff.txt  \n",
            " extracting: train/labels/people-from-the-back_47_jpeg.rf.712428da575684c23bb71a520191ed5c.txt  \n",
            " extracting: train/labels/people-from-the-back_47_jpeg.rf.7fbc7ea4da10f4061e33b023df0f7fc9.txt  \n",
            " extracting: train/labels/people-from-the-back_47_jpeg.rf.806620e378d077268333a8574bb9fd87.txt  \n",
            " extracting: train/labels/people-from-the-back_4_jpeg.rf.2692525d93e058f131e163d75d383c75.txt  \n",
            " extracting: train/labels/people-from-the-back_4_jpeg.rf.d8b68dc77c1d54679f31de53475b50dc.txt  \n",
            " extracting: train/labels/people-from-the-back_4_jpeg.rf.f718da3ac98a413fd330071a0d8436f4.txt  \n",
            " extracting: train/labels/people-from-the-back_59_png.rf.1a3396fed6ed34fc054c9e22f56049cb.txt  \n",
            " extracting: train/labels/people-from-the-back_59_png.rf.1a495198e8e28f06cb1f68474c61fdd0.txt  \n",
            " extracting: train/labels/people-from-the-back_59_png.rf.20b6be63204ec3667b1613069970d9dc.txt  \n",
            " extracting: train/labels/people-from-the-back_5_jpeg.rf.10fae00907c17200a3a9f68825b99324.txt  \n",
            " extracting: train/labels/people-from-the-back_5_jpeg.rf.b2a772979c9798485000820aa5b8e4b7.txt  \n",
            " extracting: train/labels/people-from-the-back_5_jpeg.rf.bca80f6b54dafabe5c5e33e3770ddba3.txt  \n",
            " extracting: train/labels/people-from-the-back_60_jpeg.rf.2affcd52459817d3f816e7065977b53e.txt  \n",
            " extracting: train/labels/people-from-the-back_60_jpeg.rf.55796760ec300a3c58363eb632bffeed.txt  \n",
            " extracting: train/labels/people-from-the-back_60_jpeg.rf.d93e17f0a83ba6586e664fb15f528aea.txt  \n",
            " extracting: train/labels/people-from-the-back_66_jpeg.rf.1d3d44d93d7e194719d75805a6229dee.txt  \n",
            " extracting: train/labels/people-from-the-back_66_jpeg.rf.28f5d6384d0d4ccffbb2debd2d3b2d01.txt  \n",
            " extracting: train/labels/people-from-the-back_66_jpeg.rf.ac467cb857e6d56a4d8d6d02e78622ae.txt  \n",
            " extracting: train/labels/people-from-the-back_67_jpeg.rf.076200025e4bd74861e50bfc74ba3c65.txt  \n",
            " extracting: train/labels/people-from-the-back_67_jpeg.rf.1ec876ebd7e5ee23432616fc890f8723.txt  \n",
            " extracting: train/labels/people-from-the-back_67_jpeg.rf.f79712fc156f868c5295910752a1e7fb.txt  \n",
            " extracting: train/labels/people-from-the-back_69_jpeg.rf.b9efbe7e18cac7204f3239835fb37a47.txt  \n",
            " extracting: train/labels/people-from-the-back_69_jpeg.rf.e221b328656a19ccb01beade1f7a0bdc.txt  \n",
            " extracting: train/labels/people-from-the-back_69_jpeg.rf.eaaa7bd31630c72a28baadb6d3b40c9f.txt  \n",
            " extracting: train/labels/people-from-the-back_71_png.rf.1525c524c4158d01f6778450b5145e26.txt  \n",
            " extracting: train/labels/people-from-the-back_71_png.rf.6b0796469a397ebc2c521f4707dbfc33.txt  \n",
            " extracting: train/labels/people-from-the-back_71_png.rf.f9a36ab82eac2a07a1fcf88dd70f74df.txt  \n",
            " extracting: train/labels/people-from-the-back_7_jpeg.rf.060fb2c2f8292705770f2388e9a3dd57.txt  \n",
            " extracting: train/labels/people-from-the-back_7_jpeg.rf.d147ee694512ae02824d2f5416d33d4f.txt  \n",
            " extracting: train/labels/people-from-the-back_7_jpeg.rf.fcdb86eb628e3427523bb12663566dac.txt  \n",
            " extracting: train/labels/people_11_jpeg.rf.2364877500f01461790489d9022ddecb.txt  \n",
            " extracting: train/labels/people_11_jpeg.rf.3e0d578660d18e828d4ba2e830419704.txt  \n",
            " extracting: train/labels/people_11_jpeg.rf.a907c0dae83361d8f5e26b90e5c6ea3e.txt  \n",
            " extracting: train/labels/people_15_jpeg.rf.5c4fe953f03e20eece5032463f62d5be.txt  \n",
            " extracting: train/labels/people_15_jpeg.rf.7e9aca444aebe4bd3f18645a52d99c84.txt  \n",
            " extracting: train/labels/people_15_jpeg.rf.9a8a57cbdea398a6d5ec226edae36bbd.txt  \n",
            " extracting: train/labels/people_17_jpeg.rf.005a9330755b3023064bc850b00567a6.txt  \n",
            " extracting: train/labels/people_17_jpeg.rf.87ac6326e129f626251afb5adfaceac9.txt  \n",
            " extracting: train/labels/people_17_jpeg.rf.e0b1af6b3e5e937d026072d61616db63.txt  \n",
            " extracting: train/labels/people_21_jpeg.rf.21968bb5996df94b07da61b7c4432d2e.txt  \n",
            " extracting: train/labels/people_21_jpeg.rf.6752ab5ef4a47789aa468638910d3525.txt  \n",
            " extracting: train/labels/people_21_jpeg.rf.80896e1b2ab84856086c2f2c51b66a68.txt  \n",
            " extracting: train/labels/people_25_jpeg.rf.6766bffcfc2c103bb00fe6e35c23f10a.txt  \n",
            " extracting: train/labels/people_25_jpeg.rf.a2116bb115e14723d3d2922dad341c93.txt  \n",
            " extracting: train/labels/people_25_jpeg.rf.f1085f2713274263a08a6aabb276c8dc.txt  \n",
            " extracting: train/labels/people_26_jpeg.rf.0bbb577badf9e8935f1b29d15d5fd7b1.txt  \n",
            " extracting: train/labels/people_26_jpeg.rf.8867a15ab30fa55bf3f51542a57ad907.txt  \n",
            " extracting: train/labels/people_26_jpeg.rf.d45b525c07d7a1c5a21ecb05d51fcb68.txt  \n",
            " extracting: train/labels/people_27_jpeg.rf.7bb3ced42162a0d1ceeefed6f56e5bc4.txt  \n",
            " extracting: train/labels/people_27_jpeg.rf.bf0e39c8c06b4041a9aae99a93f31f95.txt  \n",
            " extracting: train/labels/people_27_jpeg.rf.fff40c5880354ad9a25e03816204f5e7.txt  \n",
            " extracting: train/labels/people_31_jpeg.rf.2d7dfc439c2d6c2c3adb9e3e31a6116a.txt  \n",
            " extracting: train/labels/people_31_jpeg.rf.468d543ef180350e45b772231cc3dd3a.txt  \n",
            " extracting: train/labels/people_31_jpeg.rf.e7b9998bf8727a766805ab9e385585e3.txt  \n",
            " extracting: train/labels/people_33_jpeg.rf.5c478d729b56c7445c27e1cf5a7f747e.txt  \n",
            " extracting: train/labels/people_33_jpeg.rf.a47e8b4c5e3378558b815631b468d529.txt  \n",
            " extracting: train/labels/people_33_jpeg.rf.b62a453b5de88d3783ab7410036ece59.txt  \n",
            " extracting: train/labels/people_34_jpeg.rf.0a59d284e3b402c8df9ed795f79020ca.txt  \n",
            " extracting: train/labels/people_34_jpeg.rf.78c0ca5c8e89258a5d68ddc359c807d4.txt  \n",
            " extracting: train/labels/people_34_jpeg.rf.78e4b9e711dd8702d575ce5b163a72ed.txt  \n",
            " extracting: train/labels/people_35_png.rf.2aa88f10a34be2fc26014d66a21926ec.txt  \n",
            " extracting: train/labels/people_35_png.rf.63daa014cdbe4ce19c86b83e661c52f0.txt  \n",
            " extracting: train/labels/people_35_png.rf.f5bed032fb1071949f52f104765c4285.txt  \n",
            " extracting: train/labels/people_36_jpeg.rf.2512f5850499bb71e8ec9f035a404862.txt  \n",
            " extracting: train/labels/people_36_jpeg.rf.5e6f7d2656cac4eb0a9299b62f4ebd07.txt  \n",
            " extracting: train/labels/people_36_jpeg.rf.841efecb6466416ce69981890cf0e9b7.txt  \n",
            " extracting: train/labels/people_37_png.rf.a1ca88470109f29324c60de020b6e2b3.txt  \n",
            " extracting: train/labels/people_37_png.rf.d4994a5c6254a7bd1ff517c38b9b4e79.txt  \n",
            " extracting: train/labels/people_37_png.rf.dfa8fb8f36fb964dc3f98c8737e3dd96.txt  \n",
            " extracting: train/labels/people_40_jpeg.rf.0a40a2ba4fc87cec7ed39b851579c02d.txt  \n",
            " extracting: train/labels/people_40_jpeg.rf.4d4871d9c62b965ae439cf53f7a4e83f.txt  \n",
            " extracting: train/labels/people_40_jpeg.rf.5f0e80ee07b92c841681334e77d4b526.txt  \n",
            " extracting: train/labels/people_43_jpeg.rf.415b5bf9263b5619460dec258190ba44.txt  \n",
            " extracting: train/labels/people_43_jpeg.rf.9b302aff8e48d84585136a7e68b6b16e.txt  \n",
            " extracting: train/labels/people_43_jpeg.rf.f375ea07ee1b474edbb82cdb56f17c09.txt  \n",
            " extracting: train/labels/people_47_jpeg.rf.050ee5a7b390bc6da9f9ac87d35149c5.txt  \n",
            " extracting: train/labels/people_47_jpeg.rf.728fb71bbeeb82ccea2feaa761339e2b.txt  \n",
            " extracting: train/labels/people_47_jpeg.rf.eb7ae989788b810ac5f2e3605871624f.txt  \n",
            " extracting: train/labels/people_48_jpeg.rf.9a7d0ac9b30122bf650077fdec3c6872.txt  \n",
            " extracting: train/labels/people_48_jpeg.rf.a7990bbf649026ad8201a1619e2b273d.txt  \n",
            " extracting: train/labels/people_48_jpeg.rf.e559d2bed1bb4ea246798bc9e8ef867e.txt  \n",
            " extracting: train/labels/people_4_jpeg.rf.69907fa3a2d22901d2076fa88029a820.txt  \n",
            " extracting: train/labels/people_4_jpeg.rf.80e36da2f22b1547f3d9ba8fd61c359e.txt  \n",
            " extracting: train/labels/people_4_jpeg.rf.d75920341d8d18657435e5fe5c703c75.txt  \n",
            " extracting: train/labels/people_56_jpeg.rf.54f38539f1b7ac8a7b2a211ce255e570.txt  \n",
            " extracting: train/labels/people_56_jpeg.rf.61d821b198d4efd69012ff94989b4e6b.txt  \n",
            " extracting: train/labels/people_56_jpeg.rf.ffe58c69d2e84f58e713531a2db30ba9.txt  \n",
            " extracting: train/labels/people_61_jpeg.rf.3f611932aa3699ddbf0a66ee26f3f544.txt  \n",
            " extracting: train/labels/people_61_jpeg.rf.497c42d9d7faa44059d58d714f4e49df.txt  \n",
            " extracting: train/labels/people_61_jpeg.rf.aa9682914a28ce4a1c4ada1f6c0d3266.txt  \n",
            " extracting: train/labels/people_62_png.rf.acb8cdf78ed72719975183c70b3633d1.txt  \n",
            " extracting: train/labels/people_62_png.rf.b9e83b096aa1530cff4a2bbba2430f35.txt  \n",
            " extracting: train/labels/people_62_png.rf.d6cf15011e8048f06d18f4129c62b951.txt  \n",
            " extracting: train/labels/pool-day_28_jpeg.rf.381769ad2f63cf5875f3938c39dc7068.txt  \n",
            " extracting: train/labels/pool-day_28_jpeg.rf.da8ef9e623c60dca0b20fa69384b476c.txt  \n",
            " extracting: train/labels/pool-day_28_jpeg.rf.f73a9c44fd19e04d1b698c863c294a66.txt  \n",
            " extracting: train/labels/pool-day_48_jpeg.rf.d01e9a2cffbd3eefb5029a30b621459a.txt  \n",
            " extracting: train/labels/pool-day_48_jpeg.rf.d21a3d75523a86f156e974072a2d88c7.txt  \n",
            " extracting: train/labels/pool-day_48_jpeg.rf.f559c2fb3f297ccc596eaff8ca6a5916.txt  \n",
            " extracting: train/labels/pool-day_58_jpeg.rf.4c98a92a734d946accd8e1f0289fac08.txt  \n",
            " extracting: train/labels/pool-day_58_jpeg.rf.a18a1ffa1eb0337fc3491fae04c69e52.txt  \n",
            " extracting: train/labels/pool-day_58_jpeg.rf.d67b5cd72f10167496d0e29a127f5c91.txt  \n",
            " extracting: train/labels/pool-day_61_jpeg.rf.61c4aa327e6d2aef0bf9bd9a67604dfd.txt  \n",
            " extracting: train/labels/pool-day_61_jpeg.rf.8223244d9b18363534b74f1bc18f3075.txt  \n",
            " extracting: train/labels/pool-day_61_jpeg.rf.ac49d0803983b15730fe1670d1e3b4f5.txt  \n",
            " extracting: train/labels/pool-day_69_jpeg.rf.12ff3c2ecf4846804444eb0124e4b318.txt  \n",
            " extracting: train/labels/pool-day_69_jpeg.rf.4a7ed58e7bdacc1549c33c499f6a09dd.txt  \n",
            " extracting: train/labels/pool-day_69_jpeg.rf.8c762f10ba763cdd6abb7c6183df5fa2.txt  \n",
            "   creating: valid/\n",
            "   creating: valid/images/\n",
            " extracting: valid/images/adult_101_jpeg.rf.4bb83c2913375b4777cd14743bcbfb70.jpg  \n",
            " extracting: valid/images/adult_103_png.rf.3b5dfa2a1ccca51c8ed727e45c53c9a7.jpg  \n",
            " extracting: valid/images/adult_11_png.rf.1b3ad87e5d693a8f7be39e8e9498390e.jpg  \n",
            " extracting: valid/images/adult_135_jpeg.rf.a410fd69b1dc44ad1bf019a83f120d59.jpg  \n",
            " extracting: valid/images/adult_16_png.rf.655505a03f4a70bfd3d73d3953f1b016.jpg  \n",
            " extracting: valid/images/adult_19_jpeg.rf.fda1fa9e33bff2e12310fa69b9d678e6.jpg  \n",
            " extracting: valid/images/adult_25_jpeg.rf.18d66e75278f2a1c2e5379fa43d7b746.jpg  \n",
            " extracting: valid/images/adult_3_jpeg.rf.c84cf008cbb4d9d905a221371d0caab0.jpg  \n",
            " extracting: valid/images/adult_46_jpeg.rf.74ec5ec1da068ef6b81e92b6f6faafa2.jpg  \n",
            " extracting: valid/images/adult_53_jpeg.rf.6fb1c27edcf8d936c37b0f101a610152.jpg  \n",
            " extracting: valid/images/adult_54_jpeg.rf.d24829b58ab41bfdc3ec582fbc535b1f.jpg  \n",
            " extracting: valid/images/adult_64_jpeg.rf.1d70774b12be99d7afb5b9e81f7441d0.jpg  \n",
            " extracting: valid/images/adult_83_jpeg.rf.594ef48f8843f5dbe8f7d836a0bcb35d.jpg  \n",
            " extracting: valid/images/adult_93_jpeg.rf.0b9d9fb34de0a9394752cf50be93e9e0.jpg  \n",
            " extracting: valid/images/baby_110_jpeg.rf.e899516208b461ee1dbec37942cc85a7.jpg  \n",
            " extracting: valid/images/baby_115_jpeg.rf.f38c9a1cf50c35165781c30227ac08e8.jpg  \n",
            " extracting: valid/images/baby_116_jpeg.rf.f4a03489cffa6a2ba87312ecd6f3fe7d.jpg  \n",
            " extracting: valid/images/baby_118_jpeg.rf.963218865da20a1bc162b166da459f0e.jpg  \n",
            " extracting: valid/images/baby_12_jpeg.rf.9692a1239a41cc0682b05799dcce8a03.jpg  \n",
            " extracting: valid/images/baby_13_png.rf.a0b71fdaeecf0255961762a81629dca8.jpg  \n",
            " extracting: valid/images/baby_28_jpeg.rf.4d09975aed84fc8fc61a861b916e4c2d.jpg  \n",
            " extracting: valid/images/baby_29_jpeg.rf.0d3f8d9076f7bbe31587adfc71c023c9.jpg  \n",
            " extracting: valid/images/baby_31_jpeg.rf.7c434520a3973bd6a8a7f23305273760.jpg  \n",
            " extracting: valid/images/baby_32_jpeg.rf.2a34c2fe10c4a4e154f78196f15d4834.jpg  \n",
            " extracting: valid/images/baby_36_jpeg.rf.4ce35d4aa9f0a936a76e0e89ad2d1725.jpg  \n",
            " extracting: valid/images/baby_41_jpeg.rf.2eb19097f38a15c22788a386361500a6.jpg  \n",
            " extracting: valid/images/baby_45_jpeg.rf.639f29c191d0bd329cee9b8bb97f42ac.jpg  \n",
            " extracting: valid/images/baby_5_jpeg.rf.00dc088772651e203e586782c6310d1c.jpg  \n",
            " extracting: valid/images/baby_77_jpeg.rf.aeb3c635793f852fadabbbdc9612f295.jpg  \n",
            " extracting: valid/images/child_131_jpeg.rf.1ecf17907e2e7f39bd9a14f5e2f61f2e.jpg  \n",
            " extracting: valid/images/child_15_png.rf.7bcbab17a9d81505f09aa6e8c759ccc5.jpg  \n",
            " extracting: valid/images/child_23_png.rf.37802741f1ed60efc6befeddf43ed08e.jpg  \n",
            " extracting: valid/images/child_30_png.rf.952ce1f291a5a63c441ada32f6983c5e.jpg  \n",
            " extracting: valid/images/child_32_png.rf.6f4142c247748d5cde5d8ea1b4fbb0c1.jpg  \n",
            " extracting: valid/images/child_53_png.rf.5d4f881214dbfa0be0b8e6ee81e1ead8.jpg  \n",
            " extracting: valid/images/child_58_jpeg.rf.80adc04e6059c9f9c6f10908de7dbf74.jpg  \n",
            " extracting: valid/images/child_63_jpeg.rf.22f21a7cf13dfc98b52d9cb7bdd29e9a.jpg  \n",
            " extracting: valid/images/child_7_jpeg.rf.b6141222c80a14387a439c40804989fa.jpg  \n",
            " extracting: valid/images/children_11_png.rf.e9cda73718a704c1f8fabd04ce6f83a6.jpg  \n",
            " extracting: valid/images/children_38_jpeg.rf.bc90fb2d510328447c6aaeac5f0d46bf.jpg  \n",
            " extracting: valid/images/children_41_jpeg.rf.1f09778c0a095b26c111ccbcf71750e3.jpg  \n",
            " extracting: valid/images/children_42_jpeg.rf.7b9e50b0f65ee9f3cd8f8b6cc73a299e.jpg  \n",
            " extracting: valid/images/children_48_jpeg.rf.8f5ec669351489bf22e952e5e627a4a3.jpg  \n",
            " extracting: valid/images/children_55_jpeg.rf.449e9fffeb0057e07163517a93cd040d.jpg  \n",
            " extracting: valid/images/children_56_jpeg.rf.efc0158d14051832a5fb850123cf1827.jpg  \n",
            " extracting: valid/images/children_93_jpeg.rf.62d580a93f13e303517cc38b65d8953f.jpg  \n",
            " extracting: valid/images/family_18_jpeg.rf.a2cab06628b7e1069df30537030d4f07.jpg  \n",
            " extracting: valid/images/family_42_jpeg.rf.efa7ef11502c541245ba01e9696236f4.jpg  \n",
            " extracting: valid/images/family_51_jpeg.rf.3584b9f650b4b90b36435e2dcd14b592.jpg  \n",
            " extracting: valid/images/family_58_jpeg.rf.abb3f3427362af03cc3e96db9023f2a5.jpg  \n",
            " extracting: valid/images/family_59_jpeg.rf.2e77c06400a535928e9c14390bf0867e.jpg  \n",
            " extracting: valid/images/full-body_15_jpeg.rf.e5cdb6b454e8a803e567219a70adee5a.jpg  \n",
            " extracting: valid/images/full-body_25_jpeg.rf.8eeaa41a81d8fdf78884c912f74981be.jpg  \n",
            " extracting: valid/images/full-body_28_jpeg.rf.c3d622a0c243b148f38e0ac667c74946.jpg  \n",
            " extracting: valid/images/kid-from-the-back_31_jpeg.rf.a93b320ec192de916a48f36b9f35c561.jpg  \n",
            " extracting: valid/images/kid-from-the-back_33_jpeg.rf.a2de4c104d0bb4d483344cdc6aef5a1f.jpg  \n",
            " extracting: valid/images/kid-from-the-back_54_png.rf.d53f0ececf04c2930c125abba7c067cc.jpg  \n",
            " extracting: valid/images/kid-from-the-back_55_jpeg.rf.57e576a6d842010d666102c373902f88.jpg  \n",
            " extracting: valid/images/kid-from-the-back_62_jpeg.rf.be389602104418eb160fd1f345a9c9ba.jpg  \n",
            " extracting: valid/images/kid-from-the-back_70_jpeg.rf.e449898a2376c5a09425f8d696d602cf.jpg  \n",
            " extracting: valid/images/kid_15_jpeg.rf.6205b5addddf50b62b2248c44a7e87f6.jpg  \n",
            " extracting: valid/images/kid_22_jpeg.rf.b6e0ad79b840ec47ed8157439fe408ae.jpg  \n",
            " extracting: valid/images/kid_23_jpeg.rf.0c3f093793704f699732954dbafc2e31.jpg  \n",
            " extracting: valid/images/kid_28_jpeg.rf.4dcca597397b0c3d2f0e3ef770bc8ddd.jpg  \n",
            " extracting: valid/images/kid_29_jpeg.rf.9862727ed28fb27a95f2b11cde49bd5e.jpg  \n",
            " extracting: valid/images/kid_33_jpeg.rf.e2abafdc70b48172f6d3e57479d6b20b.jpg  \n",
            " extracting: valid/images/kid_35_jpeg.rf.9cc59ebe2a70fb99d00b51d5321b91a3.jpg  \n",
            " extracting: valid/images/kid_39_jpeg.rf.d509fb8a5f99c1399d13dd21631cbbdf.jpg  \n",
            " extracting: valid/images/kid_49_jpeg.rf.636eb9c55ffb08b393af3a4b58e081ff.jpg  \n",
            " extracting: valid/images/kid_69_jpeg.rf.55331cfb7448bbab094ec211be973e26.jpg  \n",
            " extracting: valid/images/people-from-the-back_20_jpeg.rf.ad1d789ed7d7b1ed5767497960bcc5e9.jpg  \n",
            " extracting: valid/images/people-from-the-back_42_jpeg.rf.b0dbfe7f5a997f0103ed6a599321d784.jpg  \n",
            " extracting: valid/images/people-from-the-back_56_png.rf.98e411557dc13c563823ae854382305c.jpg  \n",
            " extracting: valid/images/people_12_jpeg.rf.f5d54cf5040226f84211b67b0f2d0ac3.jpg  \n",
            " extracting: valid/images/people_18_jpeg.rf.aeb7b2ec892d4877cd35e02ba995737f.jpg  \n",
            " extracting: valid/images/people_19_jpeg.rf.2e8d593278d7f0a8287fa4d83e62a55a.jpg  \n",
            " extracting: valid/images/people_30_jpeg.rf.ee790aedc0200cc577d6ca17f8d64e2e.jpg  \n",
            " extracting: valid/images/people_44_png.rf.ea0f8031703a9bcb7781b17c320a116b.jpg  \n",
            " extracting: valid/images/people_45_jpeg.rf.9607fc1bb37b913552904fbaa47127f6.jpg  \n",
            " extracting: valid/images/people_46_jpeg.rf.51eba10ba424f6de5e06497c2294a3ed.jpg  \n",
            " extracting: valid/images/people_49_png.rf.94dced58f7062b81ca8f47bcb7bc3409.jpg  \n",
            " extracting: valid/images/people_60_png.rf.7e41442d808fab5865ffedf1d5513413.jpg  \n",
            " extracting: valid/images/pool-day_14_jpeg.rf.9209ba3025fe32a039c69b111c686687.jpg  \n",
            " extracting: valid/images/pool-day_22_jpeg.rf.db79ee3be0750e3e58b3de1c9b326245.jpg  \n",
            " extracting: valid/images/pool-day_34_jpeg.rf.2445832026b130c80bf2a8a88e25cfc5.jpg  \n",
            " extracting: valid/images/pool-day_3_jpeg.rf.686e6bc9ad65b14e91080ad520aa367e.jpg  \n",
            " extracting: valid/images/pool-day_62_jpeg.rf.cd11dd2bbaabaf2557ef56d7d7159358.jpg  \n",
            " extracting: valid/images/pool-day_63_jpeg.rf.a927079bd705d2b4b72ea669adf8575b.jpg  \n",
            " extracting: valid/images/pool-day_8_jpeg.rf.e62f005ca9230022e0f9b6f4a4ead8eb.jpg  \n",
            "   creating: valid/labels/\n",
            " extracting: valid/labels/adult_101_jpeg.rf.4bb83c2913375b4777cd14743bcbfb70.txt  \n",
            " extracting: valid/labels/adult_103_png.rf.3b5dfa2a1ccca51c8ed727e45c53c9a7.txt  \n",
            " extracting: valid/labels/adult_11_png.rf.1b3ad87e5d693a8f7be39e8e9498390e.txt  \n",
            " extracting: valid/labels/adult_135_jpeg.rf.a410fd69b1dc44ad1bf019a83f120d59.txt  \n",
            " extracting: valid/labels/adult_16_png.rf.655505a03f4a70bfd3d73d3953f1b016.txt  \n",
            " extracting: valid/labels/adult_19_jpeg.rf.fda1fa9e33bff2e12310fa69b9d678e6.txt  \n",
            " extracting: valid/labels/adult_25_jpeg.rf.18d66e75278f2a1c2e5379fa43d7b746.txt  \n",
            " extracting: valid/labels/adult_3_jpeg.rf.c84cf008cbb4d9d905a221371d0caab0.txt  \n",
            " extracting: valid/labels/adult_46_jpeg.rf.74ec5ec1da068ef6b81e92b6f6faafa2.txt  \n",
            " extracting: valid/labels/adult_53_jpeg.rf.6fb1c27edcf8d936c37b0f101a610152.txt  \n",
            " extracting: valid/labels/adult_54_jpeg.rf.d24829b58ab41bfdc3ec582fbc535b1f.txt  \n",
            " extracting: valid/labels/adult_64_jpeg.rf.1d70774b12be99d7afb5b9e81f7441d0.txt  \n",
            " extracting: valid/labels/adult_83_jpeg.rf.594ef48f8843f5dbe8f7d836a0bcb35d.txt  \n",
            " extracting: valid/labels/adult_93_jpeg.rf.0b9d9fb34de0a9394752cf50be93e9e0.txt  \n",
            " extracting: valid/labels/baby_110_jpeg.rf.e899516208b461ee1dbec37942cc85a7.txt  \n",
            " extracting: valid/labels/baby_115_jpeg.rf.f38c9a1cf50c35165781c30227ac08e8.txt  \n",
            " extracting: valid/labels/baby_116_jpeg.rf.f4a03489cffa6a2ba87312ecd6f3fe7d.txt  \n",
            " extracting: valid/labels/baby_118_jpeg.rf.963218865da20a1bc162b166da459f0e.txt  \n",
            " extracting: valid/labels/baby_12_jpeg.rf.9692a1239a41cc0682b05799dcce8a03.txt  \n",
            " extracting: valid/labels/baby_13_png.rf.a0b71fdaeecf0255961762a81629dca8.txt  \n",
            " extracting: valid/labels/baby_28_jpeg.rf.4d09975aed84fc8fc61a861b916e4c2d.txt  \n",
            " extracting: valid/labels/baby_29_jpeg.rf.0d3f8d9076f7bbe31587adfc71c023c9.txt  \n",
            " extracting: valid/labels/baby_31_jpeg.rf.7c434520a3973bd6a8a7f23305273760.txt  \n",
            " extracting: valid/labels/baby_32_jpeg.rf.2a34c2fe10c4a4e154f78196f15d4834.txt  \n",
            " extracting: valid/labels/baby_36_jpeg.rf.4ce35d4aa9f0a936a76e0e89ad2d1725.txt  \n",
            " extracting: valid/labels/baby_41_jpeg.rf.2eb19097f38a15c22788a386361500a6.txt  \n",
            " extracting: valid/labels/baby_45_jpeg.rf.639f29c191d0bd329cee9b8bb97f42ac.txt  \n",
            " extracting: valid/labels/baby_5_jpeg.rf.00dc088772651e203e586782c6310d1c.txt  \n",
            " extracting: valid/labels/baby_77_jpeg.rf.aeb3c635793f852fadabbbdc9612f295.txt  \n",
            " extracting: valid/labels/child_131_jpeg.rf.1ecf17907e2e7f39bd9a14f5e2f61f2e.txt  \n",
            " extracting: valid/labels/child_15_png.rf.7bcbab17a9d81505f09aa6e8c759ccc5.txt  \n",
            " extracting: valid/labels/child_23_png.rf.37802741f1ed60efc6befeddf43ed08e.txt  \n",
            " extracting: valid/labels/child_30_png.rf.952ce1f291a5a63c441ada32f6983c5e.txt  \n",
            " extracting: valid/labels/child_32_png.rf.6f4142c247748d5cde5d8ea1b4fbb0c1.txt  \n",
            " extracting: valid/labels/child_53_png.rf.5d4f881214dbfa0be0b8e6ee81e1ead8.txt  \n",
            " extracting: valid/labels/child_58_jpeg.rf.80adc04e6059c9f9c6f10908de7dbf74.txt  \n",
            " extracting: valid/labels/child_63_jpeg.rf.22f21a7cf13dfc98b52d9cb7bdd29e9a.txt  \n",
            " extracting: valid/labels/child_7_jpeg.rf.b6141222c80a14387a439c40804989fa.txt  \n",
            " extracting: valid/labels/children_11_png.rf.e9cda73718a704c1f8fabd04ce6f83a6.txt  \n",
            " extracting: valid/labels/children_38_jpeg.rf.bc90fb2d510328447c6aaeac5f0d46bf.txt  \n",
            " extracting: valid/labels/children_41_jpeg.rf.1f09778c0a095b26c111ccbcf71750e3.txt  \n",
            " extracting: valid/labels/children_42_jpeg.rf.7b9e50b0f65ee9f3cd8f8b6cc73a299e.txt  \n",
            " extracting: valid/labels/children_48_jpeg.rf.8f5ec669351489bf22e952e5e627a4a3.txt  \n",
            " extracting: valid/labels/children_55_jpeg.rf.449e9fffeb0057e07163517a93cd040d.txt  \n",
            " extracting: valid/labels/children_56_jpeg.rf.efc0158d14051832a5fb850123cf1827.txt  \n",
            " extracting: valid/labels/children_93_jpeg.rf.62d580a93f13e303517cc38b65d8953f.txt  \n",
            " extracting: valid/labels/family_18_jpeg.rf.a2cab06628b7e1069df30537030d4f07.txt  \n",
            " extracting: valid/labels/family_42_jpeg.rf.efa7ef11502c541245ba01e9696236f4.txt  \n",
            " extracting: valid/labels/family_51_jpeg.rf.3584b9f650b4b90b36435e2dcd14b592.txt  \n",
            " extracting: valid/labels/family_58_jpeg.rf.abb3f3427362af03cc3e96db9023f2a5.txt  \n",
            " extracting: valid/labels/family_59_jpeg.rf.2e77c06400a535928e9c14390bf0867e.txt  \n",
            " extracting: valid/labels/full-body_15_jpeg.rf.e5cdb6b454e8a803e567219a70adee5a.txt  \n",
            " extracting: valid/labels/full-body_25_jpeg.rf.8eeaa41a81d8fdf78884c912f74981be.txt  \n",
            " extracting: valid/labels/full-body_28_jpeg.rf.c3d622a0c243b148f38e0ac667c74946.txt  \n",
            " extracting: valid/labels/kid-from-the-back_31_jpeg.rf.a93b320ec192de916a48f36b9f35c561.txt  \n",
            " extracting: valid/labels/kid-from-the-back_33_jpeg.rf.a2de4c104d0bb4d483344cdc6aef5a1f.txt  \n",
            " extracting: valid/labels/kid-from-the-back_54_png.rf.d53f0ececf04c2930c125abba7c067cc.txt  \n",
            " extracting: valid/labels/kid-from-the-back_55_jpeg.rf.57e576a6d842010d666102c373902f88.txt  \n",
            " extracting: valid/labels/kid-from-the-back_62_jpeg.rf.be389602104418eb160fd1f345a9c9ba.txt  \n",
            " extracting: valid/labels/kid-from-the-back_70_jpeg.rf.e449898a2376c5a09425f8d696d602cf.txt  \n",
            " extracting: valid/labels/kid_15_jpeg.rf.6205b5addddf50b62b2248c44a7e87f6.txt  \n",
            " extracting: valid/labels/kid_22_jpeg.rf.b6e0ad79b840ec47ed8157439fe408ae.txt  \n",
            " extracting: valid/labels/kid_23_jpeg.rf.0c3f093793704f699732954dbafc2e31.txt  \n",
            " extracting: valid/labels/kid_28_jpeg.rf.4dcca597397b0c3d2f0e3ef770bc8ddd.txt  \n",
            " extracting: valid/labels/kid_29_jpeg.rf.9862727ed28fb27a95f2b11cde49bd5e.txt  \n",
            " extracting: valid/labels/kid_33_jpeg.rf.e2abafdc70b48172f6d3e57479d6b20b.txt  \n",
            " extracting: valid/labels/kid_35_jpeg.rf.9cc59ebe2a70fb99d00b51d5321b91a3.txt  \n",
            " extracting: valid/labels/kid_39_jpeg.rf.d509fb8a5f99c1399d13dd21631cbbdf.txt  \n",
            " extracting: valid/labels/kid_49_jpeg.rf.636eb9c55ffb08b393af3a4b58e081ff.txt  \n",
            " extracting: valid/labels/kid_69_jpeg.rf.55331cfb7448bbab094ec211be973e26.txt  \n",
            " extracting: valid/labels/people-from-the-back_20_jpeg.rf.ad1d789ed7d7b1ed5767497960bcc5e9.txt  \n",
            " extracting: valid/labels/people-from-the-back_42_jpeg.rf.b0dbfe7f5a997f0103ed6a599321d784.txt  \n",
            " extracting: valid/labels/people-from-the-back_56_png.rf.98e411557dc13c563823ae854382305c.txt  \n",
            " extracting: valid/labels/people_12_jpeg.rf.f5d54cf5040226f84211b67b0f2d0ac3.txt  \n",
            " extracting: valid/labels/people_18_jpeg.rf.aeb7b2ec892d4877cd35e02ba995737f.txt  \n",
            " extracting: valid/labels/people_19_jpeg.rf.2e8d593278d7f0a8287fa4d83e62a55a.txt  \n",
            " extracting: valid/labels/people_30_jpeg.rf.ee790aedc0200cc577d6ca17f8d64e2e.txt  \n",
            " extracting: valid/labels/people_44_png.rf.ea0f8031703a9bcb7781b17c320a116b.txt  \n",
            " extracting: valid/labels/people_45_jpeg.rf.9607fc1bb37b913552904fbaa47127f6.txt  \n",
            " extracting: valid/labels/people_46_jpeg.rf.51eba10ba424f6de5e06497c2294a3ed.txt  \n",
            " extracting: valid/labels/people_49_png.rf.94dced58f7062b81ca8f47bcb7bc3409.txt  \n",
            " extracting: valid/labels/people_60_png.rf.7e41442d808fab5865ffedf1d5513413.txt  \n",
            " extracting: valid/labels/pool-day_14_jpeg.rf.9209ba3025fe32a039c69b111c686687.txt  \n",
            " extracting: valid/labels/pool-day_22_jpeg.rf.db79ee3be0750e3e58b3de1c9b326245.txt  \n",
            " extracting: valid/labels/pool-day_34_jpeg.rf.2445832026b130c80bf2a8a88e25cfc5.txt  \n",
            " extracting: valid/labels/pool-day_3_jpeg.rf.686e6bc9ad65b14e91080ad520aa367e.txt  \n",
            " extracting: valid/labels/pool-day_62_jpeg.rf.cd11dd2bbaabaf2557ef56d7d7159358.txt  \n",
            " extracting: valid/labels/pool-day_63_jpeg.rf.a927079bd705d2b4b72ea669adf8575b.txt  \n",
            " extracting: valid/labels/pool-day_8_jpeg.rf.e62f005ca9230022e0f9b6f4a4ead8eb.txt  \n"
          ]
        }
      ],
      "source": [
        "!curl -L \"https://universe.roboflow.com/ds/YDiMXhk2pS?key=SyLqww3GRO\" > roboflow.zip\n",
        "!unzip roboflow.zip\n",
        "!rm roboflow.zip"
      ]
    },
    {
      "cell_type": "code",
      "execution_count": null,
      "metadata": {
        "colab": {
          "base_uri": "https://localhost:8080/"
        },
        "id": "r7k0-fsJWMGc",
        "outputId": "4b30fa36-8cda-4ecd-f654-ca9801900881"
      },
      "outputs": [
        {
          "name": "stdout",
          "output_type": "stream",
          "text": [
            "Collecting ultralytics\n",
            "  Downloading ultralytics-8.2.86-py3-none-any.whl.metadata (41 kB)\n",
            "\u001b[?25l     \u001b[90m━━━━━━━━━━━━━━━━━━━━━━━━━━━━━━━━━━━━━━━━\u001b[0m \u001b[32m0.0/41.8 kB\u001b[0m \u001b[31m?\u001b[0m eta \u001b[36m-:--:--\u001b[0m\r\u001b[2K     \u001b[90m━━━━━━━━━━━━━━━━━━━━━━━━━━━━━━━━━━━━━━━━\u001b[0m \u001b[32m41.8/41.8 kB\u001b[0m \u001b[31m2.7 MB/s\u001b[0m eta \u001b[36m0:00:00\u001b[0m\n",
            "\u001b[?25hRequirement already satisfied: numpy<2.0.0,>=1.23.0 in /usr/local/lib/python3.10/dist-packages (from ultralytics) (1.26.4)\n",
            "Requirement already satisfied: matplotlib>=3.3.0 in /usr/local/lib/python3.10/dist-packages (from ultralytics) (3.7.1)\n",
            "Requirement already satisfied: opencv-python>=4.6.0 in /usr/local/lib/python3.10/dist-packages (from ultralytics) (4.10.0.84)\n",
            "Requirement already satisfied: pillow>=7.1.2 in /usr/local/lib/python3.10/dist-packages (from ultralytics) (9.4.0)\n",
            "Requirement already satisfied: pyyaml>=5.3.1 in /usr/local/lib/python3.10/dist-packages (from ultralytics) (6.0.2)\n",
            "Requirement already satisfied: requests>=2.23.0 in /usr/local/lib/python3.10/dist-packages (from ultralytics) (2.32.3)\n",
            "Requirement already satisfied: scipy>=1.4.1 in /usr/local/lib/python3.10/dist-packages (from ultralytics) (1.13.1)\n",
            "Requirement already satisfied: torch>=1.8.0 in /usr/local/lib/python3.10/dist-packages (from ultralytics) (2.4.0+cu121)\n",
            "Requirement already satisfied: torchvision>=0.9.0 in /usr/local/lib/python3.10/dist-packages (from ultralytics) (0.19.0+cu121)\n",
            "Requirement already satisfied: tqdm>=4.64.0 in /usr/local/lib/python3.10/dist-packages (from ultralytics) (4.66.5)\n",
            "Requirement already satisfied: psutil in /usr/local/lib/python3.10/dist-packages (from ultralytics) (5.9.5)\n",
            "Requirement already satisfied: py-cpuinfo in /usr/local/lib/python3.10/dist-packages (from ultralytics) (9.0.0)\n",
            "Requirement already satisfied: pandas>=1.1.4 in /usr/local/lib/python3.10/dist-packages (from ultralytics) (2.1.4)\n",
            "Requirement already satisfied: seaborn>=0.11.0 in /usr/local/lib/python3.10/dist-packages (from ultralytics) (0.13.1)\n",
            "Collecting ultralytics-thop>=2.0.0 (from ultralytics)\n",
            "  Downloading ultralytics_thop-2.0.6-py3-none-any.whl.metadata (9.1 kB)\n",
            "Requirement already satisfied: contourpy>=1.0.1 in /usr/local/lib/python3.10/dist-packages (from matplotlib>=3.3.0->ultralytics) (1.2.1)\n",
            "Requirement already satisfied: cycler>=0.10 in /usr/local/lib/python3.10/dist-packages (from matplotlib>=3.3.0->ultralytics) (0.12.1)\n",
            "Requirement already satisfied: fonttools>=4.22.0 in /usr/local/lib/python3.10/dist-packages (from matplotlib>=3.3.0->ultralytics) (4.53.1)\n",
            "Requirement already satisfied: kiwisolver>=1.0.1 in /usr/local/lib/python3.10/dist-packages (from matplotlib>=3.3.0->ultralytics) (1.4.5)\n",
            "Requirement already satisfied: packaging>=20.0 in /usr/local/lib/python3.10/dist-packages (from matplotlib>=3.3.0->ultralytics) (24.1)\n",
            "Requirement already satisfied: pyparsing>=2.3.1 in /usr/local/lib/python3.10/dist-packages (from matplotlib>=3.3.0->ultralytics) (3.1.4)\n",
            "Requirement already satisfied: python-dateutil>=2.7 in /usr/local/lib/python3.10/dist-packages (from matplotlib>=3.3.0->ultralytics) (2.8.2)\n",
            "Requirement already satisfied: pytz>=2020.1 in /usr/local/lib/python3.10/dist-packages (from pandas>=1.1.4->ultralytics) (2024.1)\n",
            "Requirement already satisfied: tzdata>=2022.1 in /usr/local/lib/python3.10/dist-packages (from pandas>=1.1.4->ultralytics) (2024.1)\n",
            "Requirement already satisfied: charset-normalizer<4,>=2 in /usr/local/lib/python3.10/dist-packages (from requests>=2.23.0->ultralytics) (3.3.2)\n",
            "Requirement already satisfied: idna<4,>=2.5 in /usr/local/lib/python3.10/dist-packages (from requests>=2.23.0->ultralytics) (3.8)\n",
            "Requirement already satisfied: urllib3<3,>=1.21.1 in /usr/local/lib/python3.10/dist-packages (from requests>=2.23.0->ultralytics) (2.0.7)\n",
            "Requirement already satisfied: certifi>=2017.4.17 in /usr/local/lib/python3.10/dist-packages (from requests>=2.23.0->ultralytics) (2024.7.4)\n",
            "Requirement already satisfied: filelock in /usr/local/lib/python3.10/dist-packages (from torch>=1.8.0->ultralytics) (3.15.4)\n",
            "Requirement already satisfied: typing-extensions>=4.8.0 in /usr/local/lib/python3.10/dist-packages (from torch>=1.8.0->ultralytics) (4.12.2)\n",
            "Requirement already satisfied: sympy in /usr/local/lib/python3.10/dist-packages (from torch>=1.8.0->ultralytics) (1.13.2)\n",
            "Requirement already satisfied: networkx in /usr/local/lib/python3.10/dist-packages (from torch>=1.8.0->ultralytics) (3.3)\n",
            "Requirement already satisfied: jinja2 in /usr/local/lib/python3.10/dist-packages (from torch>=1.8.0->ultralytics) (3.1.4)\n",
            "Requirement already satisfied: fsspec in /usr/local/lib/python3.10/dist-packages (from torch>=1.8.0->ultralytics) (2024.6.1)\n",
            "Requirement already satisfied: six>=1.5 in /usr/local/lib/python3.10/dist-packages (from python-dateutil>=2.7->matplotlib>=3.3.0->ultralytics) (1.16.0)\n",
            "Requirement already satisfied: MarkupSafe>=2.0 in /usr/local/lib/python3.10/dist-packages (from jinja2->torch>=1.8.0->ultralytics) (2.1.5)\n",
            "Requirement already satisfied: mpmath<1.4,>=1.1.0 in /usr/local/lib/python3.10/dist-packages (from sympy->torch>=1.8.0->ultralytics) (1.3.0)\n",
            "Downloading ultralytics-8.2.86-py3-none-any.whl (872 kB)\n",
            "\u001b[2K   \u001b[90m━━━━━━━━━━━━━━━━━━━━━━━━━━━━━━━━━━━━━━━━\u001b[0m \u001b[32m872.0/872.0 kB\u001b[0m \u001b[31m43.8 MB/s\u001b[0m eta \u001b[36m0:00:00\u001b[0m\n",
            "\u001b[?25hDownloading ultralytics_thop-2.0.6-py3-none-any.whl (26 kB)\n",
            "Installing collected packages: ultralytics-thop, ultralytics\n",
            "Successfully installed ultralytics-8.2.86 ultralytics-thop-2.0.6\n"
          ]
        }
      ],
      "source": [
        "!pip install ultralytics"
      ]
    },
    {
      "cell_type": "code",
      "execution_count": null,
      "metadata": {
        "colab": {
          "base_uri": "https://localhost:8080/"
        },
        "id": "H-HlpG5WViSy",
        "outputId": "97d27ed7-2300-4c0f-d08a-897750dabe3b"
      },
      "outputs": [
        {
          "name": "stdout",
          "output_type": "stream",
          "text": [
            "Ultralytics YOLOv8.2.86 🚀 Python-3.10.12 torch-2.4.0+cu121 CUDA:0 (Tesla T4, 15102MiB)\n",
            "\u001b[34m\u001b[1mengine/trainer: \u001b[0mtask=detect, mode=train, model=/content/runs/detect/yolov8n_50/weights/best.pt, data=data.yaml, epochs=50, time=None, patience=100, batch=16, imgsz=640, save=True, save_period=-1, cache=False, device=None, workers=8, project=None, name=yolov8n_502, exist_ok=False, pretrained=True, optimizer=auto, verbose=True, seed=0, deterministic=True, single_cls=False, rect=False, cos_lr=False, close_mosaic=10, resume=False, amp=True, fraction=1.0, profile=False, freeze=None, multi_scale=False, overlap_mask=True, mask_ratio=4, dropout=0.0, val=True, split=val, save_json=False, save_hybrid=False, conf=None, iou=0.7, max_det=300, half=False, dnn=False, plots=True, source=None, vid_stride=1, stream_buffer=False, visualize=False, augment=False, agnostic_nms=False, classes=None, retina_masks=False, embed=None, show=False, save_frames=False, save_txt=False, save_conf=False, save_crop=False, show_labels=True, show_conf=True, show_boxes=True, line_width=None, format=torchscript, keras=False, optimize=False, int8=False, dynamic=False, simplify=False, opset=None, workspace=4, nms=False, lr0=0.01, lrf=0.01, momentum=0.937, weight_decay=0.0005, warmup_epochs=3.0, warmup_momentum=0.8, warmup_bias_lr=0.1, box=7.5, cls=0.5, dfl=1.5, pose=12.0, kobj=1.0, label_smoothing=0.0, nbs=64, hsv_h=0.015, hsv_s=0.7, hsv_v=0.4, degrees=0.0, translate=0.1, scale=0.5, shear=0.0, perspective=0.0, flipud=0.0, fliplr=0.5, bgr=0.0, mosaic=1.0, mixup=0.0, copy_paste=0.0, auto_augment=randaugment, erasing=0.4, crop_fraction=1.0, cfg=None, tracker=botsort.yaml, save_dir=runs/detect/yolov8n_502\n",
            "\n",
            "                   from  n    params  module                                       arguments                     \n",
            "  0                  -1  1       464  ultralytics.nn.modules.conv.Conv             [3, 16, 3, 2]                 \n",
            "  1                  -1  1      4672  ultralytics.nn.modules.conv.Conv             [16, 32, 3, 2]                \n",
            "  2                  -1  1      7360  ultralytics.nn.modules.block.C2f             [32, 32, 1, True]             \n",
            "  3                  -1  1     18560  ultralytics.nn.modules.conv.Conv             [32, 64, 3, 2]                \n",
            "  4                  -1  2     49664  ultralytics.nn.modules.block.C2f             [64, 64, 2, True]             \n",
            "  5                  -1  1     73984  ultralytics.nn.modules.conv.Conv             [64, 128, 3, 2]               \n",
            "  6                  -1  2    197632  ultralytics.nn.modules.block.C2f             [128, 128, 2, True]           \n",
            "  7                  -1  1    295424  ultralytics.nn.modules.conv.Conv             [128, 256, 3, 2]              \n",
            "  8                  -1  1    460288  ultralytics.nn.modules.block.C2f             [256, 256, 1, True]           \n",
            "  9                  -1  1    164608  ultralytics.nn.modules.block.SPPF            [256, 256, 5]                 \n",
            " 10                  -1  1         0  torch.nn.modules.upsampling.Upsample         [None, 2, 'nearest']          \n",
            " 11             [-1, 6]  1         0  ultralytics.nn.modules.conv.Concat           [1]                           \n",
            " 12                  -1  1    148224  ultralytics.nn.modules.block.C2f             [384, 128, 1]                 \n",
            " 13                  -1  1         0  torch.nn.modules.upsampling.Upsample         [None, 2, 'nearest']          \n",
            " 14             [-1, 4]  1         0  ultralytics.nn.modules.conv.Concat           [1]                           \n",
            " 15                  -1  1     37248  ultralytics.nn.modules.block.C2f             [192, 64, 1]                  \n",
            " 16                  -1  1     36992  ultralytics.nn.modules.conv.Conv             [64, 64, 3, 2]                \n",
            " 17            [-1, 12]  1         0  ultralytics.nn.modules.conv.Concat           [1]                           \n",
            " 18                  -1  1    123648  ultralytics.nn.modules.block.C2f             [192, 128, 1]                 \n",
            " 19                  -1  1    147712  ultralytics.nn.modules.conv.Conv             [128, 128, 3, 2]              \n",
            " 20             [-1, 9]  1         0  ultralytics.nn.modules.conv.Concat           [1]                           \n",
            " 21                  -1  1    493056  ultralytics.nn.modules.block.C2f             [384, 256, 1]                 \n",
            " 22        [15, 18, 21]  1    751702  ultralytics.nn.modules.head.Detect           [2, [64, 128, 256]]           \n",
            "Model summary: 225 layers, 3,011,238 parameters, 3,011,222 gradients, 8.2 GFLOPs\n",
            "\n",
            "Transferred 355/355 items from pretrained weights\n",
            "\u001b[34m\u001b[1mTensorBoard: \u001b[0mStart with 'tensorboard --logdir runs/detect/yolov8n_502', view at http://localhost:6006/\n",
            "Freezing layer 'model.22.dfl.conv.weight'\n",
            "\u001b[34m\u001b[1mAMP: \u001b[0mrunning Automatic Mixed Precision (AMP) checks with YOLOv8n...\n",
            "\u001b[34m\u001b[1mAMP: \u001b[0mchecks passed ✅\n"
          ]
        },
        {
          "name": "stderr",
          "output_type": "stream",
          "text": [
            "\u001b[34m\u001b[1mtrain: \u001b[0mScanning /content/train/labels.cache... 936 images, 0 backgrounds, 0 corrupt: 100%|██████████| 936/936 [00:00<?, ?it/s]"
          ]
        },
        {
          "name": "stdout",
          "output_type": "stream",
          "text": [
            "\u001b[34m\u001b[1malbumentations: \u001b[0mBlur(p=0.01, blur_limit=(3, 7)), MedianBlur(p=0.01, blur_limit=(3, 7)), ToGray(p=0.01), CLAHE(p=0.01, clip_limit=(1, 4.0), tile_grid_size=(8, 8))\n"
          ]
        },
        {
          "name": "stderr",
          "output_type": "stream",
          "text": [
            "\n",
            "/usr/lib/python3.10/multiprocessing/popen_fork.py:66: RuntimeWarning: os.fork() was called. os.fork() is incompatible with multithreaded code, and JAX is multithreaded, so this will likely lead to a deadlock.\n",
            "  self.pid = os.fork()\n",
            "\u001b[34m\u001b[1mval: \u001b[0mScanning /content/valid/labels.cache... 89 images, 0 backgrounds, 0 corrupt: 100%|██████████| 89/89 [00:00<?, ?it/s]\n"
          ]
        },
        {
          "name": "stdout",
          "output_type": "stream",
          "text": [
            "Plotting labels to runs/detect/yolov8n_502/labels.jpg... \n",
            "\u001b[34m\u001b[1moptimizer:\u001b[0m 'optimizer=auto' found, ignoring 'lr0=0.01' and 'momentum=0.937' and determining best 'optimizer', 'lr0' and 'momentum' automatically... \n",
            "\u001b[34m\u001b[1moptimizer:\u001b[0m AdamW(lr=0.001667, momentum=0.9) with parameter groups 57 weight(decay=0.0), 64 weight(decay=0.0005), 63 bias(decay=0.0)\n",
            "\u001b[34m\u001b[1mTensorBoard: \u001b[0mmodel graph visualization added ✅\n",
            "Image sizes 640 train, 640 val\n",
            "Using 2 dataloader workers\n",
            "Logging results to \u001b[1mruns/detect/yolov8n_502\u001b[0m\n",
            "Starting training for 50 epochs...\n",
            "\n",
            "      Epoch    GPU_mem   box_loss   cls_loss   dfl_loss  Instances       Size\n"
          ]
        },
        {
          "name": "stderr",
          "output_type": "stream",
          "text": [
            "       1/50       2.4G      1.192       1.72       1.48         56        640: 100%|██████████| 59/59 [00:22<00:00,  2.57it/s]\n",
            "                 Class     Images  Instances      Box(P          R      mAP50  mAP50-95): 100%|██████████| 3/3 [00:01<00:00,  2.61it/s]"
          ]
        },
        {
          "name": "stdout",
          "output_type": "stream",
          "text": [
            "                   all         89        206      0.617      0.661      0.657      0.394\n"
          ]
        },
        {
          "name": "stderr",
          "output_type": "stream",
          "text": [
            "\n"
          ]
        },
        {
          "name": "stdout",
          "output_type": "stream",
          "text": [
            "\n",
            "      Epoch    GPU_mem   box_loss   cls_loss   dfl_loss  Instances       Size\n"
          ]
        },
        {
          "name": "stderr",
          "output_type": "stream",
          "text": [
            "       2/50      2.21G        1.2      1.666      1.485         32        640: 100%|██████████| 59/59 [00:18<00:00,  3.13it/s]\n",
            "                 Class     Images  Instances      Box(P          R      mAP50  mAP50-95): 100%|██████████| 3/3 [00:01<00:00,  3.00it/s]\n"
          ]
        },
        {
          "name": "stdout",
          "output_type": "stream",
          "text": [
            "                   all         89        206      0.444      0.608      0.457      0.262\n",
            "\n",
            "      Epoch    GPU_mem   box_loss   cls_loss   dfl_loss  Instances       Size\n"
          ]
        },
        {
          "name": "stderr",
          "output_type": "stream",
          "text": [
            "       3/50      2.21G      1.247       1.69      1.514         84        640: 100%|██████████| 59/59 [00:19<00:00,  3.05it/s]\n",
            "                 Class     Images  Instances      Box(P          R      mAP50  mAP50-95): 100%|██████████| 3/3 [00:01<00:00,  2.90it/s]\n"
          ]
        },
        {
          "name": "stdout",
          "output_type": "stream",
          "text": [
            "                   all         89        206      0.494      0.581      0.527      0.261\n",
            "\n",
            "      Epoch    GPU_mem   box_loss   cls_loss   dfl_loss  Instances       Size\n"
          ]
        },
        {
          "name": "stderr",
          "output_type": "stream",
          "text": [
            "       4/50       2.2G      1.308      1.735      1.555         42        640: 100%|██████████| 59/59 [00:19<00:00,  3.05it/s]\n",
            "                 Class     Images  Instances      Box(P          R      mAP50  mAP50-95): 100%|██████████| 3/3 [00:00<00:00,  3.41it/s]\n"
          ]
        },
        {
          "name": "stdout",
          "output_type": "stream",
          "text": [
            "                   all         89        206      0.394       0.44      0.371      0.182\n",
            "\n",
            "      Epoch    GPU_mem   box_loss   cls_loss   dfl_loss  Instances       Size\n"
          ]
        },
        {
          "name": "stderr",
          "output_type": "stream",
          "text": [
            "       5/50       2.2G      1.281      1.717      1.538         43        640: 100%|██████████| 59/59 [00:18<00:00,  3.22it/s]\n",
            "                 Class     Images  Instances      Box(P          R      mAP50  mAP50-95): 100%|██████████| 3/3 [00:01<00:00,  1.91it/s]"
          ]
        },
        {
          "name": "stdout",
          "output_type": "stream",
          "text": [
            "                   all         89        206       0.42      0.509      0.421      0.222\n"
          ]
        },
        {
          "name": "stderr",
          "output_type": "stream",
          "text": [
            "\n"
          ]
        },
        {
          "name": "stdout",
          "output_type": "stream",
          "text": [
            "\n",
            "      Epoch    GPU_mem   box_loss   cls_loss   dfl_loss  Instances       Size\n"
          ]
        },
        {
          "name": "stderr",
          "output_type": "stream",
          "text": [
            "       6/50       2.2G      1.256      1.686      1.514         46        640: 100%|██████████| 59/59 [00:18<00:00,  3.23it/s]\n",
            "                 Class     Images  Instances      Box(P          R      mAP50  mAP50-95): 100%|██████████| 3/3 [00:01<00:00,  1.89it/s]"
          ]
        },
        {
          "name": "stdout",
          "output_type": "stream",
          "text": [
            "                   all         89        206       0.44      0.582      0.487      0.268\n"
          ]
        },
        {
          "name": "stderr",
          "output_type": "stream",
          "text": [
            "\n"
          ]
        },
        {
          "name": "stdout",
          "output_type": "stream",
          "text": [
            "\n",
            "      Epoch    GPU_mem   box_loss   cls_loss   dfl_loss  Instances       Size\n"
          ]
        },
        {
          "name": "stderr",
          "output_type": "stream",
          "text": [
            "       7/50       2.2G       1.25      1.681      1.525         67        640: 100%|██████████| 59/59 [00:17<00:00,  3.29it/s]\n",
            "                 Class     Images  Instances      Box(P          R      mAP50  mAP50-95): 100%|██████████| 3/3 [00:01<00:00,  1.61it/s]"
          ]
        },
        {
          "name": "stdout",
          "output_type": "stream",
          "text": [
            "                   all         89        206      0.428      0.608       0.51      0.282\n"
          ]
        },
        {
          "name": "stderr",
          "output_type": "stream",
          "text": [
            "\n"
          ]
        },
        {
          "name": "stdout",
          "output_type": "stream",
          "text": [
            "\n",
            "      Epoch    GPU_mem   box_loss   cls_loss   dfl_loss  Instances       Size\n"
          ]
        },
        {
          "name": "stderr",
          "output_type": "stream",
          "text": [
            "       8/50       2.2G      1.218      1.672      1.503         29        640: 100%|██████████| 59/59 [00:18<00:00,  3.27it/s]\n",
            "                 Class     Images  Instances      Box(P          R      mAP50  mAP50-95): 100%|██████████| 3/3 [00:01<00:00,  1.61it/s]"
          ]
        },
        {
          "name": "stdout",
          "output_type": "stream",
          "text": [
            "                   all         89        206      0.411      0.538       0.42       0.23\n"
          ]
        },
        {
          "name": "stderr",
          "output_type": "stream",
          "text": [
            "\n"
          ]
        },
        {
          "name": "stdout",
          "output_type": "stream",
          "text": [
            "\n",
            "      Epoch    GPU_mem   box_loss   cls_loss   dfl_loss  Instances       Size\n"
          ]
        },
        {
          "name": "stderr",
          "output_type": "stream",
          "text": [
            "       9/50       2.2G      1.184      1.601      1.487         48        640: 100%|██████████| 59/59 [00:17<00:00,  3.31it/s]\n",
            "                 Class     Images  Instances      Box(P          R      mAP50  mAP50-95): 100%|██████████| 3/3 [00:01<00:00,  1.59it/s]"
          ]
        },
        {
          "name": "stdout",
          "output_type": "stream",
          "text": [
            "                   all         89        206      0.499      0.579      0.502      0.257\n"
          ]
        },
        {
          "name": "stderr",
          "output_type": "stream",
          "text": [
            "\n"
          ]
        },
        {
          "name": "stdout",
          "output_type": "stream",
          "text": [
            "\n",
            "      Epoch    GPU_mem   box_loss   cls_loss   dfl_loss  Instances       Size\n"
          ]
        },
        {
          "name": "stderr",
          "output_type": "stream",
          "text": [
            "      10/50      2.18G      1.181       1.56      1.466         39        640: 100%|██████████| 59/59 [00:18<00:00,  3.23it/s]\n",
            "                 Class     Images  Instances      Box(P          R      mAP50  mAP50-95): 100%|██████████| 3/3 [00:01<00:00,  2.53it/s]"
          ]
        },
        {
          "name": "stdout",
          "output_type": "stream",
          "text": [
            "                   all         89        206      0.566      0.628        0.6      0.331\n"
          ]
        },
        {
          "name": "stderr",
          "output_type": "stream",
          "text": [
            "\n"
          ]
        },
        {
          "name": "stdout",
          "output_type": "stream",
          "text": [
            "\n",
            "      Epoch    GPU_mem   box_loss   cls_loss   dfl_loss  Instances       Size\n"
          ]
        },
        {
          "name": "stderr",
          "output_type": "stream",
          "text": [
            "      11/50       2.2G      1.156      1.532      1.441         41        640: 100%|██████████| 59/59 [00:18<00:00,  3.17it/s]\n",
            "                 Class     Images  Instances      Box(P          R      mAP50  mAP50-95): 100%|██████████| 3/3 [00:00<00:00,  3.14it/s]"
          ]
        },
        {
          "name": "stdout",
          "output_type": "stream",
          "text": [
            "                   all         89        206      0.511      0.609      0.569      0.324\n"
          ]
        },
        {
          "name": "stderr",
          "output_type": "stream",
          "text": [
            "\n"
          ]
        },
        {
          "name": "stdout",
          "output_type": "stream",
          "text": [
            "\n",
            "      Epoch    GPU_mem   box_loss   cls_loss   dfl_loss  Instances       Size\n"
          ]
        },
        {
          "name": "stderr",
          "output_type": "stream",
          "text": [
            "      12/50       2.2G      1.146      1.545      1.447         35        640: 100%|██████████| 59/59 [00:19<00:00,  3.08it/s]\n",
            "                 Class     Images  Instances      Box(P          R      mAP50  mAP50-95): 100%|██████████| 3/3 [00:00<00:00,  3.24it/s]"
          ]
        },
        {
          "name": "stdout",
          "output_type": "stream",
          "text": [
            "                   all         89        206      0.538      0.637      0.609      0.352\n"
          ]
        },
        {
          "name": "stderr",
          "output_type": "stream",
          "text": [
            "\n"
          ]
        },
        {
          "name": "stdout",
          "output_type": "stream",
          "text": [
            "\n",
            "      Epoch    GPU_mem   box_loss   cls_loss   dfl_loss  Instances       Size\n"
          ]
        },
        {
          "name": "stderr",
          "output_type": "stream",
          "text": [
            "      13/50      2.21G      1.128       1.51      1.433         53        640: 100%|██████████| 59/59 [00:19<00:00,  3.03it/s]\n",
            "                 Class     Images  Instances      Box(P          R      mAP50  mAP50-95): 100%|██████████| 3/3 [00:01<00:00,  2.80it/s]"
          ]
        },
        {
          "name": "stdout",
          "output_type": "stream",
          "text": [
            "                   all         89        206      0.498      0.625      0.549      0.315\n"
          ]
        },
        {
          "name": "stderr",
          "output_type": "stream",
          "text": [
            "\n"
          ]
        },
        {
          "name": "stdout",
          "output_type": "stream",
          "text": [
            "\n",
            "      Epoch    GPU_mem   box_loss   cls_loss   dfl_loss  Instances       Size\n"
          ]
        },
        {
          "name": "stderr",
          "output_type": "stream",
          "text": [
            "      14/50      2.29G      1.105      1.495      1.406         55        640: 100%|██████████| 59/59 [00:18<00:00,  3.15it/s]\n",
            "                 Class     Images  Instances      Box(P          R      mAP50  mAP50-95): 100%|██████████| 3/3 [00:00<00:00,  3.17it/s]\n"
          ]
        },
        {
          "name": "stdout",
          "output_type": "stream",
          "text": [
            "                   all         89        206      0.462      0.611      0.516      0.295\n",
            "\n",
            "      Epoch    GPU_mem   box_loss   cls_loss   dfl_loss  Instances       Size\n"
          ]
        },
        {
          "name": "stderr",
          "output_type": "stream",
          "text": [
            "      15/50       2.2G      1.089      1.473      1.422         51        640: 100%|██████████| 59/59 [00:18<00:00,  3.12it/s]\n",
            "                 Class     Images  Instances      Box(P          R      mAP50  mAP50-95): 100%|██████████| 3/3 [00:00<00:00,  3.24it/s]"
          ]
        },
        {
          "name": "stdout",
          "output_type": "stream",
          "text": [
            "                   all         89        206      0.541      0.581      0.583      0.338\n"
          ]
        },
        {
          "name": "stderr",
          "output_type": "stream",
          "text": [
            "\n"
          ]
        },
        {
          "name": "stdout",
          "output_type": "stream",
          "text": [
            "\n",
            "      Epoch    GPU_mem   box_loss   cls_loss   dfl_loss  Instances       Size\n"
          ]
        },
        {
          "name": "stderr",
          "output_type": "stream",
          "text": [
            "      16/50       2.2G      1.086      1.449      1.407         36        640: 100%|██████████| 59/59 [00:19<00:00,  3.03it/s]\n",
            "                 Class     Images  Instances      Box(P          R      mAP50  mAP50-95): 100%|██████████| 3/3 [00:00<00:00,  3.62it/s]"
          ]
        },
        {
          "name": "stdout",
          "output_type": "stream",
          "text": [
            "                   all         89        206       0.66      0.542      0.569      0.339\n"
          ]
        },
        {
          "name": "stderr",
          "output_type": "stream",
          "text": [
            "\n"
          ]
        },
        {
          "name": "stdout",
          "output_type": "stream",
          "text": [
            "\n",
            "      Epoch    GPU_mem   box_loss   cls_loss   dfl_loss  Instances       Size\n"
          ]
        },
        {
          "name": "stderr",
          "output_type": "stream",
          "text": [
            "      17/50       2.2G      1.074      1.442      1.394         39        640: 100%|██████████| 59/59 [00:18<00:00,  3.14it/s]\n",
            "                 Class     Images  Instances      Box(P          R      mAP50  mAP50-95): 100%|██████████| 3/3 [00:00<00:00,  3.23it/s]"
          ]
        },
        {
          "name": "stdout",
          "output_type": "stream",
          "text": [
            "                   all         89        206      0.633      0.589      0.642      0.367\n"
          ]
        },
        {
          "name": "stderr",
          "output_type": "stream",
          "text": [
            "\n"
          ]
        },
        {
          "name": "stdout",
          "output_type": "stream",
          "text": [
            "\n",
            "      Epoch    GPU_mem   box_loss   cls_loss   dfl_loss  Instances       Size\n"
          ]
        },
        {
          "name": "stderr",
          "output_type": "stream",
          "text": [
            "      18/50      2.18G      1.068      1.408      1.391         25        640: 100%|██████████| 59/59 [00:19<00:00,  3.10it/s]\n",
            "                 Class     Images  Instances      Box(P          R      mAP50  mAP50-95): 100%|██████████| 3/3 [00:01<00:00,  2.89it/s]"
          ]
        },
        {
          "name": "stdout",
          "output_type": "stream",
          "text": [
            "                   all         89        206        0.6       0.59      0.644      0.364\n"
          ]
        },
        {
          "name": "stderr",
          "output_type": "stream",
          "text": [
            "\n"
          ]
        },
        {
          "name": "stdout",
          "output_type": "stream",
          "text": [
            "\n",
            "      Epoch    GPU_mem   box_loss   cls_loss   dfl_loss  Instances       Size\n"
          ]
        },
        {
          "name": "stderr",
          "output_type": "stream",
          "text": [
            "      19/50       2.2G       1.08       1.41      1.405         35        640: 100%|██████████| 59/59 [00:18<00:00,  3.12it/s]\n",
            "                 Class     Images  Instances      Box(P          R      mAP50  mAP50-95): 100%|██████████| 3/3 [00:00<00:00,  3.04it/s]"
          ]
        },
        {
          "name": "stdout",
          "output_type": "stream",
          "text": [
            "                   all         89        206      0.603      0.675      0.655      0.395\n"
          ]
        },
        {
          "name": "stderr",
          "output_type": "stream",
          "text": [
            "\n"
          ]
        },
        {
          "name": "stdout",
          "output_type": "stream",
          "text": [
            "\n",
            "      Epoch    GPU_mem   box_loss   cls_loss   dfl_loss  Instances       Size\n"
          ]
        },
        {
          "name": "stderr",
          "output_type": "stream",
          "text": [
            "      20/50      2.21G      1.066      1.386      1.394         49        640: 100%|██████████| 59/59 [00:19<00:00,  3.06it/s]\n",
            "                 Class     Images  Instances      Box(P          R      mAP50  mAP50-95): 100%|██████████| 3/3 [00:00<00:00,  3.43it/s]"
          ]
        },
        {
          "name": "stdout",
          "output_type": "stream",
          "text": [
            "                   all         89        206      0.683      0.611      0.668      0.398\n"
          ]
        },
        {
          "name": "stderr",
          "output_type": "stream",
          "text": [
            "\n"
          ]
        },
        {
          "name": "stdout",
          "output_type": "stream",
          "text": [
            "\n",
            "      Epoch    GPU_mem   box_loss   cls_loss   dfl_loss  Instances       Size\n"
          ]
        },
        {
          "name": "stderr",
          "output_type": "stream",
          "text": [
            "      21/50       2.2G      1.004       1.32      1.358         37        640: 100%|██████████| 59/59 [00:18<00:00,  3.16it/s]\n",
            "                 Class     Images  Instances      Box(P          R      mAP50  mAP50-95): 100%|██████████| 3/3 [00:01<00:00,  2.03it/s]"
          ]
        },
        {
          "name": "stdout",
          "output_type": "stream",
          "text": [
            "                   all         89        206      0.625      0.669      0.696      0.443\n"
          ]
        },
        {
          "name": "stderr",
          "output_type": "stream",
          "text": [
            "\n"
          ]
        },
        {
          "name": "stdout",
          "output_type": "stream",
          "text": [
            "\n",
            "      Epoch    GPU_mem   box_loss   cls_loss   dfl_loss  Instances       Size\n"
          ]
        },
        {
          "name": "stderr",
          "output_type": "stream",
          "text": [
            "      22/50       2.2G      1.007      1.286      1.338         56        640: 100%|██████████| 59/59 [00:18<00:00,  3.26it/s]\n",
            "                 Class     Images  Instances      Box(P          R      mAP50  mAP50-95): 100%|██████████| 3/3 [00:01<00:00,  1.81it/s]"
          ]
        },
        {
          "name": "stdout",
          "output_type": "stream",
          "text": [
            "                   all         89        206      0.496      0.667      0.595       0.35\n"
          ]
        },
        {
          "name": "stderr",
          "output_type": "stream",
          "text": [
            "\n"
          ]
        },
        {
          "name": "stdout",
          "output_type": "stream",
          "text": [
            "\n",
            "      Epoch    GPU_mem   box_loss   cls_loss   dfl_loss  Instances       Size\n"
          ]
        },
        {
          "name": "stderr",
          "output_type": "stream",
          "text": [
            "      23/50       2.2G      1.009      1.287      1.354         48        640: 100%|██████████| 59/59 [00:18<00:00,  3.21it/s]\n",
            "                 Class     Images  Instances      Box(P          R      mAP50  mAP50-95): 100%|██████████| 3/3 [00:01<00:00,  2.04it/s]"
          ]
        },
        {
          "name": "stdout",
          "output_type": "stream",
          "text": [
            "                   all         89        206      0.564      0.677      0.665      0.426\n"
          ]
        },
        {
          "name": "stderr",
          "output_type": "stream",
          "text": [
            "\n"
          ]
        },
        {
          "name": "stdout",
          "output_type": "stream",
          "text": [
            "\n",
            "      Epoch    GPU_mem   box_loss   cls_loss   dfl_loss  Instances       Size\n"
          ]
        },
        {
          "name": "stderr",
          "output_type": "stream",
          "text": [
            "      24/50      2.17G     0.9741      1.271      1.331         42        640: 100%|██████████| 59/59 [00:17<00:00,  3.32it/s]\n",
            "                 Class     Images  Instances      Box(P          R      mAP50  mAP50-95): 100%|██████████| 3/3 [00:01<00:00,  1.62it/s]"
          ]
        },
        {
          "name": "stdout",
          "output_type": "stream",
          "text": [
            "                   all         89        206      0.701      0.616      0.665       0.39\n"
          ]
        },
        {
          "name": "stderr",
          "output_type": "stream",
          "text": [
            "\n"
          ]
        },
        {
          "name": "stdout",
          "output_type": "stream",
          "text": [
            "\n",
            "      Epoch    GPU_mem   box_loss   cls_loss   dfl_loss  Instances       Size\n"
          ]
        },
        {
          "name": "stderr",
          "output_type": "stream",
          "text": [
            "      25/50       2.2G     0.9702      1.227      1.328         41        640: 100%|██████████| 59/59 [00:18<00:00,  3.24it/s]\n",
            "                 Class     Images  Instances      Box(P          R      mAP50  mAP50-95): 100%|██████████| 3/3 [00:01<00:00,  1.53it/s]"
          ]
        },
        {
          "name": "stdout",
          "output_type": "stream",
          "text": [
            "                   all         89        206      0.705      0.524       0.63      0.379\n"
          ]
        },
        {
          "name": "stderr",
          "output_type": "stream",
          "text": [
            "\n"
          ]
        },
        {
          "name": "stdout",
          "output_type": "stream",
          "text": [
            "\n",
            "      Epoch    GPU_mem   box_loss   cls_loss   dfl_loss  Instances       Size\n"
          ]
        },
        {
          "name": "stderr",
          "output_type": "stream",
          "text": [
            "      26/50      2.19G     0.9731      1.218       1.32         43        640: 100%|██████████| 59/59 [00:17<00:00,  3.29it/s]\n",
            "                 Class     Images  Instances      Box(P          R      mAP50  mAP50-95): 100%|██████████| 3/3 [00:01<00:00,  1.71it/s]"
          ]
        },
        {
          "name": "stdout",
          "output_type": "stream",
          "text": [
            "                   all         89        206      0.637      0.658      0.671      0.413\n"
          ]
        },
        {
          "name": "stderr",
          "output_type": "stream",
          "text": [
            "\n"
          ]
        },
        {
          "name": "stdout",
          "output_type": "stream",
          "text": [
            "\n",
            "      Epoch    GPU_mem   box_loss   cls_loss   dfl_loss  Instances       Size\n"
          ]
        },
        {
          "name": "stderr",
          "output_type": "stream",
          "text": [
            "      27/50      2.21G     0.9543      1.218      1.315         42        640: 100%|██████████| 59/59 [00:18<00:00,  3.18it/s]\n",
            "                 Class     Images  Instances      Box(P          R      mAP50  mAP50-95): 100%|██████████| 3/3 [00:01<00:00,  1.58it/s]"
          ]
        },
        {
          "name": "stdout",
          "output_type": "stream",
          "text": [
            "                   all         89        206       0.66      0.641      0.664       0.43\n"
          ]
        },
        {
          "name": "stderr",
          "output_type": "stream",
          "text": [
            "\n"
          ]
        },
        {
          "name": "stdout",
          "output_type": "stream",
          "text": [
            "\n",
            "      Epoch    GPU_mem   box_loss   cls_loss   dfl_loss  Instances       Size\n"
          ]
        },
        {
          "name": "stderr",
          "output_type": "stream",
          "text": [
            "      28/50       2.2G     0.9566      1.203      1.298         56        640: 100%|██████████| 59/59 [00:18<00:00,  3.18it/s]\n",
            "                 Class     Images  Instances      Box(P          R      mAP50  mAP50-95): 100%|██████████| 3/3 [00:01<00:00,  1.62it/s]"
          ]
        },
        {
          "name": "stdout",
          "output_type": "stream",
          "text": [
            "                   all         89        206      0.669      0.604      0.665      0.408\n"
          ]
        },
        {
          "name": "stderr",
          "output_type": "stream",
          "text": [
            "\n"
          ]
        },
        {
          "name": "stdout",
          "output_type": "stream",
          "text": [
            "\n",
            "      Epoch    GPU_mem   box_loss   cls_loss   dfl_loss  Instances       Size\n"
          ]
        },
        {
          "name": "stderr",
          "output_type": "stream",
          "text": [
            "      29/50       2.2G      0.956      1.198      1.321         59        640: 100%|██████████| 59/59 [00:18<00:00,  3.17it/s]\n",
            "                 Class     Images  Instances      Box(P          R      mAP50  mAP50-95): 100%|██████████| 3/3 [00:01<00:00,  2.63it/s]"
          ]
        },
        {
          "name": "stdout",
          "output_type": "stream",
          "text": [
            "                   all         89        206      0.627       0.68      0.697      0.448\n"
          ]
        },
        {
          "name": "stderr",
          "output_type": "stream",
          "text": [
            "\n"
          ]
        },
        {
          "name": "stdout",
          "output_type": "stream",
          "text": [
            "\n",
            "      Epoch    GPU_mem   box_loss   cls_loss   dfl_loss  Instances       Size\n"
          ]
        },
        {
          "name": "stderr",
          "output_type": "stream",
          "text": [
            "      30/50       2.2G     0.9217       1.15      1.285         53        640: 100%|██████████| 59/59 [00:19<00:00,  3.07it/s]\n",
            "                 Class     Images  Instances      Box(P          R      mAP50  mAP50-95): 100%|██████████| 3/3 [00:00<00:00,  3.18it/s]"
          ]
        },
        {
          "name": "stdout",
          "output_type": "stream",
          "text": [
            "                   all         89        206      0.599      0.713      0.701      0.451\n"
          ]
        },
        {
          "name": "stderr",
          "output_type": "stream",
          "text": [
            "\n"
          ]
        },
        {
          "name": "stdout",
          "output_type": "stream",
          "text": [
            "\n",
            "      Epoch    GPU_mem   box_loss   cls_loss   dfl_loss  Instances       Size\n"
          ]
        },
        {
          "name": "stderr",
          "output_type": "stream",
          "text": [
            "      31/50      2.21G     0.9131       1.16      1.297         70        640: 100%|██████████| 59/59 [00:18<00:00,  3.11it/s]\n",
            "                 Class     Images  Instances      Box(P          R      mAP50  mAP50-95): 100%|██████████| 3/3 [00:01<00:00,  2.98it/s]"
          ]
        },
        {
          "name": "stdout",
          "output_type": "stream",
          "text": [
            "                   all         89        206      0.624      0.615      0.639      0.409\n"
          ]
        },
        {
          "name": "stderr",
          "output_type": "stream",
          "text": [
            "\n"
          ]
        },
        {
          "name": "stdout",
          "output_type": "stream",
          "text": [
            "\n",
            "      Epoch    GPU_mem   box_loss   cls_loss   dfl_loss  Instances       Size\n"
          ]
        },
        {
          "name": "stderr",
          "output_type": "stream",
          "text": [
            "      32/50      2.21G     0.9302      1.158      1.299         40        640: 100%|██████████| 59/59 [00:19<00:00,  3.05it/s]\n",
            "                 Class     Images  Instances      Box(P          R      mAP50  mAP50-95): 100%|██████████| 3/3 [00:00<00:00,  3.02it/s]"
          ]
        },
        {
          "name": "stdout",
          "output_type": "stream",
          "text": [
            "                   all         89        206      0.598      0.656      0.671      0.437\n"
          ]
        },
        {
          "name": "stderr",
          "output_type": "stream",
          "text": [
            "\n"
          ]
        },
        {
          "name": "stdout",
          "output_type": "stream",
          "text": [
            "\n",
            "      Epoch    GPU_mem   box_loss   cls_loss   dfl_loss  Instances       Size\n"
          ]
        },
        {
          "name": "stderr",
          "output_type": "stream",
          "text": [
            "      33/50      2.21G     0.8924      1.129      1.287         40        640: 100%|██████████| 59/59 [00:19<00:00,  2.99it/s]\n",
            "                 Class     Images  Instances      Box(P          R      mAP50  mAP50-95): 100%|██████████| 3/3 [00:00<00:00,  3.29it/s]"
          ]
        },
        {
          "name": "stdout",
          "output_type": "stream",
          "text": [
            "                   all         89        206      0.686      0.613      0.684      0.432\n"
          ]
        },
        {
          "name": "stderr",
          "output_type": "stream",
          "text": [
            "\n"
          ]
        },
        {
          "name": "stdout",
          "output_type": "stream",
          "text": [
            "\n",
            "      Epoch    GPU_mem   box_loss   cls_loss   dfl_loss  Instances       Size\n"
          ]
        },
        {
          "name": "stderr",
          "output_type": "stream",
          "text": [
            "      34/50      2.29G     0.8916      1.114      1.276         50        640: 100%|██████████| 59/59 [00:19<00:00,  3.03it/s]\n",
            "                 Class     Images  Instances      Box(P          R      mAP50  mAP50-95): 100%|██████████| 3/3 [00:01<00:00,  2.89it/s]\n"
          ]
        },
        {
          "name": "stdout",
          "output_type": "stream",
          "text": [
            "                   all         89        206      0.602      0.707      0.706      0.455\n",
            "\n",
            "      Epoch    GPU_mem   box_loss   cls_loss   dfl_loss  Instances       Size\n"
          ]
        },
        {
          "name": "stderr",
          "output_type": "stream",
          "text": [
            "      35/50      2.21G     0.8919      1.095      1.275         47        640: 100%|██████████| 59/59 [00:19<00:00,  3.10it/s]\n",
            "                 Class     Images  Instances      Box(P          R      mAP50  mAP50-95): 100%|██████████| 3/3 [00:00<00:00,  3.26it/s]"
          ]
        },
        {
          "name": "stdout",
          "output_type": "stream",
          "text": [
            "                   all         89        206      0.753      0.577      0.701      0.438\n"
          ]
        },
        {
          "name": "stderr",
          "output_type": "stream",
          "text": [
            "\n"
          ]
        },
        {
          "name": "stdout",
          "output_type": "stream",
          "text": [
            "\n",
            "      Epoch    GPU_mem   box_loss   cls_loss   dfl_loss  Instances       Size\n"
          ]
        },
        {
          "name": "stderr",
          "output_type": "stream",
          "text": [
            "      36/50      2.21G     0.8658       1.07       1.26         70        640: 100%|██████████| 59/59 [00:19<00:00,  3.03it/s]\n",
            "                 Class     Images  Instances      Box(P          R      mAP50  mAP50-95): 100%|██████████| 3/3 [00:00<00:00,  3.06it/s]"
          ]
        },
        {
          "name": "stdout",
          "output_type": "stream",
          "text": [
            "                   all         89        206      0.663      0.665      0.701      0.435\n"
          ]
        },
        {
          "name": "stderr",
          "output_type": "stream",
          "text": [
            "\n"
          ]
        },
        {
          "name": "stdout",
          "output_type": "stream",
          "text": [
            "\n",
            "      Epoch    GPU_mem   box_loss   cls_loss   dfl_loss  Instances       Size\n"
          ]
        },
        {
          "name": "stderr",
          "output_type": "stream",
          "text": [
            "      37/50      2.25G     0.8586      1.042      1.238         44        640: 100%|██████████| 59/59 [00:19<00:00,  3.10it/s]\n",
            "                 Class     Images  Instances      Box(P          R      mAP50  mAP50-95): 100%|██████████| 3/3 [00:00<00:00,  3.18it/s]"
          ]
        },
        {
          "name": "stdout",
          "output_type": "stream",
          "text": [
            "                   all         89        206       0.73      0.671      0.739      0.467\n"
          ]
        },
        {
          "name": "stderr",
          "output_type": "stream",
          "text": [
            "\n"
          ]
        },
        {
          "name": "stdout",
          "output_type": "stream",
          "text": [
            "\n",
            "      Epoch    GPU_mem   box_loss   cls_loss   dfl_loss  Instances       Size\n"
          ]
        },
        {
          "name": "stderr",
          "output_type": "stream",
          "text": [
            "      38/50       2.2G     0.8401      1.025      1.236         60        640: 100%|██████████| 59/59 [00:18<00:00,  3.15it/s]\n",
            "                 Class     Images  Instances      Box(P          R      mAP50  mAP50-95): 100%|██████████| 3/3 [00:00<00:00,  3.21it/s]"
          ]
        },
        {
          "name": "stdout",
          "output_type": "stream",
          "text": [
            "                   all         89        206      0.715      0.682      0.745      0.484\n"
          ]
        },
        {
          "name": "stderr",
          "output_type": "stream",
          "text": [
            "\n"
          ]
        },
        {
          "name": "stdout",
          "output_type": "stream",
          "text": [
            "\n",
            "      Epoch    GPU_mem   box_loss   cls_loss   dfl_loss  Instances       Size\n"
          ]
        },
        {
          "name": "stderr",
          "output_type": "stream",
          "text": [
            "      39/50       2.2G     0.8294      1.017      1.236         34        640: 100%|██████████| 59/59 [00:18<00:00,  3.16it/s]\n",
            "                 Class     Images  Instances      Box(P          R      mAP50  mAP50-95): 100%|██████████| 3/3 [00:00<00:00,  3.39it/s]"
          ]
        },
        {
          "name": "stdout",
          "output_type": "stream",
          "text": [
            "                   all         89        206      0.615       0.71      0.725      0.475\n"
          ]
        },
        {
          "name": "stderr",
          "output_type": "stream",
          "text": [
            "\n"
          ]
        },
        {
          "name": "stdout",
          "output_type": "stream",
          "text": [
            "\n",
            "      Epoch    GPU_mem   box_loss   cls_loss   dfl_loss  Instances       Size\n"
          ]
        },
        {
          "name": "stderr",
          "output_type": "stream",
          "text": [
            "      40/50       2.2G     0.8331      1.016      1.232         37        640: 100%|██████████| 59/59 [00:18<00:00,  3.15it/s]\n",
            "                 Class     Images  Instances      Box(P          R      mAP50  mAP50-95): 100%|██████████| 3/3 [00:01<00:00,  2.65it/s]"
          ]
        },
        {
          "name": "stdout",
          "output_type": "stream",
          "text": [
            "                   all         89        206      0.651      0.738      0.741      0.489\n"
          ]
        },
        {
          "name": "stderr",
          "output_type": "stream",
          "text": [
            "\n"
          ]
        },
        {
          "name": "stdout",
          "output_type": "stream",
          "text": [
            "Closing dataloader mosaic\n",
            "\u001b[34m\u001b[1malbumentations: \u001b[0mBlur(p=0.01, blur_limit=(3, 7)), MedianBlur(p=0.01, blur_limit=(3, 7)), ToGray(p=0.01), CLAHE(p=0.01, clip_limit=(1, 4.0), tile_grid_size=(8, 8))\n"
          ]
        },
        {
          "name": "stderr",
          "output_type": "stream",
          "text": [
            "/usr/lib/python3.10/multiprocessing/popen_fork.py:66: RuntimeWarning: os.fork() was called. os.fork() is incompatible with multithreaded code, and JAX is multithreaded, so this will likely lead to a deadlock.\n",
            "  self.pid = os.fork()\n"
          ]
        },
        {
          "name": "stdout",
          "output_type": "stream",
          "text": [
            "\n",
            "      Epoch    GPU_mem   box_loss   cls_loss   dfl_loss  Instances       Size\n"
          ]
        },
        {
          "name": "stderr",
          "output_type": "stream",
          "text": [
            "      41/50      2.21G     0.7698     0.8862      1.238         24        640: 100%|██████████| 59/59 [00:20<00:00,  2.83it/s]\n",
            "                 Class     Images  Instances      Box(P          R      mAP50  mAP50-95): 100%|██████████| 3/3 [00:02<00:00,  1.47it/s]"
          ]
        },
        {
          "name": "stdout",
          "output_type": "stream",
          "text": [
            "                   all         89        206      0.587      0.703      0.708      0.454\n"
          ]
        },
        {
          "name": "stderr",
          "output_type": "stream",
          "text": [
            "\n"
          ]
        },
        {
          "name": "stdout",
          "output_type": "stream",
          "text": [
            "\n",
            "      Epoch    GPU_mem   box_loss   cls_loss   dfl_loss  Instances       Size\n"
          ]
        },
        {
          "name": "stderr",
          "output_type": "stream",
          "text": [
            "      42/50      2.17G     0.7268     0.7921      1.204         31        640: 100%|██████████| 59/59 [00:16<00:00,  3.52it/s]\n",
            "                 Class     Images  Instances      Box(P          R      mAP50  mAP50-95): 100%|██████████| 3/3 [00:01<00:00,  1.68it/s]"
          ]
        },
        {
          "name": "stdout",
          "output_type": "stream",
          "text": [
            "                   all         89        206      0.755       0.59      0.711      0.441\n"
          ]
        },
        {
          "name": "stderr",
          "output_type": "stream",
          "text": [
            "\n"
          ]
        },
        {
          "name": "stdout",
          "output_type": "stream",
          "text": [
            "\n",
            "      Epoch    GPU_mem   box_loss   cls_loss   dfl_loss  Instances       Size\n"
          ]
        },
        {
          "name": "stderr",
          "output_type": "stream",
          "text": [
            "      43/50      2.17G     0.6919     0.7475      1.178         21        640: 100%|██████████| 59/59 [00:16<00:00,  3.55it/s]\n",
            "                 Class     Images  Instances      Box(P          R      mAP50  mAP50-95): 100%|██████████| 3/3 [00:01<00:00,  1.80it/s]"
          ]
        },
        {
          "name": "stdout",
          "output_type": "stream",
          "text": [
            "                   all         89        206      0.736      0.661      0.748      0.489\n"
          ]
        },
        {
          "name": "stderr",
          "output_type": "stream",
          "text": [
            "\n"
          ]
        },
        {
          "name": "stdout",
          "output_type": "stream",
          "text": [
            "\n",
            "      Epoch    GPU_mem   box_loss   cls_loss   dfl_loss  Instances       Size\n"
          ]
        },
        {
          "name": "stderr",
          "output_type": "stream",
          "text": [
            "      44/50       2.2G     0.6991     0.7381      1.182         17        640: 100%|██████████| 59/59 [00:16<00:00,  3.59it/s]\n",
            "                 Class     Images  Instances      Box(P          R      mAP50  mAP50-95): 100%|██████████| 3/3 [00:01<00:00,  1.52it/s]"
          ]
        },
        {
          "name": "stdout",
          "output_type": "stream",
          "text": [
            "                   all         89        206      0.651      0.713      0.734      0.495\n"
          ]
        },
        {
          "name": "stderr",
          "output_type": "stream",
          "text": [
            "\n"
          ]
        },
        {
          "name": "stdout",
          "output_type": "stream",
          "text": [
            "\n",
            "      Epoch    GPU_mem   box_loss   cls_loss   dfl_loss  Instances       Size\n"
          ]
        },
        {
          "name": "stderr",
          "output_type": "stream",
          "text": [
            "      45/50      2.17G     0.6721     0.7212      1.177         17        640: 100%|██████████| 59/59 [00:16<00:00,  3.57it/s]\n",
            "                 Class     Images  Instances      Box(P          R      mAP50  mAP50-95): 100%|██████████| 3/3 [00:01<00:00,  1.60it/s]"
          ]
        },
        {
          "name": "stdout",
          "output_type": "stream",
          "text": [
            "                   all         89        206      0.561      0.717      0.705      0.472\n"
          ]
        },
        {
          "name": "stderr",
          "output_type": "stream",
          "text": [
            "\n"
          ]
        },
        {
          "name": "stdout",
          "output_type": "stream",
          "text": [
            "\n",
            "      Epoch    GPU_mem   box_loss   cls_loss   dfl_loss  Instances       Size\n"
          ]
        },
        {
          "name": "stderr",
          "output_type": "stream",
          "text": [
            "      46/50       2.2G      0.655     0.6809      1.152         28        640: 100%|██████████| 59/59 [00:16<00:00,  3.54it/s]\n",
            "                 Class     Images  Instances      Box(P          R      mAP50  mAP50-95): 100%|██████████| 3/3 [00:01<00:00,  1.71it/s]"
          ]
        },
        {
          "name": "stdout",
          "output_type": "stream",
          "text": [
            "                   all         89        206      0.656      0.703      0.749      0.486\n"
          ]
        },
        {
          "name": "stderr",
          "output_type": "stream",
          "text": [
            "\n"
          ]
        },
        {
          "name": "stdout",
          "output_type": "stream",
          "text": [
            "\n",
            "      Epoch    GPU_mem   box_loss   cls_loss   dfl_loss  Instances       Size\n"
          ]
        },
        {
          "name": "stderr",
          "output_type": "stream",
          "text": [
            "      47/50      2.18G     0.6512     0.6817      1.159         37        640: 100%|██████████| 59/59 [00:16<00:00,  3.50it/s]\n",
            "                 Class     Images  Instances      Box(P          R      mAP50  mAP50-95): 100%|██████████| 3/3 [00:01<00:00,  1.86it/s]"
          ]
        },
        {
          "name": "stdout",
          "output_type": "stream",
          "text": [
            "                   all         89        206      0.703      0.654      0.724      0.491\n"
          ]
        },
        {
          "name": "stderr",
          "output_type": "stream",
          "text": [
            "\n"
          ]
        },
        {
          "name": "stdout",
          "output_type": "stream",
          "text": [
            "\n",
            "      Epoch    GPU_mem   box_loss   cls_loss   dfl_loss  Instances       Size\n"
          ]
        },
        {
          "name": "stderr",
          "output_type": "stream",
          "text": [
            "      48/50      2.16G     0.6326      0.654      1.132         25        640: 100%|██████████| 59/59 [00:17<00:00,  3.37it/s]\n",
            "                 Class     Images  Instances      Box(P          R      mAP50  mAP50-95): 100%|██████████| 3/3 [00:01<00:00,  1.79it/s]"
          ]
        },
        {
          "name": "stdout",
          "output_type": "stream",
          "text": [
            "                   all         89        206      0.673      0.715      0.752      0.503\n"
          ]
        },
        {
          "name": "stderr",
          "output_type": "stream",
          "text": [
            "\n"
          ]
        },
        {
          "name": "stdout",
          "output_type": "stream",
          "text": [
            "\n",
            "      Epoch    GPU_mem   box_loss   cls_loss   dfl_loss  Instances       Size\n"
          ]
        },
        {
          "name": "stderr",
          "output_type": "stream",
          "text": [
            "      49/50      2.18G     0.6305     0.6469      1.133         35        640: 100%|██████████| 59/59 [00:17<00:00,  3.37it/s]\n",
            "                 Class     Images  Instances      Box(P          R      mAP50  mAP50-95): 100%|██████████| 3/3 [00:01<00:00,  1.52it/s]"
          ]
        },
        {
          "name": "stdout",
          "output_type": "stream",
          "text": [
            "                   all         89        206       0.64      0.744      0.762      0.504\n"
          ]
        },
        {
          "name": "stderr",
          "output_type": "stream",
          "text": [
            "\n"
          ]
        },
        {
          "name": "stdout",
          "output_type": "stream",
          "text": [
            "\n",
            "      Epoch    GPU_mem   box_loss   cls_loss   dfl_loss  Instances       Size\n"
          ]
        },
        {
          "name": "stderr",
          "output_type": "stream",
          "text": [
            "      50/50      2.17G     0.6138     0.6343      1.118         13        640: 100%|██████████| 59/59 [00:16<00:00,  3.48it/s]\n",
            "                 Class     Images  Instances      Box(P          R      mAP50  mAP50-95): 100%|██████████| 3/3 [00:01<00:00,  1.67it/s]"
          ]
        },
        {
          "name": "stdout",
          "output_type": "stream",
          "text": [
            "                   all         89        206      0.777      0.617      0.757      0.505\n"
          ]
        },
        {
          "name": "stderr",
          "output_type": "stream",
          "text": [
            "\n"
          ]
        },
        {
          "name": "stdout",
          "output_type": "stream",
          "text": [
            "\n",
            "50 epochs completed in 0.292 hours.\n",
            "Optimizer stripped from runs/detect/yolov8n_502/weights/last.pt, 6.3MB\n",
            "Optimizer stripped from runs/detect/yolov8n_502/weights/best.pt, 6.3MB\n",
            "\n",
            "Validating runs/detect/yolov8n_502/weights/best.pt...\n",
            "Ultralytics YOLOv8.2.86 🚀 Python-3.10.12 torch-2.4.0+cu121 CUDA:0 (Tesla T4, 15102MiB)\n",
            "Model summary (fused): 168 layers, 3,006,038 parameters, 0 gradients, 8.1 GFLOPs\n"
          ]
        },
        {
          "name": "stderr",
          "output_type": "stream",
          "text": [
            "                 Class     Images  Instances      Box(P          R      mAP50  mAP50-95): 100%|██████████| 3/3 [00:01<00:00,  1.85it/s]\n"
          ]
        },
        {
          "name": "stdout",
          "output_type": "stream",
          "text": [
            "                   all         89        206      0.776      0.617      0.756      0.505\n",
            "                 adult         46         93        0.8       0.57      0.725      0.499\n",
            "                 child         57        113      0.751      0.664      0.787      0.512\n",
            "Speed: 0.3ms preprocess, 2.5ms inference, 0.0ms loss, 2.4ms postprocess per image\n",
            "Results saved to \u001b[1mruns/detect/yolov8n_502\u001b[0m\n"
          ]
        }
      ],
      "source": [
        "from ultralytics import YOLO\n",
        "\n",
        "# Load the model.\n",
        "model = YOLO('/content/runs/detect/yolov8n_50/weights/best.pt')\n",
        "\n",
        "# Training.\n",
        "results = model.train(\n",
        "   data='data.yaml',\n",
        "   imgsz=640,\n",
        "   epochs=50,\n",
        "   batch=16,\n",
        "   name='yolov8n_50')"
      ]
    }
  ],
  "metadata": {
    "accelerator": "GPU",
    "colab": {
      "gpuType": "T4",
      "provenance": []
    },
    "kernelspec": {
      "display_name": "Python 3",
      "name": "python3"
    },
    "language_info": {
      "name": "python"
    }
  },
  "nbformat": 4,
  "nbformat_minor": 0
}
